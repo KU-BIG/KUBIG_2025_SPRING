{
  "nbformat": 4,
  "nbformat_minor": 0,
  "metadata": {
    "colab": {
      "provenance": []
    },
    "kernelspec": {
      "name": "python3",
      "display_name": "Python 3"
    },
    "language_info": {
      "name": "python"
    }
  },
  "cells": [
    {
      "cell_type": "markdown",
      "source": [
        "### 원본 데이터 불러오기"
      ],
      "metadata": {
        "id": "5BFE6EpARXU5"
      }
    },
    {
      "cell_type": "code",
      "execution_count": null,
      "metadata": {
        "id": "OAukZ6pORTfu"
      },
      "outputs": [],
      "source": [
        "import pickle\n",
        "import pandas as pd\n",
        "\n",
        "pothole_coor = pd.read_pickle(\"/content/drive/MyDrive/DATA_전처리/pothole_coordinates.pickle\")\n",
        "pothole_dongs = pd.read_pickle(\"/content/drive/MyDrive/DATA_전처리/pothole_dongs.pickle\")\n",
        "pothole_final = pd.read_pickle(\"/content/drive/MyDrive/DATA_전처리/pothole_final3.pickle\")"
      ]
    },
    {
      "cell_type": "markdown",
      "source": [
        "### 교통량 병합"
      ],
      "metadata": {
        "id": "Tb-diyauR6yW"
      }
    },
    {
      "cell_type": "code",
      "source": [
        "import geopandas as gpd"
      ],
      "metadata": {
        "id": "Ez8KaILOR-7D"
      },
      "execution_count": null,
      "outputs": []
    },
    {
      "cell_type": "code",
      "source": [
        "gdf_potholes = gpd.GeoDataFrame(\n",
        "    pothole_final,\n",
        "    geometry=gpd.points_from_xy(pothole_final['경도'], pothole_final['위도']),\n",
        "    crs=\"EPSG:4326\"  # 위/경도 WGS84 좌표계로 설정\n",
        ")"
      ],
      "metadata": {
        "id": "6g3TFY7XSBeO"
      },
      "execution_count": null,
      "outputs": []
    },
    {
      "cell_type": "code",
      "source": [
        "gdf_links = gpd.read_file('/content/drive/MyDrive/DATA_원본/[2024-02-23]NODELINKDATA/MOCT_LINK.shp', encoding='euc-kr')\n",
        "# 링크 ID 컬럼을 숫자형으로 변환 (문자형일 경우 대비)\n",
        "gdf_links['LINK_ID'] = gdf_links['LINK_ID'].astype(int)\n",
        "\n",
        "# 1-3. 좌표계 통일: 포트홀 점들을 도로 링크의 좌표계로 변환 (링크 데이터는 평면 좌표계 사용)\n",
        "if gdf_links.crs is not None:\n",
        "    gdf_potholes = gdf_potholes.to_crs(gdf_links.crs)"
      ],
      "metadata": {
        "id": "ULo57J80SCGr"
      },
      "execution_count": null,
      "outputs": []
    },
    {
      "cell_type": "code",
      "source": [
        "gdf_nearest = gpd.sjoin_nearest(\n",
        "    gdf_potholes, gdf_links,\n",
        "    how='left',\n",
        "    distance_col='distance'  # 계산한 거리(미터) 확인\n",
        ")\n",
        "\n",
        "gdf_nearest[['LINK_ID', 'distance']]"
      ],
      "metadata": {
        "id": "XVg8aMjuSC4O"
      },
      "execution_count": null,
      "outputs": []
    },
    {
      "cell_type": "code",
      "source": [
        "traffic_d = pd.read_excel('/content/drive/MyDrive/DATA_원본/TrafficVolume(LINK).xlsx', header=[0, 1])"
      ],
      "metadata": {
        "id": "FV-CLzHySEXA"
      },
      "execution_count": null,
      "outputs": []
    },
    {
      "cell_type": "code",
      "source": [
        "traffic_d.columns = [\n",
        "    f\"{upper}\" if 'Unnamed' in str(lower) else f\"{upper}_{lower}\"\n",
        "    for upper, lower in traffic_d.columns\n",
        "]"
      ],
      "metadata": {
        "id": "9ZVaOmq2SFfk"
      },
      "execution_count": null,
      "outputs": []
    },
    {
      "cell_type": "code",
      "source": [
        "traffic_d.rename(columns={\n",
        "    'ITS LINK ID': 'ITS_LINK_ID',\n",
        "    '승용차-평일_전일': '승용차',\n",
        "    '버스-평일_전일': '버스',\n",
        "    '트럭-평일_전일': '트럭'\n",
        "}, inplace=True)\n",
        "\n",
        "# ITS_LINK_ID가 쉼표로 연결된 경우를 리스트로 변환\n",
        "traffic_d['ITS_LINK_ID'] = traffic_d['ITS_LINK_ID'].astype(str).str.split(',')\n",
        "\n",
        "# 각 링크 ID마다 하나의 행 생성\n",
        "traffic_d = traffic_d.explode('ITS_LINK_ID')\n",
        "\n",
        "# 링크 ID를 정수형으로 변환 (필요시 공백 제거 후 처리)\n",
        "traffic_d['LINK_ID'] = traffic_d['ITS_LINK_ID'].str.strip().astype(int)\n",
        "\n",
        "traffic_df = traffic_d[['LINK_ID', '도로명', '차선수', '승용차', '버스', '트럭']].copy()"
      ],
      "metadata": {
        "id": "nA5Q6r1eSGdW"
      },
      "execution_count": null,
      "outputs": []
    },
    {
      "cell_type": "code",
      "source": [
        "traffic_df = (\n",
        "    traffic_df\n",
        "    .dropna(subset=['LINK_ID'])                 # 결측 제거\n",
        "    .drop_duplicates('LINK_ID')                # 중복 제거\n",
        "    .reset_index(drop=True)                    # 인덱스 초기화\n",
        "    .astype({'LINK_ID': 'int'})                # 정수형 확정\n",
        ")\n",
        "\n",
        "print(traffic_df.head())\n",
        "print(\"✔️ LINK_ID 유니크 여부:\", traffic_df['LINK_ID'].is_unique)"
      ],
      "metadata": {
        "id": "lReOJPWQSJr2"
      },
      "execution_count": null,
      "outputs": []
    },
    {
      "cell_type": "code",
      "source": [
        "# 1. 총교통량 = 승용차 + 버스 + 트럭\n",
        "traffic_df['총교통량'] = traffic_df['승용차'] + traffic_df['버스'] + traffic_df['트럭']\n",
        "\n",
        "# 2. 중대형차량 교통량 비율 = (버스 + 트럭) / 총교통량\n",
        "traffic_df['중대형차량 교통량'] = (traffic_df['버스'] + traffic_df['트럭']) / traffic_df['총교통량']\n",
        "\n",
        "traffic_df.head(10)"
      ],
      "metadata": {
        "id": "o6gEoz80SLIP"
      },
      "execution_count": null,
      "outputs": []
    },
    {
      "cell_type": "code",
      "source": [
        "# 포트홀 데이터와 교통량 데이터 병합 (링크 ID 기준)\n",
        "pothole_traffic = gdf_nearest.merge(traffic_df, on='LINK_ID', how='outer')\n",
        "\n",
        "pothole_traffic"
      ],
      "metadata": {
        "id": "OqLae4JzSMB3"
      },
      "execution_count": null,
      "outputs": []
    },
    {
      "cell_type": "code",
      "source": [
        "# 등록번호가 NaN인 행 추출\n",
        "only_traffic = pothole_traffic['등록번호'].isna().sum()\n",
        "\n",
        "print(\"포트홀 미발생지역 교통량 데이터 수:\", only_traffic)"
      ],
      "metadata": {
        "id": "SDgbfE82SNlZ"
      },
      "execution_count": null,
      "outputs": []
    },
    {
      "cell_type": "code",
      "source": [
        "# 포트홀 데이터 중 총교통량이 누락된 경우가 있는지 확인\n",
        "missing_traffic_info = pothole_traffic['총교통량'].isna().sum()\n",
        "\n",
        "print(\"교통량이 없는 포트홀 위치:\", missing_traffic_info)"
      ],
      "metadata": {
        "id": "mHm7zN6FSOLT"
      },
      "execution_count": null,
      "outputs": []
    },
    {
      "cell_type": "markdown",
      "source": [
        "### 포트홀 미발생지역 좌표변환"
      ],
      "metadata": {
        "id": "KeqcFsqQSOkn"
      }
    },
    {
      "cell_type": "code",
      "source": [
        "# 포트홀 발생 정보를 나타내는 컬럼(예: '등록번호')가 NaN인 경우, 포트홀이 없는 데이터\n",
        "no_pothole_df = pothole_traffic[pothole_traffic['등록번호'].isna()].copy()\n",
        "\n",
        "# 포트홀이 없는 데이터에서 고유한 LINK_ID 추출\n",
        "traffic_link_ids = no_pothole_df['LINK_ID'].unique()\n",
        "\n",
        "# 전체 도로 링크 셰이프파일(gdf_link)에서, 포트홀이 없는 데이터에 해당하는 LINK_ID만 필터링\n",
        "gdf_link_subset = gdf_links[gdf_links['LINK_ID'].isin(traffic_link_ids)].copy()\n",
        "\n",
        "if gdf_link_subset.crs != \"EPSG:4326\":\n",
        "    gdf_link_subset = gdf_link_subset.to_crs(\"EPSG:4326\")\n",
        "\n",
        "# 각 도로 링크의 대표 좌표(centroid)를 계산하고, 경도(lon)와 위도(lat) 추출\n",
        "gdf_link_subset['centroid'] = gdf_link_subset.geometry.centroid\n",
        "gdf_link_subset['lon'] = gdf_link_subset.centroid.x\n",
        "gdf_link_subset['lat'] = gdf_link_subset.centroid.y\n",
        "\n",
        "pothole_traffic = pothole_traffic.merge(\n",
        "    gdf_link_subset[['LINK_ID', 'lon', 'lat']],\n",
        "    on='LINK_ID',\n",
        "    how='left',\n",
        "    suffixes=('', '_추가')  # 기존 lat/lon과 충돌하지 않게\n",
        ")"
      ],
      "metadata": {
        "id": "nCO8imK8SR_q"
      },
      "execution_count": null,
      "outputs": []
    },
    {
      "cell_type": "code",
      "source": [
        "# lan lon을 경위도로 대체\n",
        "pothole_traffic['경도'] = pothole_traffic['경도'].combine_first(pothole_traffic['lon'])\n",
        "pothole_traffic['위도'] = pothole_traffic['위도'].combine_first(pothole_traffic['lat'])\n",
        "\n",
        "pothole_traffic.drop(columns=['lon', 'lat'], inplace=True)\n",
        "# pothole_traffic.to_excel(\"포트홀 교통량.xlsx\", index=False)"
      ],
      "metadata": {
        "id": "h7M5HfTsSTUc"
      },
      "execution_count": null,
      "outputs": []
    },
    {
      "cell_type": "markdown",
      "source": [
        "### 교통량 보간"
      ],
      "metadata": {
        "id": "riirrgKeSUxj"
      }
    },
    {
      "cell_type": "markdown",
      "source": [
        "트럭 통행제한 도로의 경우 트럭, 버스 교통량 데이터가 결측 -> 제거"
      ],
      "metadata": {
        "id": "_bSrw9hhSXke"
      }
    },
    {
      "cell_type": "code",
      "source": [
        "pothole_traffic['REST_VEH'] = pd.to_numeric(pothole_traffic['REST_VEH'], errors='coerce')"
      ],
      "metadata": {
        "id": "94mMu0ugSV8x"
      },
      "execution_count": null,
      "outputs": []
    },
    {
      "cell_type": "code",
      "source": [
        "pothole_traffic = pothole_traffic.query('not ((REST_VEH == 4) and 트럭.isnull())')"
      ],
      "metadata": {
        "id": "fRMw06VbSZiq"
      },
      "execution_count": null,
      "outputs": []
    },
    {
      "cell_type": "markdown",
      "source": [
        "다차선 도로 보간"
      ],
      "metadata": {
        "id": "O6-4SWSDSaFJ"
      }
    },
    {
      "cell_type": "code",
      "source": [
        "pothole_traffic.query(\n",
        "    'LANES >= 2 and 총교통량.isnull()')"
      ],
      "metadata": {
        "id": "yjh9vL18ScLd"
      },
      "execution_count": null,
      "outputs": []
    },
    {
      "cell_type": "code",
      "source": [
        "import math\n",
        "from tqdm import tqdm\n",
        "\n",
        "# 1. Haversine 거리 계산 함수\n",
        "def haversine(lon1, lat1, lon2, lat2):\n",
        "    lon1, lat1, lon2, lat2 = map(math.radians, (lon1, lat1, lon2, lat2))\n",
        "    dlon, dlat = lon2 - lon1, lat2 - lat1\n",
        "    a = math.sin(dlat/2)**2 + math.cos(lat1)*math.cos(lat2)*math.sin(dlon/2)**2\n",
        "    return 2 * 6371000 * math.asin(math.sqrt(a))  # m 단위"
      ],
      "metadata": {
        "id": "w8xXn3cVSdj1"
      },
      "execution_count": null,
      "outputs": []
    },
    {
      "cell_type": "code",
      "source": [
        "# 2. 후보군(교통량이 있는 다차선 도로) 추출\n",
        "cand_mask = (\n",
        "    (pothole_traffic['LANES'] >= 2) &\n",
        "    pothole_traffic[['승용차','버스','트럭']].notna().all(axis=1)\n",
        ")\n",
        "candidates  = pothole_traffic[cand_mask].copy()\n",
        "cand_coords = candidates[['위도','경도']].to_numpy()\n",
        "cand_vals   = candidates[['승용차','버스','트럭']].to_numpy()\n",
        "\n",
        "# 3. 보간 대상(교통량이 하나라도 NaN인 다차선 도로)\n",
        "mask_missing = (\n",
        "    (pothole_traffic['LANES'] >= 2) &\n",
        "    (\n",
        "        pothole_traffic['승용차'].isnull() |\n",
        "        pothole_traffic['버스'].isnull() |\n",
        "        pothole_traffic['트럭'].isnull()\n",
        "    )\n",
        ")"
      ],
      "metadata": {
        "id": "3HLXTK-5Sek3"
      },
      "execution_count": null,
      "outputs": []
    },
    {
      "cell_type": "code",
      "source": [
        "# 4. 거리 기반 보간 수행\n",
        "for idx in tqdm(pothole_traffic[mask_missing].index, desc=\"보간 중\"):\n",
        "    row = pothole_traffic.loc[idx]\n",
        "    lat0, lon0 = row['위도'], row['경도']\n",
        "    if pd.isna(lat0) or pd.isna(lon0):\n",
        "        continue  # 위치 정보가 없으면 건너뜀\n",
        "\n",
        "    # 거리 계산\n",
        "    dists = np.array([\n",
        "        haversine(lon0, lat0, lon1, lat1)\n",
        "        for lat1, lon1 in cand_coords\n",
        "    ])\n",
        "    dists[dists == 0] = 1e-3  # 자기 자신일 경우 방지\n",
        "\n",
        "    # 최근접 5개 인덱스 및 가중치 계산\n",
        "    nn   = np.argsort(dists)[:5]\n",
        "    vals = cand_vals[nn]\n",
        "    ws   = 1 / dists[nn]\n",
        "    ws  /= ws.sum()\n",
        "\n",
        "    # 보간값 계산\n",
        "    imputed = np.dot(ws, vals)\n",
        "\n",
        "    # 결측된 값만 채움\n",
        "    for i, col in enumerate(['승용차', '버스', '트럭']):\n",
        "        if pd.isna(pothole_traffic.at[idx, col]):\n",
        "            pothole_traffic.at[idx, col] = imputed[i]\n",
        "\n",
        "# 5. 총교통량 및 중대형차량 교통량 계산\n",
        "pothole_traffic['총교통량'] = (\n",
        "    pothole_traffic['승용차'] + pothole_traffic['버스'] + pothole_traffic['트럭']\n",
        ")\n",
        "\n",
        "pothole_traffic['중대형차량 교통량'] = (\n",
        "    (pothole_traffic['버스'] + pothole_traffic['트럭']) / pothole_traffic['총교통량']\n",
        ")"
      ],
      "metadata": {
        "id": "mzqwpWSjSfjB"
      },
      "execution_count": null,
      "outputs": []
    },
    {
      "cell_type": "markdown",
      "source": [
        "1차선 도로 보간"
      ],
      "metadata": {
        "id": "rHM_RucPSgab"
      }
    },
    {
      "cell_type": "code",
      "source": [
        "# 1. 차선수별 평균 교통량 계산\n",
        "lane_groups = pothole_traffic.groupby('차선수')[['승용차','버스','트럭']].mean()\n",
        "lane_groups"
      ],
      "metadata": {
        "id": "TALrMPltShnB"
      },
      "execution_count": null,
      "outputs": []
    },
    {
      "cell_type": "code",
      "source": [
        "# 2. 1차선 대비 다차선 비율 계산 (1차선 평균 / n차선 평균)\n",
        "#    예: ratio_car[4] = avg(승용차@1차선) / avg(승용차@4차선)\n",
        "ratio_car  = lane_groups.loc[1,'승용차'] / lane_groups['승용차']\n",
        "ratio_bus  = lane_groups.loc[1,'버스']   / lane_groups['버스']\n",
        "ratio_truck= lane_groups.loc[1,'트럭']   / lane_groups['트럭']\n",
        "\n",
        "ratio_car # 인접한 도로가 6차선 도로라면 그 도로 교통량의 0.58을 곱한 값을 1차선 도로의 승용차 교통량으로 보간"
      ],
      "metadata": {
        "id": "rEyRDB68SjGB"
      },
      "execution_count": null,
      "outputs": []
    },
    {
      "cell_type": "code",
      "source": [
        "# 2. 1차선 대비 다차선 비율 계산 (1차선 평균 / n차선 평균)\n",
        "#    예: ratio_car[4] = avg(승용차@1차선) / avg(승용차@4차선)\n",
        "ratio_car  = lane_groups.loc[1,'승용차'] / lane_groups['승용차']\n",
        "ratio_bus  = lane_groups.loc[1,'버스']   / lane_groups['버스']\n",
        "ratio_truck= lane_groups.loc[1,'트럭']   / lane_groups['트럭']\n",
        "\n",
        "ratio_car # 인접한 도로가 6차선 도로라면 그 도로 교통량의 0.58을 곱한 값을 1차선 도로의 승용차 교통량으로 보간"
      ],
      "metadata": {
        "id": "FQkeTef1Sj69"
      },
      "execution_count": null,
      "outputs": []
    },
    {
      "cell_type": "code",
      "source": [
        "# 4. 보간 대상: “LANES==1” & 하나라도 NaN\n",
        "\n",
        "mask_missing = (pothole_traffic['LANES']==1) & (pothole_traffic[['승용차','버스','트럭']].isna().any(axis=1))"
      ],
      "metadata": {
        "id": "Vt58yyqMSlHn"
      },
      "execution_count": null,
      "outputs": []
    },
    {
      "cell_type": "code",
      "source": [
        "# 5. 보간 루프\n",
        "for idx in tqdm(pothole_traffic[mask_missing].index, desc=\"1차선 비율보간\"):\n",
        "    row = pothole_traffic.loc[idx]\n",
        "    lat0, lon0 = row['위도'], row['경도']\n",
        "    if pd.isna(lat0) or pd.isna(lon0):\n",
        "        continue\n",
        "\n",
        "    # 가장 인접한 도로 선택\n",
        "    dists = np.array([haversine(lon0, lat0, lon1, lat1)\n",
        "                      for lat1, lon1 in cand_coords])\n",
        "    nn = np.argmin(dists)\n",
        "\n",
        "    n_lane = cand_lane[nn]       # ex: 4차선\n",
        "    vals   = cand_vals[nn]       # ex: [400, 30, 40]\n",
        "\n",
        "    # 1차선 교통량 = 다차선 교통량 × (1차선평균/다차선평균)\n",
        "    imputed_car   = vals[0] * ratio_car.loc[n_lane]\n",
        "    imputed_bus   = vals[1] * ratio_bus.loc[n_lane]\n",
        "    imputed_truck = vals[2] * ratio_truck.loc[n_lane]\n",
        "\n",
        "    # NaN인 컬럼에만 채우기\n",
        "    if pd.isna(row['승용차']):    pothole_traffic.at[idx,'승용차'] = imputed_car\n",
        "    if pd.isna(row['버스']):      pothole_traffic.at[idx,'버스']   = imputed_bus\n",
        "    if pd.isna(row['트럭']):      pothole_traffic.at[idx,'트럭']   = imputed_truck\n",
        "\n",
        "# 6. 파생변수 재계산\n",
        "pothole_traffic['총교통량'] = pothole_traffic[['승용차','버스','트럭']].sum(axis=1)\n",
        "pothole_traffic['중대형차량 교통량'] = (\n",
        "    (pothole_traffic['버스']+pothole_traffic['트럭']) /\n",
        "    pothole_traffic['총교통량']\n",
        ")"
      ],
      "metadata": {
        "id": "S2_LGkr3SltJ"
      },
      "execution_count": null,
      "outputs": []
    },
    {
      "cell_type": "code",
      "source": [
        "# 경위도가 있는 값 중 교통량 보간여부 확인\n",
        "pothole_traffic[(pothole_traffic['위도'].notna()) & (pothole_traffic['총교통량'].isna())]"
      ],
      "metadata": {
        "id": "tK2D6_9ySnqw"
      },
      "execution_count": null,
      "outputs": []
    },
    {
      "cell_type": "code",
      "source": [
        "pothole_traffic[pothole_traffic[['승용차', '버스', '트럭']].isna().any(axis=1)]"
      ],
      "metadata": {
        "id": "KaLb5BbASouL"
      },
      "execution_count": null,
      "outputs": []
    },
    {
      "cell_type": "markdown",
      "source": [
        "### 건축물연령"
      ],
      "metadata": {
        "id": "UtVB9BV2St2o"
      }
    },
    {
      "cell_type": "code",
      "source": [
        "age = pd.read_csv('/content/drive/MyDrive/DATA_원본/건축물연령정보_행정동_평균.csv')"
      ],
      "metadata": {
        "id": "-fA5xt8kSvYa"
      },
      "execution_count": null,
      "outputs": []
    },
    {
      "cell_type": "code",
      "source": [
        "# 1) 결측치 제외하고 '행정동'의 고유값(Unique values) 보기\n",
        "unique_dongs = pothole['행정동'].dropna().unique()\n",
        "print(unique_dongs)\n",
        "\n",
        "# 2) 정렬된(unique) 리스트로 보기\n",
        "unique_dongs_sorted = sorted(unique_dongs)\n",
        "print(unique_dongs_sorted)"
      ],
      "metadata": {
        "id": "lTJPfRcGSxjE"
      },
      "execution_count": null,
      "outputs": []
    },
    {
      "cell_type": "code",
      "source": [
        "unique_dongs = age['동명'].dropna().unique()\n",
        "print(unique_dongs)"
      ],
      "metadata": {
        "id": "zqwG9Zx6SzwT"
      },
      "execution_count": null,
      "outputs": []
    },
    {
      "cell_type": "code",
      "source": [
        "import pandas as pd\n",
        "import re\n",
        "\n",
        "# 편의를 위해 age의 동명 목록을 집합으로 생성 (법정동 표준명 리스트)\n",
        "legal_names = set(age['동명'])\n",
        "\n",
        "# 행정동 → 법정동 정규화 함수 정의\n",
        "def normalize_dong(name: str) -> str:\n",
        "    if pd.isna(name):  # 결측값 처리\n",
        "        return name\n",
        "    name = str(name).strip()\n",
        "    # 1. 특수 구분자 통일 ('.', '·', 'ㆍ' 등을 '.''로 변환)\n",
        "    name = name.replace('·', '.').replace('ㆍ', '.')\n",
        "\n",
        "    # 2. 사전 매핑 정의 (주요 복합 행정동 → 대표 법정동)\n",
        "    mapping = {\n",
        "        '종로1.2.3.4가동': '종로1가',\n",
        "        '종로1·2·3·4가동': '종로1가',\n",
        "        '종로5.6가동': '종로5가',\n",
        "        '종로5·6가동': '종로5가',\n",
        "        '청운효자동': '청운동',\n",
        "        '왕십리도선동': '하왕십리동',\n",
        "        '성수1가동': '성수동1가',\n",
        "        '성수2가동': '성수동2가',\n",
        "        '여의동': '여의도동',\n",
        "        '원효로동': '원효로1가',\n",
        "        '원효로제2동' : '원효로4가',\n",
        "        '용산동4가' : '용산동3가',\n",
        "        '성수2가제1동' : '성수동2가',\n",
        "        '성수2가제2동' : '성수동1가',\n",
        "        '성수1가제1동' : '성수동1가',\n",
        "        '성수1가제2동' : '성수동2가',\n",
        "        '성수1가제3동' : '성수동1가',\n",
        "        '성수2가제3동' : '성수동2가',\n",
        "        '낙성대동' : '봉천동',\n",
        "        '다산동' : '신당동'\n",
        "    }\n",
        "    if name in mapping:\n",
        "        return mapping[name]\n",
        "\n",
        "    # 3. 이미 정규화된 법정동 명칭일 경우 바로 반환\n",
        "    if name in legal_names:\n",
        "        return name\n",
        "\n",
        "    # 4. '제#동' 패턴 처리: '제' 제거 (예: '제1동' -> '1동')\n",
        "    name = re.sub(r'제(?=\\d+동$)', '', name)\n",
        "\n",
        "    # 5. '...가동' 패턴 처리\n",
        "    if name.endswith('가동'):\n",
        "        # 정규식으로 접두어와 첫 번째 숫자 추출\n",
        "        m = re.match(r'^(.+?)(\\d+).*가$', name)\n",
        "        if m:\n",
        "            prefix, first_num = m.group(1), m.group(2)\n",
        "            # 접두어에 해당하는 법정동이 존재하면 접두어+'동' 사용\n",
        "            candidate = prefix + '동' + first_num + '가'\n",
        "            if candidate in legal_names:\n",
        "                return candidate\n",
        "            else:\n",
        "                return prefix + first_num + '가'\n",
        "\n",
        "    # 6. '~동'으로 끝나고 숫자가 포함된 패턴 처리 (예: '숭인2동' -> '숭인동')\n",
        "    if re.match(r'.*\\d+동$', name):\n",
        "        name = re.sub(r'\\d+동$', '동', name)  # 마지막 숫자 제거\n",
        "\n",
        "        # 제거 후 바로 표준 법정동이면 반환\n",
        "        if name in legal_names:\n",
        "            return name\n",
        "\n",
        "    # 7. 숫자 없음 + 법정동 1가 패턴 처리 (예: '명동' -> '명동1가')\n",
        "    if name.endswith('동') and (name + '1가') in legal_names:\n",
        "        return name + '1가'\n",
        "\n",
        "    # 8. 기타: 처리 후 legal_names에 있지 않으면 그대로 반환하거나 NaN 처리\n",
        "    return name\n",
        "\n",
        "# pothole 데이터프레임에 새로운 열로 정규화된 동명 추가\n",
        "pothole['행정동_정규화'] = pothole['행정동'].apply(normalize_dong)\n",
        "\n",
        "# 9. age 데이터의 평균_건물연령 값을 pothole 데이터에 병합\n",
        "pothole = pothole.merge(age[['동명', '평균_건물연령']],\n",
        "                        left_on='행정동_정규화', right_on='동명', how='left')\n",
        "\n",
        "# 필요시 '동명' 열 제거 및 정리\n",
        "pothole = pothole.drop(columns=['동명'])  # 병합으로 생긴 불필요한 열 제거"
      ],
      "metadata": {
        "id": "k3GKi6LxS0dY"
      },
      "execution_count": null,
      "outputs": []
    },
    {
      "cell_type": "code",
      "source": [
        "# 포트홀 존재여부==1 이면서 평균_건물연령 결측인 행\n",
        "mask = pothole['평균_건물연령'].isna()\n",
        "missing_age = pothole[mask]\n",
        "\n",
        "# 결과 확인\n",
        "print(missing_age.shape)\n",
        "missing_age"
      ],
      "metadata": {
        "id": "WxGLcHPQS11W"
      },
      "execution_count": null,
      "outputs": []
    },
    {
      "cell_type": "code",
      "source": [
        "# '평균건물_연령'이 NaN인 행 제거\n",
        "pothole = pothole.dropna(subset=['평균_건물연령'])"
      ],
      "metadata": {
        "id": "xJVvwyRmS2w4"
      },
      "execution_count": null,
      "outputs": []
    },
    {
      "cell_type": "code",
      "source": [
        "dup_mask = pothole['index'].duplicated(keep=False)\n",
        "\n",
        "# 2) 중복된 모든 행을 'index' 기준으로 정렬하여 확인\n",
        "duplicated_rows = pothole.loc[dup_mask].sort_values('index')\n",
        "\n",
        "# 3) 결과 출력\n",
        "print(duplicated_rows)"
      ],
      "metadata": {
        "id": "M-Duf3VAS3We"
      },
      "execution_count": null,
      "outputs": []
    },
    {
      "cell_type": "code",
      "source": [
        "# 'index' 컬럼 기준 중복 제거 (첫 번째만 남김), 원본 pothole 갱신\n",
        "pothole.drop_duplicates(subset='index', keep='first', inplace=True)\n",
        "\n",
        "# (선택) 인덱스 정리도 함께 하고 싶다면\n",
        "pothole.reset_index(drop=True, inplace=True)"
      ],
      "metadata": {
        "id": "830-S7XBS4FT"
      },
      "execution_count": null,
      "outputs": []
    },
    {
      "cell_type": "code",
      "source": [
        "pothole.drop(columns=['index'], inplace=True)"
      ],
      "metadata": {
        "id": "vV9EMJPpS5A7"
      },
      "execution_count": null,
      "outputs": []
    },
    {
      "cell_type": "markdown",
      "source": [
        "#### 기온, 습도, 강수량, 인구 수 전처리"
      ],
      "metadata": {
        "id": "Dby1l-j0S_Sx"
      }
    },
    {
      "cell_type": "code",
      "source": [
        "### 기온, 강수\n",
        "temp_all = pd.read_csv(\"/content/drive/MyDrive/DATA_원본/자치구별 데이터/자치구별_기온강수.csv\", encoding = 'cp949')\n",
        "temp_jong = pd.read_csv(\"/content/drive/MyDrive/DATA_원본/자치구별 데이터/종로구_기온강수.csv\", encoding = 'cp949')\n",
        "\n",
        "### 습도\n",
        "humid_all_1 = pd.read_csv(\"/content/drive/MyDrive/DATA_원본/자치구별 데이터/자치구별_습도_2101_2110.csv\", encoding = 'cp949')\n",
        "humid_all_2 = pd.read_csv(\"/content/drive/MyDrive/DATA_원본/자치구별 데이터/자치구별_습도_2111_2210.csv\", encoding = 'cp949')\n",
        "humid_all_3 = pd.read_csv(\"/content/drive/MyDrive/DATA_원본/자치구별 데이터/자치구별_습도_2211_2310.csv\", encoding = 'cp949')\n",
        "humid_all_4 = pd.read_csv(\"/content/drive/MyDrive/DATA_원본/자치구별 데이터/자치구별_습도_2311_2410.csv\", encoding = 'cp949')\n",
        "humid_all_5 = pd.read_csv(\"/content/drive/MyDrive/DATA_원본/자치구별 데이터/자치구별_습도_2411_2504.csv\", encoding = 'cp949')\n",
        "\n",
        "humid_jong_1 = pd.read_csv(\"/content/drive/MyDrive/DATA_원본/자치구별 데이터/종로구_습도_2101_2110.csv\", encoding = 'cp949')\n",
        "humid_jong_2 = pd.read_csv(\"/content/drive/MyDrive/DATA_원본/자치구별 데이터/종로구_습도_2111_2210.csv\", encoding = 'cp949')\n",
        "humid_jong_3 = pd.read_csv(\"/content/drive/MyDrive/DATA_원본/자치구별 데이터/종로구_습도_2211_2310.csv\", encoding = 'cp949')\n",
        "humid_jong_4 = pd.read_csv(\"/content/drive/MyDrive/DATA_원본/자치구별 데이터/종로구_습도_2311_2410.csv\", encoding = 'cp949')\n",
        "humid_jong_5 = pd.read_csv(\"/content/drive/MyDrive/DATA_원본/자치구별 데이터/종로구_습도_2411_2504.csv\", encoding = 'cp949')\n",
        "\n",
        "### 인구 수\n",
        "people = pd.read_excel(\"/content/drive/MyDrive/DATA_원본/자치구별 인구.xlsx\")"
      ],
      "metadata": {
        "id": "yWmsX2DeTCKm"
      },
      "execution_count": null,
      "outputs": []
    },
    {
      "cell_type": "markdown",
      "source": [
        "- 기온, 강수"
      ],
      "metadata": {
        "id": "KdTJziHeTFbO"
      }
    },
    {
      "cell_type": "code",
      "source": [
        "temp_all['지점명'].unique()\n",
        "temp_all['지점명'] = temp_all['지점명'].replace({\n",
        "    \"중구\" : \"중\",\n",
        "    \"강북*\" : \"강북\"\n",
        "})\n",
        "temp_all['지점명'].unique()"
      ],
      "metadata": {
        "id": "gGIvsamRTD22"
      },
      "execution_count": null,
      "outputs": []
    },
    {
      "cell_type": "code",
      "source": [
        "### 전체 + 종로구 합치기\n",
        "temp_jong['지점명'] = temp_jong['지점명'].replace({\"서울\" : \"종로\"})\n",
        "temp = pd.concat([temp_all,temp_jong], ignore_index = True)\n",
        "\n",
        "### 기상청, 현충원 합쳐서 동작구로 넣기\n",
        "# 기상청 - 일강수량 결측치 하나\n",
        "# 현충원 - 기온 결측치 5개, 일강수량 하나\n",
        "filtered = temp[temp['지점명'].isin([\"기상청\", \"현충원\"])].drop(labels = \"지점명\", axis = 1)\n",
        "dongjak = filtered.groupby('일시').mean().reset_index()\n",
        "dongjak['지점명'] = '동작'\n",
        "dongjak = dongjak[['지점명', '일시', '평균기온(°C)',\t'최저기온(°C)',\t'최고기온(°C)', '일강수량(mm)']]\n",
        "temp = pd.concat([temp, dongjak], ignore_index = True)\n",
        "\n",
        "### 자치구 필터링\n",
        "gus = [\"강남\", \"강동\", \"강북\", \"강서\", \"관악\", \"광진\", \"구로\", \"금천\", \"노원\",\n",
        "       \"도봉\", \"동대문\", \"동작\", \"마포\", \"서대문\", \"서초\", \"성동\", \"성북\",\n",
        "       \"송파\", \"양천\", \"영등포\", \"용산\", \"은평\", \"종로\", \"중\", \"중랑\"]\n",
        "temp = temp[temp['지점명'].isin(gus)]\n",
        "temp['지점명'].nunique() # 25개 다 있다!!"
      ],
      "metadata": {
        "id": "pLBHcIcTTEzu"
      },
      "execution_count": null,
      "outputs": []
    },
    {
      "cell_type": "code",
      "source": [
        "### 데이터 보간\n",
        "all_dates = pd.date_range(start = '2021-01-01', end = '2025-04-30', freq = 'D')\n",
        "\n",
        "def fill_dates(gu):\n",
        "    gu_data = gu.set_index('일시')\n",
        "    gu_data.index = pd.to_datetime(gu_data.index)\n",
        "    # 비어있는 날짜 채우기\n",
        "    gu_data = gu_data.reindex(all_dates) # 새로 index 생성\n",
        "    # 보간하기!\n",
        "    gu_data['지점명'] = gu_data['지점명'].fillna(gu['지점명'].iloc[0])\n",
        "    # 평균기온\n",
        "    gu_data['평균기온(°C)'] = gu_data['평균기온(°C)'].interpolate(method = 'nearest', limit_direction = 'both')\n",
        "    gu_data['평균기온(°C)'] = gu_data['평균기온(°C)'].fillna(gu['평균기온(°C)'].mean())\n",
        "    # 최저기온\n",
        "    gu_data['최저기온(°C)'] = gu_data['최저기온(°C)'].interpolate(method = 'nearest', limit_direction = 'both')\n",
        "    gu_data['최저기온(°C)'] = gu_data['최저기온(°C)'].fillna(gu['최저기온(°C)'].mean())\n",
        "    # 최고기온\n",
        "    gu_data['최고기온(°C)'] = gu_data['최고기온(°C)'].interpolate(method = 'nearest', limit_direction = 'both')\n",
        "    gu_data['최고기온(°C)'] = gu_data['최고기온(°C)'].fillna(gu['최고기온(°C)'].mean())\n",
        "    # 일강수량\n",
        "    gu_data['일강수량(mm)'] = gu_data['일강수량(mm)'].interpolate(method = 'nearest', limit_direction = 'both')\n",
        "    gu_data['일강수량(mm)'] = gu_data['일강수량(mm)'].fillna(0)\n",
        "    return gu_data.reset_index()\n",
        "\n",
        "filled_temp = temp.groupby('지점명').apply(fill_dates).reset_index(drop = True)\n",
        "filled_temp.columns = ['일시', '지점', '지점명', '평균기온(°C)','최저기온(°C)',\t'최고기온(°C)', '일강수량(mm)']\n",
        "temp = filled_temp\n",
        "temp.head()"
      ],
      "metadata": {
        "id": "5K98v7GcTH_m"
      },
      "execution_count": null,
      "outputs": []
    },
    {
      "cell_type": "code",
      "source": [
        "### 마지막 전처리\n",
        "# '구' 추가하기\n",
        "temp['지점명'] = temp['지점명'].astype(str) + '구'\n",
        "# '지점' 변수 삭제\n",
        "temp.drop(labels = '지점', axis = 1, inplace = True)\n",
        "# '일시' 변수 시간 변수로 변경\n",
        "temp['일시'] = pd.to_datetime(temp['일시'])\n",
        "# 강수 drop\n",
        "tempp = temp.drop(labels = '일강수량(mm)', axis = 1)\n",
        "tempp.head()"
      ],
      "metadata": {
        "id": "VETiWZ_2TJjZ"
      },
      "execution_count": null,
      "outputs": []
    },
    {
      "cell_type": "markdown",
      "source": [
        "- 습도"
      ],
      "metadata": {
        "id": "NXml38hITMdx"
      }
    },
    {
      "cell_type": "code",
      "source": [
        "humid_all = pd.concat([humid_all_1, humid_all_2, humid_all_3, humid_all_4, humid_all_5], ignore_index = True)\n",
        "humid_jong = pd.concat([humid_jong_1, humid_jong_2, humid_jong_3, humid_jong_4, humid_jong_5], ignore_index = True)\n",
        "humid_all.head()"
      ],
      "metadata": {
        "id": "OLAnBFknTNQD"
      },
      "execution_count": null,
      "outputs": []
    },
    {
      "cell_type": "code",
      "source": [
        "### 앞의 과정 반복...\n",
        "# 이름 바꿔주고\n",
        "humid_all['지점명'] = humid_all['지점명'].replace({\n",
        "    \"중구\" : \"중\",\n",
        "    \"강북*\" : \"강북\"\n",
        "})\n",
        "# 종로구 합쳐주고\n",
        "humid_jong['지점명'] = humid_jong['지점명'].replace({\"서울\" : \"종로\"})\n",
        "humid = pd.concat([humid_all,humid_jong], ignore_index = True)\n",
        "# 기상청, 현충원 합쳐서 동작구로\n",
        "filtered = humid[humid['지점명'].isin([\"기상청\", \"현충원\"])].drop(labels = \"지점명\", axis = 1)\n",
        "dongjak = filtered.groupby('일시').mean().reset_index()\n",
        "dongjak['지점명'] = '동작'\n",
        "dongjak = dongjak[['지점명', '일시', '습도(%)']]\n",
        "humid = pd.concat([humid, dongjak], ignore_index = True)\n",
        "\n",
        "# 자치구 필터링\n",
        "gus = [\"강남\", \"강동\", \"강북\", \"강서\", \"관악\", \"광진\", \"구로\", \"금천\", \"노원\",\n",
        "       \"도봉\", \"동대문\", \"동작\", \"마포\", \"서대문\", \"서초\", \"성동\", \"성북\",\n",
        "       \"송파\", \"양천\", \"영등포\", \"용산\", \"은평\", \"종로\", \"중\", \"중랑\"]\n",
        "humid = humid[humid['지점명'].isin(gus)]\n",
        "print(humid['지점명'].nunique()) # 25개 다 있다!!\n",
        "\n",
        "# '구' 추가, '지점' 삭제, '일시' 시간 변수로\n",
        "humid['지점명'] = humid['지점명'].astype(str) + '구'\n",
        "humid.drop(labels = '지점', axis = 1, inplace = True)\n",
        "humid['일시'] = pd.to_datetime(humid['일시'])\n",
        "humid.head(3)"
      ],
      "metadata": {
        "id": "vrk1rrfzTO-5"
      },
      "execution_count": null,
      "outputs": []
    },
    {
      "cell_type": "code",
      "source": [
        "humid['날짜'] = pd.to_datetime(humid['일시']).dt.date\n",
        "humid_group = humid.groupby(['지점명','날짜'])['습도(%)'].mean().reset_index()\n",
        "humid = humid_group\n",
        "humid.head(2)"
      ],
      "metadata": {
        "id": "wrMfH9dFTP8C"
      },
      "execution_count": null,
      "outputs": []
    },
    {
      "cell_type": "code",
      "source": [
        "all_dates = pd.date_range(start = '2021-01-01', end = '2025-04-30', freq = 'D')\n",
        "\n",
        "def fill_dates(gu):\n",
        "    mean_humidity = gu['습도(%)'].mean()\n",
        "    gu_data = gu.set_index('날짜')\n",
        "    # 비어있는 날짜 채우기\n",
        "    gu_data = gu_data.reindex(all_dates) # 새로 index 생성\n",
        "    # 보간하기!\n",
        "    gu_data['습도(%)'] = gu_data['습도(%)'].interpolate(method = 'nearest', limit_direction = 'both')\n",
        "    gu_data['습도(%)'] = gu_data['습도(%)'].fillna(mean_humidity)\n",
        "    gu_data['지점명'] = gu_data['지점명'].fillna(gu['지점명'].iloc[0])\n",
        "    return gu_data.reset_index()\n",
        "\n",
        "filled_humid = humid.groupby('지점명').apply(fill_dates).reset_index(drop = True)\n",
        "filled_humid.columns = ['날짜', '자치구', '습도(%)']\n",
        "humid = filled_humid\n",
        "humid.head()"
      ],
      "metadata": {
        "id": "sUyrteIfTRCf"
      },
      "execution_count": null,
      "outputs": []
    },
    {
      "cell_type": "code",
      "source": [
        "temp.head()\n",
        "rain = temp[['지점명','일시','일강수량(mm)']]\n",
        "rain.head()"
      ],
      "metadata": {
        "id": "YhKcji6eTTj3"
      },
      "execution_count": null,
      "outputs": []
    },
    {
      "cell_type": "markdown",
      "source": [
        "- 인구 수"
      ],
      "metadata": {
        "id": "qT1h_DZ1TUHg"
      }
    },
    {
      "cell_type": "code",
      "source": [
        "people = people.drop(index = 0)\n",
        "people['평균 인구 수'] = people.drop(columns = ['행정구역(시군구)별']).mean(axis = 1)\n",
        "people = people[['행정구역(시군구)별', '평균 인구 수']]\n",
        "people.columns = ['자치구', '인구 수']\n",
        "people.head()"
      ],
      "metadata": {
        "id": "MkHMaPe1TZQl"
      },
      "execution_count": null,
      "outputs": []
    },
    {
      "cell_type": "code",
      "source": [
        "people['자치구'] = people['자치구'].str.replace(\"\\u3000\",\"\",regex = False)"
      ],
      "metadata": {
        "id": "i9KNQB8tTatW"
      },
      "execution_count": null,
      "outputs": []
    },
    {
      "cell_type": "markdown",
      "source": [
        "### 기온, 습도, 강수량, 인구 수 합산"
      ],
      "metadata": {
        "id": "-N7MGx1VTcEJ"
      }
    },
    {
      "cell_type": "code",
      "source": [
        "### 기록된 날짜 기준 한 달 전으로 '발생일' 생성\n",
        "small_pothole['발생일'] = small_pothole['등록번호'].astype(str).str[:8]\n",
        "small_pothole['발생일'] = pd.to_datetime(small_pothole['발생일'])\n",
        "small_pothole['발생일'] = small_pothole['발생일'].apply(lambda x:x - pd.Timedelta(days = 30))\n",
        "small_pothole.head(2)"
      ],
      "metadata": {
        "id": "3V51sfLpTenx"
      },
      "execution_count": null,
      "outputs": []
    },
    {
      "cell_type": "markdown",
      "source": [
        "- 인구 수"
      ],
      "metadata": {
        "id": "-_xlkc-cTgY_"
      }
    },
    {
      "cell_type": "code",
      "source": [
        "### 인구 수\n",
        "people_merged = pd.merge(small_pothole, people, on = '자치구', how = 'left')\n",
        "people_merged.head(2)"
      ],
      "metadata": {
        "id": "v9O4zh7jTiED"
      },
      "execution_count": null,
      "outputs": []
    },
    {
      "cell_type": "markdown",
      "source": [
        "- 강수량"
      ],
      "metadata": {
        "id": "Yd3PWvocTpKM"
      }
    },
    {
      "cell_type": "code",
      "source": [
        "### 자치구 별, 발생일 기준 1년동안의 누적 강수량 합계\n",
        "rain_sum = rain.copy()\n",
        "# 각 자치구별로 누적합 - 약 1분 소요\n",
        "def cumulate_rain(gu):\n",
        "    for i, row in gu.iterrows():\n",
        "        end = pd.to_datetime(row['일시'])\n",
        "        start = end - pd.Timedelta(days = 365)\n",
        "        subset = gu[(gu['일시'] >= start) & (gu['일시'] <= end)]\n",
        "        gu.loc[i, '누적 강수량'] = subset['일강수량(mm)'].sum()\n",
        "    return gu\n",
        "rain_sum = rain_sum.groupby('지점명').apply(cumulate_rain).reset_index(drop = True)\n",
        "rain_sum = rain_sum.drop(labels = '일강수량(mm)', axis = 1)\n",
        "rain_sum.columns = ['자치구', '발생일','누적 강수량']\n",
        "rain_sum.head()"
      ],
      "metadata": {
        "id": "fF7SQ4K5TqHJ"
      },
      "execution_count": null,
      "outputs": []
    },
    {
      "cell_type": "code",
      "source": [
        "rain_trying = people_merged.copy()\n",
        "# rain_trying['1년 전'] = rain_trying['발생일'].apply(lambda x:x - pd.Timedelta(days = 365))\n",
        "\n",
        "rain_trying = pd.merge(rain_trying, rain_sum, on = ['자치구', '발생일'], how = 'left')\n",
        "rain_trying.head()"
      ],
      "metadata": {
        "id": "8lxFyPEPT6Qd"
      },
      "execution_count": null,
      "outputs": []
    },
    {
      "cell_type": "markdown",
      "source": [
        "- 습도"
      ],
      "metadata": {
        "id": "c-L_P5xXT64V"
      }
    },
    {
      "cell_type": "code",
      "source": [
        "### 자치구 별, 발생일 기준 1년동안의 누적 습도의 평균\n",
        "humid_mean = humid.copy()\n",
        "# 각 자치구별로 누적합 - 약 1분 소요\n",
        "def mean_humid(gu):\n",
        "    for i, row in gu.iterrows():\n",
        "        end = pd.to_datetime(row['날짜'])\n",
        "        start = end - pd.Timedelta(days = 365)\n",
        "        subset = gu[(gu['날짜'] >= start) & (gu['날짜'] <= end)]\n",
        "        gu.loc[i, '누적 습도'] = subset['습도(%)'].mean()\n",
        "    return gu\n",
        "humid_mean = humid_mean.groupby('자치구').apply(mean_humid).reset_index(drop = True)\n",
        "humid_mean = humid_mean.drop(labels = '습도(%)', axis = 1)\n",
        "humid_mean.columns = ['발생일', '자치구','평균 습도']\n",
        "humid_mean.head()"
      ],
      "metadata": {
        "id": "jM7icOmTT7rB"
      },
      "execution_count": null,
      "outputs": []
    },
    {
      "cell_type": "code",
      "source": [
        "# 정확히 계산되었는지 확인\n",
        "end = pd.to_datetime(rain_trying['발생일'][0])\n",
        "start = end - pd.Timedelta(days = 365)\n",
        "subset = humid[(humid['날짜'] >= start) & (humid['날짜'] <= end) & (humid['자치구'] == '강서구')]\n",
        "subset['습도(%)'].mean()"
      ],
      "metadata": {
        "id": "5LDJOz64T91e"
      },
      "execution_count": null,
      "outputs": []
    },
    {
      "cell_type": "markdown",
      "source": [
        "- 기온"
      ],
      "metadata": {
        "id": "ZAnXD8GzT_GX"
      }
    },
    {
      "cell_type": "code",
      "source": [
        "temp['일교차'] = temp['최고기온(°C)'] - temp['최저기온(°C)']\n",
        "temp.head(2)"
      ],
      "metadata": {
        "id": "DgqTagkTT_-6"
      },
      "execution_count": null,
      "outputs": []
    },
    {
      "cell_type": "code",
      "source": [
        "### 방법 1 - 자치구 별, 발생일 기준 1년동안의 최고 기온 - 최저 기온\n",
        "temp_total_diff = temp.copy()\n",
        "# 각 자치구별로 최고 - 최저\n",
        "def total_diff_temp(gu):\n",
        "    for i, row in gu.iterrows():\n",
        "        end = pd.to_datetime(row['일시'])\n",
        "        start = end - pd.Timedelta(days = 365)\n",
        "        subset = gu[(gu['일시'] >= start) & (gu['일시'] <= end)]\n",
        "        gu.loc[i, '1년 기온차'] = subset['평균기온(°C)'].max() - subset['평균기온(°C)'].min()\n",
        "    return gu\n",
        "temp_total_diff = temp_total_diff.groupby('지점명').apply(total_diff_temp).reset_index(drop = True)\n",
        "temp_total_diff = temp_total_diff.drop(labels = ['평균기온(°C)', '최저기온(°C)', '최고기온(°C)', '일교차'], axis = 1)\n",
        "temp_total_diff.columns = ['발생일', '자치구','1년 기온차']\n",
        "temp_total_diff.head()"
      ],
      "metadata": {
        "id": "QXAtR1dxUBkH"
      },
      "execution_count": null,
      "outputs": []
    },
    {
      "cell_type": "code",
      "source": [
        "temp_trying = pd.merge(temp_trying, temp_total_diff, on = ['자치구', '발생일'], how = 'left')\n",
        "temp_trying.head()"
      ],
      "metadata": {
        "id": "spRRlHOvUCxp"
      },
      "execution_count": null,
      "outputs": []
    },
    {
      "cell_type": "code",
      "source": [
        "### 방법 2 - 자치구 별, 발생일 기준 한 달동안의 일교차 평균\n",
        "temp_monthly_diff = temp.copy()\n",
        "# 각 자치구별로 일교차의 평균\n",
        "def monthly_diff_temp(gu):\n",
        "    for i, row in gu.iterrows():\n",
        "        end = pd.to_datetime(row['일시'])\n",
        "        start = end - pd.Timedelta(days = 30)\n",
        "        subset = gu[(gu['일시'] >= start) & (gu['일시'] <= end)]\n",
        "        gu.loc[i, '평균 일교차'] = subset['일교차'].mean()\n",
        "    return gu\n",
        "temp_monthly_diff = temp_monthly_diff.groupby('지점명').apply(monthly_diff_temp).reset_index(drop = True)\n",
        "temp_monthly_diff = temp_monthly_diff.drop(labels = ['평균기온(°C)', '최저기온(°C)', '최고기온(°C)', '일교차'], axis = 1)\n",
        "temp_monthly_diff.columns = ['발생일', '자치구','평균 일교차']\n",
        "temp_monthly_diff.head()"
      ],
      "metadata": {
        "id": "VpoP4f4eUDsl"
      },
      "execution_count": null,
      "outputs": []
    },
    {
      "cell_type": "code",
      "source": [
        "temp_trying = pd.merge(temp_trying, temp_monthly_diff, on = ['자치구', '발생일'], how = 'left')\n",
        "temp_trying.head()"
      ],
      "metadata": {
        "id": "dgGXl-8nUEpd"
      },
      "execution_count": null,
      "outputs": []
    },
    {
      "cell_type": "markdown",
      "source": [
        "### 기온, 습도, 강수량, 인구 수 병합"
      ],
      "metadata": {
        "id": "NU-9FTfyUIZN"
      }
    },
    {
      "cell_type": "code",
      "source": [
        "### 발생일 비어있는 경우를 위한...\n",
        "rain_forna = rain_sum.groupby('자치구')['누적 강수량'].mean()\n",
        "humid_forna = humid_mean.groupby('자치구')['평균 습도'].mean()\n",
        "temp_total_diff_forna = temp_total_diff.groupby('자치구')['1년 기온차'].mean()\n",
        "temp_monthly_diff_forna = temp_monthly_diff.groupby('자치구')['평균 일교차'].mean()"
      ],
      "metadata": {
        "id": "bzZVKWNXUNkn"
      },
      "execution_count": null,
      "outputs": []
    },
    {
      "cell_type": "code",
      "source": [
        "# NaN은 그대로 두고, 나머지만 문자열로 변환\n",
        "pothole['등록번호'] = pothole['등록번호'].apply(lambda x: int(x) if pd.notna(x) else pd.NA)"
      ],
      "metadata": {
        "id": "fqvSs-UzUQGO"
      },
      "execution_count": null,
      "outputs": []
    },
    {
      "cell_type": "code",
      "source": [
        "### 기록된 날짜 기준 한 달 전으로 '발생일' 생성\n",
        "wrong = pothole['등록번호'].isna() | (~pothole['등록번호'].astype(str).str.startswith(\"2\"))\n",
        "pothole['발생일'] = pd.to_datetime(pothole['등록번호'].astype(str).where(~wrong).str[:8])\n",
        "pothole['발생일'] = pothole['발생일'].apply(lambda x:x - pd.Timedelta(days = 30))\n",
        "pothole.head(2)"
      ],
      "metadata": {
        "id": "BuQj0YBeURBQ"
      },
      "execution_count": null,
      "outputs": []
    },
    {
      "cell_type": "code",
      "source": [
        "### 인구 수\n",
        "people_merged = pd.merge(pothole, people, on = '자치구', how = 'left')\n",
        "people_merged.head(2)"
      ],
      "metadata": {
        "id": "VpqEbcZMUSFO"
      },
      "execution_count": null,
      "outputs": []
    },
    {
      "cell_type": "code",
      "source": [
        "with_date = people_merged[people_merged['발생일'].notna()].copy()\n",
        "without_date = people_merged[people_merged['발생일'].isna()].copy()"
      ],
      "metadata": {
        "id": "2qLvktWcUTBG"
      },
      "execution_count": null,
      "outputs": []
    },
    {
      "cell_type": "code",
      "source": [
        "with_date_1 = pd.merge(with_date, rain_sum, on = ['자치구', '발생일'], how = 'left')\n",
        "with_date_2 = pd.merge(with_date_1, humid_mean, on = ['자치구', '발생일'], how = 'left')\n",
        "with_date_3 = pd.merge(with_date_2, temp_total_diff, on = ['자치구', '발생일'], how = 'left')\n",
        "with_date_4 = pd.merge(with_date_3, temp_monthly_diff, on = ['자치구', '발생일'], how = 'left')\n",
        "with_date_4.head()"
      ],
      "metadata": {
        "id": "sSiiaSzBUT1u"
      },
      "execution_count": null,
      "outputs": []
    },
    {
      "cell_type": "code",
      "source": [
        "without_date_1 = pd.merge(without_date, rain_forna, on = ['자치구'], how = 'left')\n",
        "without_date_2 = pd.merge(without_date_1, humid_forna, on = ['자치구'], how = 'left')\n",
        "without_date_3 = pd.merge(without_date_2, temp_total_diff_forna, on = ['자치구'], how = 'left')\n",
        "without_date_4 = pd.merge(without_date_3, temp_monthly_diff_forna, on = ['자치구'], how = 'left')\n",
        "without_date_4.head()"
      ],
      "metadata": {
        "id": "7A3baZ5NUUxV"
      },
      "execution_count": null,
      "outputs": []
    },
    {
      "cell_type": "code",
      "source": [
        "pothole_merged = pd.concat([with_date_4, without_date_4])\n",
        "pothole_merged.head()"
      ],
      "metadata": {
        "id": "Otigjb0bUVyT"
      },
      "execution_count": null,
      "outputs": []
    },
    {
      "cell_type": "code",
      "source": [
        "pothole_merged.to_pickle('/content/drive/MyDrive/DATA_완성/준희 완료!.pickle')"
      ],
      "metadata": {
        "id": "U9AhQPdqUYA5"
      },
      "execution_count": null,
      "outputs": []
    },
    {
      "cell_type": "markdown",
      "source": [
        "### 배수등급 병합"
      ],
      "metadata": {
        "id": "Vy6QnSEvRcCZ"
      }
    },
    {
      "cell_type": "code",
      "source": [
        "import geopandas as gpd\n",
        "import pandas as pd\n",
        "from shapely.geometry import Point"
      ],
      "metadata": {
        "id": "B0yWGhLgRdes"
      },
      "execution_count": null,
      "outputs": []
    },
    {
      "cell_type": "code",
      "source": [
        "# 1. 포트홀 데이터 로딩\n",
        "pothole_df = gpd.GeoDataFrame(\n",
        "    pothole_df,\n",
        "    geometry=gpd.points_from_xy(pothole_df['경도'], pothole_df['위도']),\n",
        "    crs=\"EPSG:4326\"  # 위경도 좌표계\n",
        ")\n",
        "\n",
        "# 2. 포트홀 좌표계 → EPSG:5174 로 변환 (shp에 맞추기)\n",
        "pothole_df = pothole_df.to_crs(\"EPSG:5174\")"
      ],
      "metadata": {
        "id": "b9Seznd6Rebo"
      },
      "execution_count": null,
      "outputs": []
    },
    {
      "cell_type": "code",
      "source": [
        "# 3. 배수등급 shp 파일 로딩\n",
        "soil_df = gpd.read_file(\"ASIT_SOILDRA_AREA.shp\")  # 너가 가진 shp 파일명으로 대체\n",
        "soil_df"
      ],
      "metadata": {
        "id": "YY7pRJhJRfHU"
      },
      "execution_count": null,
      "outputs": []
    },
    {
      "cell_type": "code",
      "source": [
        "# 4. 공간 조인\n",
        "pothole_df = gpd.sjoin(pothole_df, soil_df[['SOILDRA', 'geometry']], how='left', predicate='within')\n",
        "\n",
        "# 결과 확인\n",
        "pothole_df"
      ],
      "metadata": {
        "id": "LbFZ4YofRti2"
      },
      "execution_count": null,
      "outputs": []
    },
    {
      "cell_type": "markdown",
      "source": [
        "### 토양경사도 병합"
      ],
      "metadata": {
        "id": "ptf-9DGiRvz5"
      }
    },
    {
      "cell_type": "code",
      "source": [
        "# 3. 토양경사도 shp 파일 로딩\n",
        "slope_df = gpd.read_file(\"ASIT_SOILSLOPE_AREA.shp\")  # 너가 가진 shp 파일명으로 대체\n",
        "slope_df"
      ],
      "metadata": {
        "id": "JKSehWa6Rxbk"
      },
      "execution_count": null,
      "outputs": []
    },
    {
      "cell_type": "code",
      "source": [
        "pothole_df.drop(['index_right'], axis=1, inplace=True)"
      ],
      "metadata": {
        "id": "yzA0cU98R0Ep"
      },
      "execution_count": null,
      "outputs": []
    },
    {
      "cell_type": "code",
      "source": [
        "# 4. 공간 조인\n",
        "pothole_df = gpd.sjoin(pothole_df, slope_df[['SOILSLOPE', 'geometry']], how='left', predicate='within')\n",
        "\n",
        "# 결과 확인\n",
        "pothole_df"
      ],
      "metadata": {
        "id": "WUsGcl5nR0un"
      },
      "execution_count": null,
      "outputs": []
    },
    {
      "cell_type": "code",
      "source": [
        "pothole_df.drop(['index_right'], axis=1, inplace=True)\n",
        "pothole_df.drop(['geometry'], axis=1, inplace=True)"
      ],
      "metadata": {
        "id": "GI3qIkZ4R3aP"
      },
      "execution_count": null,
      "outputs": []
    },
    {
      "cell_type": "code",
      "source": [
        "pothole_df.columns = ['자치구', '행정동', '경도', '위도', '차선수', '승용차', '버스', '트럭', '총교통량', '중대형차량 교통량',\n",
        "       '포트홀 존재여부', '평균_건물연령', '등록번호', '발생일', '인구 수', '누적 강수량', '평균 습도',\n",
        "       '1년 기온차', '평균 일교차', '배수등급', '경사도']"
      ],
      "metadata": {
        "id": "_45JIKrnR5GT"
      },
      "execution_count": null,
      "outputs": []
    }
  ]
}

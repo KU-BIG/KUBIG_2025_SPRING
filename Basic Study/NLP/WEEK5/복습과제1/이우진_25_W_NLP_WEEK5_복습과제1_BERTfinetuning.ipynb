{
  "nbformat": 4,
  "nbformat_minor": 0,
  "metadata": {
    "colab": {
      "provenance": []
    },
    "kernelspec": {
      "name": "python3",
      "display_name": "Python 3"
    },
    "accelerator": "GPU",
    "widgets": {
      "application/vnd.jupyter.widget-state+json": {
        "e66dfe1a7cc840b6a916c3f4edac7a5a": {
          "model_module": "@jupyter-widgets/controls",
          "model_name": "HBoxModel",
          "model_module_version": "1.5.0",
          "state": {
            "_dom_classes": [],
            "_model_module": "@jupyter-widgets/controls",
            "_model_module_version": "1.5.0",
            "_model_name": "HBoxModel",
            "_view_count": null,
            "_view_module": "@jupyter-widgets/controls",
            "_view_module_version": "1.5.0",
            "_view_name": "HBoxView",
            "box_style": "",
            "children": [
              "IPY_MODEL_67fb10f882bc4fb1ab1f5e22bd58ebc6",
              "IPY_MODEL_cb5280c6762a4a94a8d09178de1b1cbd",
              "IPY_MODEL_ddc16631d6fe41bbb14a62e19bce3e16"
            ],
            "layout": "IPY_MODEL_b227f69f31a24bcc97391a57c10404ab"
          }
        },
        "67fb10f882bc4fb1ab1f5e22bd58ebc6": {
          "model_module": "@jupyter-widgets/controls",
          "model_name": "HTMLModel",
          "model_module_version": "1.5.0",
          "state": {
            "_dom_classes": [],
            "_model_module": "@jupyter-widgets/controls",
            "_model_module_version": "1.5.0",
            "_model_name": "HTMLModel",
            "_view_count": null,
            "_view_module": "@jupyter-widgets/controls",
            "_view_module_version": "1.5.0",
            "_view_name": "HTMLView",
            "description": "",
            "description_tooltip": null,
            "layout": "IPY_MODEL_03abb3f760b341dc9105cceead28121e",
            "placeholder": "​",
            "style": "IPY_MODEL_6c19a5753b2049259426a0c3ac7e525b",
            "value": "tokenizer_config.json: 100%"
          }
        },
        "cb5280c6762a4a94a8d09178de1b1cbd": {
          "model_module": "@jupyter-widgets/controls",
          "model_name": "FloatProgressModel",
          "model_module_version": "1.5.0",
          "state": {
            "_dom_classes": [],
            "_model_module": "@jupyter-widgets/controls",
            "_model_module_version": "1.5.0",
            "_model_name": "FloatProgressModel",
            "_view_count": null,
            "_view_module": "@jupyter-widgets/controls",
            "_view_module_version": "1.5.0",
            "_view_name": "ProgressView",
            "bar_style": "success",
            "description": "",
            "description_tooltip": null,
            "layout": "IPY_MODEL_7bb22ee211af4cc4a33b417d8947d33c",
            "max": 48,
            "min": 0,
            "orientation": "horizontal",
            "style": "IPY_MODEL_ec252044a331404ca43d64027641c432",
            "value": 48
          }
        },
        "ddc16631d6fe41bbb14a62e19bce3e16": {
          "model_module": "@jupyter-widgets/controls",
          "model_name": "HTMLModel",
          "model_module_version": "1.5.0",
          "state": {
            "_dom_classes": [],
            "_model_module": "@jupyter-widgets/controls",
            "_model_module_version": "1.5.0",
            "_model_name": "HTMLModel",
            "_view_count": null,
            "_view_module": "@jupyter-widgets/controls",
            "_view_module_version": "1.5.0",
            "_view_name": "HTMLView",
            "description": "",
            "description_tooltip": null,
            "layout": "IPY_MODEL_2f313bf31bda48d1b835935e773d5f33",
            "placeholder": "​",
            "style": "IPY_MODEL_a7e7d1a46124433f8849de4618edf22e",
            "value": " 48.0/48.0 [00:00&lt;00:00, 1.69kB/s]"
          }
        },
        "b227f69f31a24bcc97391a57c10404ab": {
          "model_module": "@jupyter-widgets/base",
          "model_name": "LayoutModel",
          "model_module_version": "1.2.0",
          "state": {
            "_model_module": "@jupyter-widgets/base",
            "_model_module_version": "1.2.0",
            "_model_name": "LayoutModel",
            "_view_count": null,
            "_view_module": "@jupyter-widgets/base",
            "_view_module_version": "1.2.0",
            "_view_name": "LayoutView",
            "align_content": null,
            "align_items": null,
            "align_self": null,
            "border": null,
            "bottom": null,
            "display": null,
            "flex": null,
            "flex_flow": null,
            "grid_area": null,
            "grid_auto_columns": null,
            "grid_auto_flow": null,
            "grid_auto_rows": null,
            "grid_column": null,
            "grid_gap": null,
            "grid_row": null,
            "grid_template_areas": null,
            "grid_template_columns": null,
            "grid_template_rows": null,
            "height": null,
            "justify_content": null,
            "justify_items": null,
            "left": null,
            "margin": null,
            "max_height": null,
            "max_width": null,
            "min_height": null,
            "min_width": null,
            "object_fit": null,
            "object_position": null,
            "order": null,
            "overflow": null,
            "overflow_x": null,
            "overflow_y": null,
            "padding": null,
            "right": null,
            "top": null,
            "visibility": null,
            "width": null
          }
        },
        "03abb3f760b341dc9105cceead28121e": {
          "model_module": "@jupyter-widgets/base",
          "model_name": "LayoutModel",
          "model_module_version": "1.2.0",
          "state": {
            "_model_module": "@jupyter-widgets/base",
            "_model_module_version": "1.2.0",
            "_model_name": "LayoutModel",
            "_view_count": null,
            "_view_module": "@jupyter-widgets/base",
            "_view_module_version": "1.2.0",
            "_view_name": "LayoutView",
            "align_content": null,
            "align_items": null,
            "align_self": null,
            "border": null,
            "bottom": null,
            "display": null,
            "flex": null,
            "flex_flow": null,
            "grid_area": null,
            "grid_auto_columns": null,
            "grid_auto_flow": null,
            "grid_auto_rows": null,
            "grid_column": null,
            "grid_gap": null,
            "grid_row": null,
            "grid_template_areas": null,
            "grid_template_columns": null,
            "grid_template_rows": null,
            "height": null,
            "justify_content": null,
            "justify_items": null,
            "left": null,
            "margin": null,
            "max_height": null,
            "max_width": null,
            "min_height": null,
            "min_width": null,
            "object_fit": null,
            "object_position": null,
            "order": null,
            "overflow": null,
            "overflow_x": null,
            "overflow_y": null,
            "padding": null,
            "right": null,
            "top": null,
            "visibility": null,
            "width": null
          }
        },
        "6c19a5753b2049259426a0c3ac7e525b": {
          "model_module": "@jupyter-widgets/controls",
          "model_name": "DescriptionStyleModel",
          "model_module_version": "1.5.0",
          "state": {
            "_model_module": "@jupyter-widgets/controls",
            "_model_module_version": "1.5.0",
            "_model_name": "DescriptionStyleModel",
            "_view_count": null,
            "_view_module": "@jupyter-widgets/base",
            "_view_module_version": "1.2.0",
            "_view_name": "StyleView",
            "description_width": ""
          }
        },
        "7bb22ee211af4cc4a33b417d8947d33c": {
          "model_module": "@jupyter-widgets/base",
          "model_name": "LayoutModel",
          "model_module_version": "1.2.0",
          "state": {
            "_model_module": "@jupyter-widgets/base",
            "_model_module_version": "1.2.0",
            "_model_name": "LayoutModel",
            "_view_count": null,
            "_view_module": "@jupyter-widgets/base",
            "_view_module_version": "1.2.0",
            "_view_name": "LayoutView",
            "align_content": null,
            "align_items": null,
            "align_self": null,
            "border": null,
            "bottom": null,
            "display": null,
            "flex": null,
            "flex_flow": null,
            "grid_area": null,
            "grid_auto_columns": null,
            "grid_auto_flow": null,
            "grid_auto_rows": null,
            "grid_column": null,
            "grid_gap": null,
            "grid_row": null,
            "grid_template_areas": null,
            "grid_template_columns": null,
            "grid_template_rows": null,
            "height": null,
            "justify_content": null,
            "justify_items": null,
            "left": null,
            "margin": null,
            "max_height": null,
            "max_width": null,
            "min_height": null,
            "min_width": null,
            "object_fit": null,
            "object_position": null,
            "order": null,
            "overflow": null,
            "overflow_x": null,
            "overflow_y": null,
            "padding": null,
            "right": null,
            "top": null,
            "visibility": null,
            "width": null
          }
        },
        "ec252044a331404ca43d64027641c432": {
          "model_module": "@jupyter-widgets/controls",
          "model_name": "ProgressStyleModel",
          "model_module_version": "1.5.0",
          "state": {
            "_model_module": "@jupyter-widgets/controls",
            "_model_module_version": "1.5.0",
            "_model_name": "ProgressStyleModel",
            "_view_count": null,
            "_view_module": "@jupyter-widgets/base",
            "_view_module_version": "1.2.0",
            "_view_name": "StyleView",
            "bar_color": null,
            "description_width": ""
          }
        },
        "2f313bf31bda48d1b835935e773d5f33": {
          "model_module": "@jupyter-widgets/base",
          "model_name": "LayoutModel",
          "model_module_version": "1.2.0",
          "state": {
            "_model_module": "@jupyter-widgets/base",
            "_model_module_version": "1.2.0",
            "_model_name": "LayoutModel",
            "_view_count": null,
            "_view_module": "@jupyter-widgets/base",
            "_view_module_version": "1.2.0",
            "_view_name": "LayoutView",
            "align_content": null,
            "align_items": null,
            "align_self": null,
            "border": null,
            "bottom": null,
            "display": null,
            "flex": null,
            "flex_flow": null,
            "grid_area": null,
            "grid_auto_columns": null,
            "grid_auto_flow": null,
            "grid_auto_rows": null,
            "grid_column": null,
            "grid_gap": null,
            "grid_row": null,
            "grid_template_areas": null,
            "grid_template_columns": null,
            "grid_template_rows": null,
            "height": null,
            "justify_content": null,
            "justify_items": null,
            "left": null,
            "margin": null,
            "max_height": null,
            "max_width": null,
            "min_height": null,
            "min_width": null,
            "object_fit": null,
            "object_position": null,
            "order": null,
            "overflow": null,
            "overflow_x": null,
            "overflow_y": null,
            "padding": null,
            "right": null,
            "top": null,
            "visibility": null,
            "width": null
          }
        },
        "a7e7d1a46124433f8849de4618edf22e": {
          "model_module": "@jupyter-widgets/controls",
          "model_name": "DescriptionStyleModel",
          "model_module_version": "1.5.0",
          "state": {
            "_model_module": "@jupyter-widgets/controls",
            "_model_module_version": "1.5.0",
            "_model_name": "DescriptionStyleModel",
            "_view_count": null,
            "_view_module": "@jupyter-widgets/base",
            "_view_module_version": "1.2.0",
            "_view_name": "StyleView",
            "description_width": ""
          }
        },
        "8c65e246c2a94ef58f95d260a7e38126": {
          "model_module": "@jupyter-widgets/controls",
          "model_name": "HBoxModel",
          "model_module_version": "1.5.0",
          "state": {
            "_dom_classes": [],
            "_model_module": "@jupyter-widgets/controls",
            "_model_module_version": "1.5.0",
            "_model_name": "HBoxModel",
            "_view_count": null,
            "_view_module": "@jupyter-widgets/controls",
            "_view_module_version": "1.5.0",
            "_view_name": "HBoxView",
            "box_style": "",
            "children": [
              "IPY_MODEL_f135dfe99dd440e389a927b498301c6d",
              "IPY_MODEL_15d8e9ef2f084350ba18693051347a23",
              "IPY_MODEL_5c26c2a54eae46049254989da7cb24d8"
            ],
            "layout": "IPY_MODEL_ca8b6e97e94e4e418aac18929fcc1f9b"
          }
        },
        "f135dfe99dd440e389a927b498301c6d": {
          "model_module": "@jupyter-widgets/controls",
          "model_name": "HTMLModel",
          "model_module_version": "1.5.0",
          "state": {
            "_dom_classes": [],
            "_model_module": "@jupyter-widgets/controls",
            "_model_module_version": "1.5.0",
            "_model_name": "HTMLModel",
            "_view_count": null,
            "_view_module": "@jupyter-widgets/controls",
            "_view_module_version": "1.5.0",
            "_view_name": "HTMLView",
            "description": "",
            "description_tooltip": null,
            "layout": "IPY_MODEL_d2c6fec0e6d14256a6d13f2925a57fc7",
            "placeholder": "​",
            "style": "IPY_MODEL_678509ca021344f394c4e0f282f7364e",
            "value": "vocab.txt: 100%"
          }
        },
        "15d8e9ef2f084350ba18693051347a23": {
          "model_module": "@jupyter-widgets/controls",
          "model_name": "FloatProgressModel",
          "model_module_version": "1.5.0",
          "state": {
            "_dom_classes": [],
            "_model_module": "@jupyter-widgets/controls",
            "_model_module_version": "1.5.0",
            "_model_name": "FloatProgressModel",
            "_view_count": null,
            "_view_module": "@jupyter-widgets/controls",
            "_view_module_version": "1.5.0",
            "_view_name": "ProgressView",
            "bar_style": "success",
            "description": "",
            "description_tooltip": null,
            "layout": "IPY_MODEL_f7b42a7e99574643b5df1c980ddefcb2",
            "max": 231508,
            "min": 0,
            "orientation": "horizontal",
            "style": "IPY_MODEL_b22584ede2d34a78ae957d9120e0b876",
            "value": 231508
          }
        },
        "5c26c2a54eae46049254989da7cb24d8": {
          "model_module": "@jupyter-widgets/controls",
          "model_name": "HTMLModel",
          "model_module_version": "1.5.0",
          "state": {
            "_dom_classes": [],
            "_model_module": "@jupyter-widgets/controls",
            "_model_module_version": "1.5.0",
            "_model_name": "HTMLModel",
            "_view_count": null,
            "_view_module": "@jupyter-widgets/controls",
            "_view_module_version": "1.5.0",
            "_view_name": "HTMLView",
            "description": "",
            "description_tooltip": null,
            "layout": "IPY_MODEL_531bdd6b5d7e4117a6ebf34652a78dfc",
            "placeholder": "​",
            "style": "IPY_MODEL_0bc74023582e481191bff77b22d37da3",
            "value": " 232k/232k [00:00&lt;00:00, 5.22MB/s]"
          }
        },
        "ca8b6e97e94e4e418aac18929fcc1f9b": {
          "model_module": "@jupyter-widgets/base",
          "model_name": "LayoutModel",
          "model_module_version": "1.2.0",
          "state": {
            "_model_module": "@jupyter-widgets/base",
            "_model_module_version": "1.2.0",
            "_model_name": "LayoutModel",
            "_view_count": null,
            "_view_module": "@jupyter-widgets/base",
            "_view_module_version": "1.2.0",
            "_view_name": "LayoutView",
            "align_content": null,
            "align_items": null,
            "align_self": null,
            "border": null,
            "bottom": null,
            "display": null,
            "flex": null,
            "flex_flow": null,
            "grid_area": null,
            "grid_auto_columns": null,
            "grid_auto_flow": null,
            "grid_auto_rows": null,
            "grid_column": null,
            "grid_gap": null,
            "grid_row": null,
            "grid_template_areas": null,
            "grid_template_columns": null,
            "grid_template_rows": null,
            "height": null,
            "justify_content": null,
            "justify_items": null,
            "left": null,
            "margin": null,
            "max_height": null,
            "max_width": null,
            "min_height": null,
            "min_width": null,
            "object_fit": null,
            "object_position": null,
            "order": null,
            "overflow": null,
            "overflow_x": null,
            "overflow_y": null,
            "padding": null,
            "right": null,
            "top": null,
            "visibility": null,
            "width": null
          }
        },
        "d2c6fec0e6d14256a6d13f2925a57fc7": {
          "model_module": "@jupyter-widgets/base",
          "model_name": "LayoutModel",
          "model_module_version": "1.2.0",
          "state": {
            "_model_module": "@jupyter-widgets/base",
            "_model_module_version": "1.2.0",
            "_model_name": "LayoutModel",
            "_view_count": null,
            "_view_module": "@jupyter-widgets/base",
            "_view_module_version": "1.2.0",
            "_view_name": "LayoutView",
            "align_content": null,
            "align_items": null,
            "align_self": null,
            "border": null,
            "bottom": null,
            "display": null,
            "flex": null,
            "flex_flow": null,
            "grid_area": null,
            "grid_auto_columns": null,
            "grid_auto_flow": null,
            "grid_auto_rows": null,
            "grid_column": null,
            "grid_gap": null,
            "grid_row": null,
            "grid_template_areas": null,
            "grid_template_columns": null,
            "grid_template_rows": null,
            "height": null,
            "justify_content": null,
            "justify_items": null,
            "left": null,
            "margin": null,
            "max_height": null,
            "max_width": null,
            "min_height": null,
            "min_width": null,
            "object_fit": null,
            "object_position": null,
            "order": null,
            "overflow": null,
            "overflow_x": null,
            "overflow_y": null,
            "padding": null,
            "right": null,
            "top": null,
            "visibility": null,
            "width": null
          }
        },
        "678509ca021344f394c4e0f282f7364e": {
          "model_module": "@jupyter-widgets/controls",
          "model_name": "DescriptionStyleModel",
          "model_module_version": "1.5.0",
          "state": {
            "_model_module": "@jupyter-widgets/controls",
            "_model_module_version": "1.5.0",
            "_model_name": "DescriptionStyleModel",
            "_view_count": null,
            "_view_module": "@jupyter-widgets/base",
            "_view_module_version": "1.2.0",
            "_view_name": "StyleView",
            "description_width": ""
          }
        },
        "f7b42a7e99574643b5df1c980ddefcb2": {
          "model_module": "@jupyter-widgets/base",
          "model_name": "LayoutModel",
          "model_module_version": "1.2.0",
          "state": {
            "_model_module": "@jupyter-widgets/base",
            "_model_module_version": "1.2.0",
            "_model_name": "LayoutModel",
            "_view_count": null,
            "_view_module": "@jupyter-widgets/base",
            "_view_module_version": "1.2.0",
            "_view_name": "LayoutView",
            "align_content": null,
            "align_items": null,
            "align_self": null,
            "border": null,
            "bottom": null,
            "display": null,
            "flex": null,
            "flex_flow": null,
            "grid_area": null,
            "grid_auto_columns": null,
            "grid_auto_flow": null,
            "grid_auto_rows": null,
            "grid_column": null,
            "grid_gap": null,
            "grid_row": null,
            "grid_template_areas": null,
            "grid_template_columns": null,
            "grid_template_rows": null,
            "height": null,
            "justify_content": null,
            "justify_items": null,
            "left": null,
            "margin": null,
            "max_height": null,
            "max_width": null,
            "min_height": null,
            "min_width": null,
            "object_fit": null,
            "object_position": null,
            "order": null,
            "overflow": null,
            "overflow_x": null,
            "overflow_y": null,
            "padding": null,
            "right": null,
            "top": null,
            "visibility": null,
            "width": null
          }
        },
        "b22584ede2d34a78ae957d9120e0b876": {
          "model_module": "@jupyter-widgets/controls",
          "model_name": "ProgressStyleModel",
          "model_module_version": "1.5.0",
          "state": {
            "_model_module": "@jupyter-widgets/controls",
            "_model_module_version": "1.5.0",
            "_model_name": "ProgressStyleModel",
            "_view_count": null,
            "_view_module": "@jupyter-widgets/base",
            "_view_module_version": "1.2.0",
            "_view_name": "StyleView",
            "bar_color": null,
            "description_width": ""
          }
        },
        "531bdd6b5d7e4117a6ebf34652a78dfc": {
          "model_module": "@jupyter-widgets/base",
          "model_name": "LayoutModel",
          "model_module_version": "1.2.0",
          "state": {
            "_model_module": "@jupyter-widgets/base",
            "_model_module_version": "1.2.0",
            "_model_name": "LayoutModel",
            "_view_count": null,
            "_view_module": "@jupyter-widgets/base",
            "_view_module_version": "1.2.0",
            "_view_name": "LayoutView",
            "align_content": null,
            "align_items": null,
            "align_self": null,
            "border": null,
            "bottom": null,
            "display": null,
            "flex": null,
            "flex_flow": null,
            "grid_area": null,
            "grid_auto_columns": null,
            "grid_auto_flow": null,
            "grid_auto_rows": null,
            "grid_column": null,
            "grid_gap": null,
            "grid_row": null,
            "grid_template_areas": null,
            "grid_template_columns": null,
            "grid_template_rows": null,
            "height": null,
            "justify_content": null,
            "justify_items": null,
            "left": null,
            "margin": null,
            "max_height": null,
            "max_width": null,
            "min_height": null,
            "min_width": null,
            "object_fit": null,
            "object_position": null,
            "order": null,
            "overflow": null,
            "overflow_x": null,
            "overflow_y": null,
            "padding": null,
            "right": null,
            "top": null,
            "visibility": null,
            "width": null
          }
        },
        "0bc74023582e481191bff77b22d37da3": {
          "model_module": "@jupyter-widgets/controls",
          "model_name": "DescriptionStyleModel",
          "model_module_version": "1.5.0",
          "state": {
            "_model_module": "@jupyter-widgets/controls",
            "_model_module_version": "1.5.0",
            "_model_name": "DescriptionStyleModel",
            "_view_count": null,
            "_view_module": "@jupyter-widgets/base",
            "_view_module_version": "1.2.0",
            "_view_name": "StyleView",
            "description_width": ""
          }
        },
        "bbd195c1c2f94a5682875b95a7c8d48a": {
          "model_module": "@jupyter-widgets/controls",
          "model_name": "HBoxModel",
          "model_module_version": "1.5.0",
          "state": {
            "_dom_classes": [],
            "_model_module": "@jupyter-widgets/controls",
            "_model_module_version": "1.5.0",
            "_model_name": "HBoxModel",
            "_view_count": null,
            "_view_module": "@jupyter-widgets/controls",
            "_view_module_version": "1.5.0",
            "_view_name": "HBoxView",
            "box_style": "",
            "children": [
              "IPY_MODEL_ef7c3f5b0a874f64a4ae7a11d549b410",
              "IPY_MODEL_9b04d310ada24da482ed0e315c28c78e",
              "IPY_MODEL_2199e3a7590044b796f58d5f7ebc57bf"
            ],
            "layout": "IPY_MODEL_a83df2fdc55d4be8a123a89597f7cb99"
          }
        },
        "ef7c3f5b0a874f64a4ae7a11d549b410": {
          "model_module": "@jupyter-widgets/controls",
          "model_name": "HTMLModel",
          "model_module_version": "1.5.0",
          "state": {
            "_dom_classes": [],
            "_model_module": "@jupyter-widgets/controls",
            "_model_module_version": "1.5.0",
            "_model_name": "HTMLModel",
            "_view_count": null,
            "_view_module": "@jupyter-widgets/controls",
            "_view_module_version": "1.5.0",
            "_view_name": "HTMLView",
            "description": "",
            "description_tooltip": null,
            "layout": "IPY_MODEL_fd1c2cb0abbc4c95814791138dbceee9",
            "placeholder": "​",
            "style": "IPY_MODEL_e5f2df2881514300bd3a85deb156bba4",
            "value": "tokenizer.json: 100%"
          }
        },
        "9b04d310ada24da482ed0e315c28c78e": {
          "model_module": "@jupyter-widgets/controls",
          "model_name": "FloatProgressModel",
          "model_module_version": "1.5.0",
          "state": {
            "_dom_classes": [],
            "_model_module": "@jupyter-widgets/controls",
            "_model_module_version": "1.5.0",
            "_model_name": "FloatProgressModel",
            "_view_count": null,
            "_view_module": "@jupyter-widgets/controls",
            "_view_module_version": "1.5.0",
            "_view_name": "ProgressView",
            "bar_style": "success",
            "description": "",
            "description_tooltip": null,
            "layout": "IPY_MODEL_70ce68d9a62e4cde8e96a2d62bfddd95",
            "max": 466062,
            "min": 0,
            "orientation": "horizontal",
            "style": "IPY_MODEL_dca456f0ffb14f05a68f3b6db232798c",
            "value": 466062
          }
        },
        "2199e3a7590044b796f58d5f7ebc57bf": {
          "model_module": "@jupyter-widgets/controls",
          "model_name": "HTMLModel",
          "model_module_version": "1.5.0",
          "state": {
            "_dom_classes": [],
            "_model_module": "@jupyter-widgets/controls",
            "_model_module_version": "1.5.0",
            "_model_name": "HTMLModel",
            "_view_count": null,
            "_view_module": "@jupyter-widgets/controls",
            "_view_module_version": "1.5.0",
            "_view_name": "HTMLView",
            "description": "",
            "description_tooltip": null,
            "layout": "IPY_MODEL_e7618dfcd20443898c8b1d310957b072",
            "placeholder": "​",
            "style": "IPY_MODEL_5adec058dfc44d61b15b4e7a53d64e9a",
            "value": " 466k/466k [00:00&lt;00:00, 6.25MB/s]"
          }
        },
        "a83df2fdc55d4be8a123a89597f7cb99": {
          "model_module": "@jupyter-widgets/base",
          "model_name": "LayoutModel",
          "model_module_version": "1.2.0",
          "state": {
            "_model_module": "@jupyter-widgets/base",
            "_model_module_version": "1.2.0",
            "_model_name": "LayoutModel",
            "_view_count": null,
            "_view_module": "@jupyter-widgets/base",
            "_view_module_version": "1.2.0",
            "_view_name": "LayoutView",
            "align_content": null,
            "align_items": null,
            "align_self": null,
            "border": null,
            "bottom": null,
            "display": null,
            "flex": null,
            "flex_flow": null,
            "grid_area": null,
            "grid_auto_columns": null,
            "grid_auto_flow": null,
            "grid_auto_rows": null,
            "grid_column": null,
            "grid_gap": null,
            "grid_row": null,
            "grid_template_areas": null,
            "grid_template_columns": null,
            "grid_template_rows": null,
            "height": null,
            "justify_content": null,
            "justify_items": null,
            "left": null,
            "margin": null,
            "max_height": null,
            "max_width": null,
            "min_height": null,
            "min_width": null,
            "object_fit": null,
            "object_position": null,
            "order": null,
            "overflow": null,
            "overflow_x": null,
            "overflow_y": null,
            "padding": null,
            "right": null,
            "top": null,
            "visibility": null,
            "width": null
          }
        },
        "fd1c2cb0abbc4c95814791138dbceee9": {
          "model_module": "@jupyter-widgets/base",
          "model_name": "LayoutModel",
          "model_module_version": "1.2.0",
          "state": {
            "_model_module": "@jupyter-widgets/base",
            "_model_module_version": "1.2.0",
            "_model_name": "LayoutModel",
            "_view_count": null,
            "_view_module": "@jupyter-widgets/base",
            "_view_module_version": "1.2.0",
            "_view_name": "LayoutView",
            "align_content": null,
            "align_items": null,
            "align_self": null,
            "border": null,
            "bottom": null,
            "display": null,
            "flex": null,
            "flex_flow": null,
            "grid_area": null,
            "grid_auto_columns": null,
            "grid_auto_flow": null,
            "grid_auto_rows": null,
            "grid_column": null,
            "grid_gap": null,
            "grid_row": null,
            "grid_template_areas": null,
            "grid_template_columns": null,
            "grid_template_rows": null,
            "height": null,
            "justify_content": null,
            "justify_items": null,
            "left": null,
            "margin": null,
            "max_height": null,
            "max_width": null,
            "min_height": null,
            "min_width": null,
            "object_fit": null,
            "object_position": null,
            "order": null,
            "overflow": null,
            "overflow_x": null,
            "overflow_y": null,
            "padding": null,
            "right": null,
            "top": null,
            "visibility": null,
            "width": null
          }
        },
        "e5f2df2881514300bd3a85deb156bba4": {
          "model_module": "@jupyter-widgets/controls",
          "model_name": "DescriptionStyleModel",
          "model_module_version": "1.5.0",
          "state": {
            "_model_module": "@jupyter-widgets/controls",
            "_model_module_version": "1.5.0",
            "_model_name": "DescriptionStyleModel",
            "_view_count": null,
            "_view_module": "@jupyter-widgets/base",
            "_view_module_version": "1.2.0",
            "_view_name": "StyleView",
            "description_width": ""
          }
        },
        "70ce68d9a62e4cde8e96a2d62bfddd95": {
          "model_module": "@jupyter-widgets/base",
          "model_name": "LayoutModel",
          "model_module_version": "1.2.0",
          "state": {
            "_model_module": "@jupyter-widgets/base",
            "_model_module_version": "1.2.0",
            "_model_name": "LayoutModel",
            "_view_count": null,
            "_view_module": "@jupyter-widgets/base",
            "_view_module_version": "1.2.0",
            "_view_name": "LayoutView",
            "align_content": null,
            "align_items": null,
            "align_self": null,
            "border": null,
            "bottom": null,
            "display": null,
            "flex": null,
            "flex_flow": null,
            "grid_area": null,
            "grid_auto_columns": null,
            "grid_auto_flow": null,
            "grid_auto_rows": null,
            "grid_column": null,
            "grid_gap": null,
            "grid_row": null,
            "grid_template_areas": null,
            "grid_template_columns": null,
            "grid_template_rows": null,
            "height": null,
            "justify_content": null,
            "justify_items": null,
            "left": null,
            "margin": null,
            "max_height": null,
            "max_width": null,
            "min_height": null,
            "min_width": null,
            "object_fit": null,
            "object_position": null,
            "order": null,
            "overflow": null,
            "overflow_x": null,
            "overflow_y": null,
            "padding": null,
            "right": null,
            "top": null,
            "visibility": null,
            "width": null
          }
        },
        "dca456f0ffb14f05a68f3b6db232798c": {
          "model_module": "@jupyter-widgets/controls",
          "model_name": "ProgressStyleModel",
          "model_module_version": "1.5.0",
          "state": {
            "_model_module": "@jupyter-widgets/controls",
            "_model_module_version": "1.5.0",
            "_model_name": "ProgressStyleModel",
            "_view_count": null,
            "_view_module": "@jupyter-widgets/base",
            "_view_module_version": "1.2.0",
            "_view_name": "StyleView",
            "bar_color": null,
            "description_width": ""
          }
        },
        "e7618dfcd20443898c8b1d310957b072": {
          "model_module": "@jupyter-widgets/base",
          "model_name": "LayoutModel",
          "model_module_version": "1.2.0",
          "state": {
            "_model_module": "@jupyter-widgets/base",
            "_model_module_version": "1.2.0",
            "_model_name": "LayoutModel",
            "_view_count": null,
            "_view_module": "@jupyter-widgets/base",
            "_view_module_version": "1.2.0",
            "_view_name": "LayoutView",
            "align_content": null,
            "align_items": null,
            "align_self": null,
            "border": null,
            "bottom": null,
            "display": null,
            "flex": null,
            "flex_flow": null,
            "grid_area": null,
            "grid_auto_columns": null,
            "grid_auto_flow": null,
            "grid_auto_rows": null,
            "grid_column": null,
            "grid_gap": null,
            "grid_row": null,
            "grid_template_areas": null,
            "grid_template_columns": null,
            "grid_template_rows": null,
            "height": null,
            "justify_content": null,
            "justify_items": null,
            "left": null,
            "margin": null,
            "max_height": null,
            "max_width": null,
            "min_height": null,
            "min_width": null,
            "object_fit": null,
            "object_position": null,
            "order": null,
            "overflow": null,
            "overflow_x": null,
            "overflow_y": null,
            "padding": null,
            "right": null,
            "top": null,
            "visibility": null,
            "width": null
          }
        },
        "5adec058dfc44d61b15b4e7a53d64e9a": {
          "model_module": "@jupyter-widgets/controls",
          "model_name": "DescriptionStyleModel",
          "model_module_version": "1.5.0",
          "state": {
            "_model_module": "@jupyter-widgets/controls",
            "_model_module_version": "1.5.0",
            "_model_name": "DescriptionStyleModel",
            "_view_count": null,
            "_view_module": "@jupyter-widgets/base",
            "_view_module_version": "1.2.0",
            "_view_name": "StyleView",
            "description_width": ""
          }
        },
        "a5ebb85e3bb243edbbe1814254a7e849": {
          "model_module": "@jupyter-widgets/controls",
          "model_name": "HBoxModel",
          "model_module_version": "1.5.0",
          "state": {
            "_dom_classes": [],
            "_model_module": "@jupyter-widgets/controls",
            "_model_module_version": "1.5.0",
            "_model_name": "HBoxModel",
            "_view_count": null,
            "_view_module": "@jupyter-widgets/controls",
            "_view_module_version": "1.5.0",
            "_view_name": "HBoxView",
            "box_style": "",
            "children": [
              "IPY_MODEL_c3efc0d78a6b411c9b83a5d7a3329071",
              "IPY_MODEL_49b768854550460d890aa975db45c1b1",
              "IPY_MODEL_0f0cc348362a4395b1d906c12208ba0c"
            ],
            "layout": "IPY_MODEL_81738654730444818ec2ecf3df8d29a6"
          }
        },
        "c3efc0d78a6b411c9b83a5d7a3329071": {
          "model_module": "@jupyter-widgets/controls",
          "model_name": "HTMLModel",
          "model_module_version": "1.5.0",
          "state": {
            "_dom_classes": [],
            "_model_module": "@jupyter-widgets/controls",
            "_model_module_version": "1.5.0",
            "_model_name": "HTMLModel",
            "_view_count": null,
            "_view_module": "@jupyter-widgets/controls",
            "_view_module_version": "1.5.0",
            "_view_name": "HTMLView",
            "description": "",
            "description_tooltip": null,
            "layout": "IPY_MODEL_d09c2805d6484d5c90199a4b51df9be1",
            "placeholder": "​",
            "style": "IPY_MODEL_3025369e2bae43a5a0ffb83bd750aa23",
            "value": "config.json: 100%"
          }
        },
        "49b768854550460d890aa975db45c1b1": {
          "model_module": "@jupyter-widgets/controls",
          "model_name": "FloatProgressModel",
          "model_module_version": "1.5.0",
          "state": {
            "_dom_classes": [],
            "_model_module": "@jupyter-widgets/controls",
            "_model_module_version": "1.5.0",
            "_model_name": "FloatProgressModel",
            "_view_count": null,
            "_view_module": "@jupyter-widgets/controls",
            "_view_module_version": "1.5.0",
            "_view_name": "ProgressView",
            "bar_style": "success",
            "description": "",
            "description_tooltip": null,
            "layout": "IPY_MODEL_ccf12bc1db8042bd89dd68bf6ff7aa81",
            "max": 570,
            "min": 0,
            "orientation": "horizontal",
            "style": "IPY_MODEL_e9ecf425da3045d1a6f21795acb88ff3",
            "value": 570
          }
        },
        "0f0cc348362a4395b1d906c12208ba0c": {
          "model_module": "@jupyter-widgets/controls",
          "model_name": "HTMLModel",
          "model_module_version": "1.5.0",
          "state": {
            "_dom_classes": [],
            "_model_module": "@jupyter-widgets/controls",
            "_model_module_version": "1.5.0",
            "_model_name": "HTMLModel",
            "_view_count": null,
            "_view_module": "@jupyter-widgets/controls",
            "_view_module_version": "1.5.0",
            "_view_name": "HTMLView",
            "description": "",
            "description_tooltip": null,
            "layout": "IPY_MODEL_22814da86a7743f488aee17176ef9774",
            "placeholder": "​",
            "style": "IPY_MODEL_6ac8def140f94f13a6c6e4c6e02c4524",
            "value": " 570/570 [00:00&lt;00:00, 24.5kB/s]"
          }
        },
        "81738654730444818ec2ecf3df8d29a6": {
          "model_module": "@jupyter-widgets/base",
          "model_name": "LayoutModel",
          "model_module_version": "1.2.0",
          "state": {
            "_model_module": "@jupyter-widgets/base",
            "_model_module_version": "1.2.0",
            "_model_name": "LayoutModel",
            "_view_count": null,
            "_view_module": "@jupyter-widgets/base",
            "_view_module_version": "1.2.0",
            "_view_name": "LayoutView",
            "align_content": null,
            "align_items": null,
            "align_self": null,
            "border": null,
            "bottom": null,
            "display": null,
            "flex": null,
            "flex_flow": null,
            "grid_area": null,
            "grid_auto_columns": null,
            "grid_auto_flow": null,
            "grid_auto_rows": null,
            "grid_column": null,
            "grid_gap": null,
            "grid_row": null,
            "grid_template_areas": null,
            "grid_template_columns": null,
            "grid_template_rows": null,
            "height": null,
            "justify_content": null,
            "justify_items": null,
            "left": null,
            "margin": null,
            "max_height": null,
            "max_width": null,
            "min_height": null,
            "min_width": null,
            "object_fit": null,
            "object_position": null,
            "order": null,
            "overflow": null,
            "overflow_x": null,
            "overflow_y": null,
            "padding": null,
            "right": null,
            "top": null,
            "visibility": null,
            "width": null
          }
        },
        "d09c2805d6484d5c90199a4b51df9be1": {
          "model_module": "@jupyter-widgets/base",
          "model_name": "LayoutModel",
          "model_module_version": "1.2.0",
          "state": {
            "_model_module": "@jupyter-widgets/base",
            "_model_module_version": "1.2.0",
            "_model_name": "LayoutModel",
            "_view_count": null,
            "_view_module": "@jupyter-widgets/base",
            "_view_module_version": "1.2.0",
            "_view_name": "LayoutView",
            "align_content": null,
            "align_items": null,
            "align_self": null,
            "border": null,
            "bottom": null,
            "display": null,
            "flex": null,
            "flex_flow": null,
            "grid_area": null,
            "grid_auto_columns": null,
            "grid_auto_flow": null,
            "grid_auto_rows": null,
            "grid_column": null,
            "grid_gap": null,
            "grid_row": null,
            "grid_template_areas": null,
            "grid_template_columns": null,
            "grid_template_rows": null,
            "height": null,
            "justify_content": null,
            "justify_items": null,
            "left": null,
            "margin": null,
            "max_height": null,
            "max_width": null,
            "min_height": null,
            "min_width": null,
            "object_fit": null,
            "object_position": null,
            "order": null,
            "overflow": null,
            "overflow_x": null,
            "overflow_y": null,
            "padding": null,
            "right": null,
            "top": null,
            "visibility": null,
            "width": null
          }
        },
        "3025369e2bae43a5a0ffb83bd750aa23": {
          "model_module": "@jupyter-widgets/controls",
          "model_name": "DescriptionStyleModel",
          "model_module_version": "1.5.0",
          "state": {
            "_model_module": "@jupyter-widgets/controls",
            "_model_module_version": "1.5.0",
            "_model_name": "DescriptionStyleModel",
            "_view_count": null,
            "_view_module": "@jupyter-widgets/base",
            "_view_module_version": "1.2.0",
            "_view_name": "StyleView",
            "description_width": ""
          }
        },
        "ccf12bc1db8042bd89dd68bf6ff7aa81": {
          "model_module": "@jupyter-widgets/base",
          "model_name": "LayoutModel",
          "model_module_version": "1.2.0",
          "state": {
            "_model_module": "@jupyter-widgets/base",
            "_model_module_version": "1.2.0",
            "_model_name": "LayoutModel",
            "_view_count": null,
            "_view_module": "@jupyter-widgets/base",
            "_view_module_version": "1.2.0",
            "_view_name": "LayoutView",
            "align_content": null,
            "align_items": null,
            "align_self": null,
            "border": null,
            "bottom": null,
            "display": null,
            "flex": null,
            "flex_flow": null,
            "grid_area": null,
            "grid_auto_columns": null,
            "grid_auto_flow": null,
            "grid_auto_rows": null,
            "grid_column": null,
            "grid_gap": null,
            "grid_row": null,
            "grid_template_areas": null,
            "grid_template_columns": null,
            "grid_template_rows": null,
            "height": null,
            "justify_content": null,
            "justify_items": null,
            "left": null,
            "margin": null,
            "max_height": null,
            "max_width": null,
            "min_height": null,
            "min_width": null,
            "object_fit": null,
            "object_position": null,
            "order": null,
            "overflow": null,
            "overflow_x": null,
            "overflow_y": null,
            "padding": null,
            "right": null,
            "top": null,
            "visibility": null,
            "width": null
          }
        },
        "e9ecf425da3045d1a6f21795acb88ff3": {
          "model_module": "@jupyter-widgets/controls",
          "model_name": "ProgressStyleModel",
          "model_module_version": "1.5.0",
          "state": {
            "_model_module": "@jupyter-widgets/controls",
            "_model_module_version": "1.5.0",
            "_model_name": "ProgressStyleModel",
            "_view_count": null,
            "_view_module": "@jupyter-widgets/base",
            "_view_module_version": "1.2.0",
            "_view_name": "StyleView",
            "bar_color": null,
            "description_width": ""
          }
        },
        "22814da86a7743f488aee17176ef9774": {
          "model_module": "@jupyter-widgets/base",
          "model_name": "LayoutModel",
          "model_module_version": "1.2.0",
          "state": {
            "_model_module": "@jupyter-widgets/base",
            "_model_module_version": "1.2.0",
            "_model_name": "LayoutModel",
            "_view_count": null,
            "_view_module": "@jupyter-widgets/base",
            "_view_module_version": "1.2.0",
            "_view_name": "LayoutView",
            "align_content": null,
            "align_items": null,
            "align_self": null,
            "border": null,
            "bottom": null,
            "display": null,
            "flex": null,
            "flex_flow": null,
            "grid_area": null,
            "grid_auto_columns": null,
            "grid_auto_flow": null,
            "grid_auto_rows": null,
            "grid_column": null,
            "grid_gap": null,
            "grid_row": null,
            "grid_template_areas": null,
            "grid_template_columns": null,
            "grid_template_rows": null,
            "height": null,
            "justify_content": null,
            "justify_items": null,
            "left": null,
            "margin": null,
            "max_height": null,
            "max_width": null,
            "min_height": null,
            "min_width": null,
            "object_fit": null,
            "object_position": null,
            "order": null,
            "overflow": null,
            "overflow_x": null,
            "overflow_y": null,
            "padding": null,
            "right": null,
            "top": null,
            "visibility": null,
            "width": null
          }
        },
        "6ac8def140f94f13a6c6e4c6e02c4524": {
          "model_module": "@jupyter-widgets/controls",
          "model_name": "DescriptionStyleModel",
          "model_module_version": "1.5.0",
          "state": {
            "_model_module": "@jupyter-widgets/controls",
            "_model_module_version": "1.5.0",
            "_model_name": "DescriptionStyleModel",
            "_view_count": null,
            "_view_module": "@jupyter-widgets/base",
            "_view_module_version": "1.2.0",
            "_view_name": "StyleView",
            "description_width": ""
          }
        },
        "c02d72f477c94ac8b30d8aaa0147fbee": {
          "model_module": "@jupyter-widgets/controls",
          "model_name": "HBoxModel",
          "model_module_version": "1.5.0",
          "state": {
            "_dom_classes": [],
            "_model_module": "@jupyter-widgets/controls",
            "_model_module_version": "1.5.0",
            "_model_name": "HBoxModel",
            "_view_count": null,
            "_view_module": "@jupyter-widgets/controls",
            "_view_module_version": "1.5.0",
            "_view_name": "HBoxView",
            "box_style": "",
            "children": [
              "IPY_MODEL_d31a7c7386db418bb5d2010f4b62dd03",
              "IPY_MODEL_2443621ed8cf4943b6d575cbef26d0cf",
              "IPY_MODEL_8fb525fd2bd947c38ed229ded940e019"
            ],
            "layout": "IPY_MODEL_f3360efcda984ad09e013be79a3d61ea"
          }
        },
        "d31a7c7386db418bb5d2010f4b62dd03": {
          "model_module": "@jupyter-widgets/controls",
          "model_name": "HTMLModel",
          "model_module_version": "1.5.0",
          "state": {
            "_dom_classes": [],
            "_model_module": "@jupyter-widgets/controls",
            "_model_module_version": "1.5.0",
            "_model_name": "HTMLModel",
            "_view_count": null,
            "_view_module": "@jupyter-widgets/controls",
            "_view_module_version": "1.5.0",
            "_view_name": "HTMLView",
            "description": "",
            "description_tooltip": null,
            "layout": "IPY_MODEL_de352abf78f7492d9f2be037ee437a0b",
            "placeholder": "​",
            "style": "IPY_MODEL_aa0a4c2f98bf44798b77ef8237653319",
            "value": "model.safetensors: 100%"
          }
        },
        "2443621ed8cf4943b6d575cbef26d0cf": {
          "model_module": "@jupyter-widgets/controls",
          "model_name": "FloatProgressModel",
          "model_module_version": "1.5.0",
          "state": {
            "_dom_classes": [],
            "_model_module": "@jupyter-widgets/controls",
            "_model_module_version": "1.5.0",
            "_model_name": "FloatProgressModel",
            "_view_count": null,
            "_view_module": "@jupyter-widgets/controls",
            "_view_module_version": "1.5.0",
            "_view_name": "ProgressView",
            "bar_style": "success",
            "description": "",
            "description_tooltip": null,
            "layout": "IPY_MODEL_611fab9dec4947f88572d27d5fecfd22",
            "max": 440449768,
            "min": 0,
            "orientation": "horizontal",
            "style": "IPY_MODEL_30486322e6704ee1a98a7c639affe686",
            "value": 440449768
          }
        },
        "8fb525fd2bd947c38ed229ded940e019": {
          "model_module": "@jupyter-widgets/controls",
          "model_name": "HTMLModel",
          "model_module_version": "1.5.0",
          "state": {
            "_dom_classes": [],
            "_model_module": "@jupyter-widgets/controls",
            "_model_module_version": "1.5.0",
            "_model_name": "HTMLModel",
            "_view_count": null,
            "_view_module": "@jupyter-widgets/controls",
            "_view_module_version": "1.5.0",
            "_view_name": "HTMLView",
            "description": "",
            "description_tooltip": null,
            "layout": "IPY_MODEL_138dd628cdb0459d87911a033110e54b",
            "placeholder": "​",
            "style": "IPY_MODEL_e4e5fe80e5e14437ad47c7627305c038",
            "value": " 440M/440M [00:01&lt;00:00, 245MB/s]"
          }
        },
        "f3360efcda984ad09e013be79a3d61ea": {
          "model_module": "@jupyter-widgets/base",
          "model_name": "LayoutModel",
          "model_module_version": "1.2.0",
          "state": {
            "_model_module": "@jupyter-widgets/base",
            "_model_module_version": "1.2.0",
            "_model_name": "LayoutModel",
            "_view_count": null,
            "_view_module": "@jupyter-widgets/base",
            "_view_module_version": "1.2.0",
            "_view_name": "LayoutView",
            "align_content": null,
            "align_items": null,
            "align_self": null,
            "border": null,
            "bottom": null,
            "display": null,
            "flex": null,
            "flex_flow": null,
            "grid_area": null,
            "grid_auto_columns": null,
            "grid_auto_flow": null,
            "grid_auto_rows": null,
            "grid_column": null,
            "grid_gap": null,
            "grid_row": null,
            "grid_template_areas": null,
            "grid_template_columns": null,
            "grid_template_rows": null,
            "height": null,
            "justify_content": null,
            "justify_items": null,
            "left": null,
            "margin": null,
            "max_height": null,
            "max_width": null,
            "min_height": null,
            "min_width": null,
            "object_fit": null,
            "object_position": null,
            "order": null,
            "overflow": null,
            "overflow_x": null,
            "overflow_y": null,
            "padding": null,
            "right": null,
            "top": null,
            "visibility": null,
            "width": null
          }
        },
        "de352abf78f7492d9f2be037ee437a0b": {
          "model_module": "@jupyter-widgets/base",
          "model_name": "LayoutModel",
          "model_module_version": "1.2.0",
          "state": {
            "_model_module": "@jupyter-widgets/base",
            "_model_module_version": "1.2.0",
            "_model_name": "LayoutModel",
            "_view_count": null,
            "_view_module": "@jupyter-widgets/base",
            "_view_module_version": "1.2.0",
            "_view_name": "LayoutView",
            "align_content": null,
            "align_items": null,
            "align_self": null,
            "border": null,
            "bottom": null,
            "display": null,
            "flex": null,
            "flex_flow": null,
            "grid_area": null,
            "grid_auto_columns": null,
            "grid_auto_flow": null,
            "grid_auto_rows": null,
            "grid_column": null,
            "grid_gap": null,
            "grid_row": null,
            "grid_template_areas": null,
            "grid_template_columns": null,
            "grid_template_rows": null,
            "height": null,
            "justify_content": null,
            "justify_items": null,
            "left": null,
            "margin": null,
            "max_height": null,
            "max_width": null,
            "min_height": null,
            "min_width": null,
            "object_fit": null,
            "object_position": null,
            "order": null,
            "overflow": null,
            "overflow_x": null,
            "overflow_y": null,
            "padding": null,
            "right": null,
            "top": null,
            "visibility": null,
            "width": null
          }
        },
        "aa0a4c2f98bf44798b77ef8237653319": {
          "model_module": "@jupyter-widgets/controls",
          "model_name": "DescriptionStyleModel",
          "model_module_version": "1.5.0",
          "state": {
            "_model_module": "@jupyter-widgets/controls",
            "_model_module_version": "1.5.0",
            "_model_name": "DescriptionStyleModel",
            "_view_count": null,
            "_view_module": "@jupyter-widgets/base",
            "_view_module_version": "1.2.0",
            "_view_name": "StyleView",
            "description_width": ""
          }
        },
        "611fab9dec4947f88572d27d5fecfd22": {
          "model_module": "@jupyter-widgets/base",
          "model_name": "LayoutModel",
          "model_module_version": "1.2.0",
          "state": {
            "_model_module": "@jupyter-widgets/base",
            "_model_module_version": "1.2.0",
            "_model_name": "LayoutModel",
            "_view_count": null,
            "_view_module": "@jupyter-widgets/base",
            "_view_module_version": "1.2.0",
            "_view_name": "LayoutView",
            "align_content": null,
            "align_items": null,
            "align_self": null,
            "border": null,
            "bottom": null,
            "display": null,
            "flex": null,
            "flex_flow": null,
            "grid_area": null,
            "grid_auto_columns": null,
            "grid_auto_flow": null,
            "grid_auto_rows": null,
            "grid_column": null,
            "grid_gap": null,
            "grid_row": null,
            "grid_template_areas": null,
            "grid_template_columns": null,
            "grid_template_rows": null,
            "height": null,
            "justify_content": null,
            "justify_items": null,
            "left": null,
            "margin": null,
            "max_height": null,
            "max_width": null,
            "min_height": null,
            "min_width": null,
            "object_fit": null,
            "object_position": null,
            "order": null,
            "overflow": null,
            "overflow_x": null,
            "overflow_y": null,
            "padding": null,
            "right": null,
            "top": null,
            "visibility": null,
            "width": null
          }
        },
        "30486322e6704ee1a98a7c639affe686": {
          "model_module": "@jupyter-widgets/controls",
          "model_name": "ProgressStyleModel",
          "model_module_version": "1.5.0",
          "state": {
            "_model_module": "@jupyter-widgets/controls",
            "_model_module_version": "1.5.0",
            "_model_name": "ProgressStyleModel",
            "_view_count": null,
            "_view_module": "@jupyter-widgets/base",
            "_view_module_version": "1.2.0",
            "_view_name": "StyleView",
            "bar_color": null,
            "description_width": ""
          }
        },
        "138dd628cdb0459d87911a033110e54b": {
          "model_module": "@jupyter-widgets/base",
          "model_name": "LayoutModel",
          "model_module_version": "1.2.0",
          "state": {
            "_model_module": "@jupyter-widgets/base",
            "_model_module_version": "1.2.0",
            "_model_name": "LayoutModel",
            "_view_count": null,
            "_view_module": "@jupyter-widgets/base",
            "_view_module_version": "1.2.0",
            "_view_name": "LayoutView",
            "align_content": null,
            "align_items": null,
            "align_self": null,
            "border": null,
            "bottom": null,
            "display": null,
            "flex": null,
            "flex_flow": null,
            "grid_area": null,
            "grid_auto_columns": null,
            "grid_auto_flow": null,
            "grid_auto_rows": null,
            "grid_column": null,
            "grid_gap": null,
            "grid_row": null,
            "grid_template_areas": null,
            "grid_template_columns": null,
            "grid_template_rows": null,
            "height": null,
            "justify_content": null,
            "justify_items": null,
            "left": null,
            "margin": null,
            "max_height": null,
            "max_width": null,
            "min_height": null,
            "min_width": null,
            "object_fit": null,
            "object_position": null,
            "order": null,
            "overflow": null,
            "overflow_x": null,
            "overflow_y": null,
            "padding": null,
            "right": null,
            "top": null,
            "visibility": null,
            "width": null
          }
        },
        "e4e5fe80e5e14437ad47c7627305c038": {
          "model_module": "@jupyter-widgets/controls",
          "model_name": "DescriptionStyleModel",
          "model_module_version": "1.5.0",
          "state": {
            "_model_module": "@jupyter-widgets/controls",
            "_model_module_version": "1.5.0",
            "_model_name": "DescriptionStyleModel",
            "_view_count": null,
            "_view_module": "@jupyter-widgets/base",
            "_view_module_version": "1.2.0",
            "_view_name": "StyleView",
            "description_width": ""
          }
        }
      }
    }
  },
  "cells": [
    {
      "cell_type": "markdown",
      "metadata": {
        "id": "ADkUGTqixRWo"
      },
      "source": [
        "# Introduction"
      ]
    },
    {
      "cell_type": "markdown",
      "metadata": {
        "id": "RX_ZDhicpHkV"
      },
      "source": [
        "# 1. Setup"
      ]
    },
    {
      "cell_type": "markdown",
      "metadata": {
        "id": "nSU7yERLP_66"
      },
      "source": [
        "## 1.1. Using Colab GPU for Training\n"
      ]
    },
    {
      "cell_type": "markdown",
      "metadata": {
        "id": "cqG7FzRVFEIv"
      },
      "source": [
        "GPU 사용 가능 여부 확인"
      ]
    },
    {
      "cell_type": "code",
      "metadata": {
        "id": "oYsV4H8fCpZ-",
        "colab": {
          "base_uri": "https://localhost:8080/"
        },
        "outputId": "f46bd5c8-145b-4d97-e2dd-73ff415e3176"
      },
      "source": [
        "import torch\n",
        "\n",
        "if torch.cuda.is_available():\n",
        "\n",
        "    device = torch.device(\"cuda\")\n",
        "\n",
        "    print('There are %d GPU(s) available.' % torch.cuda.device_count())\n",
        "\n",
        "    print('We will use the GPU:', torch.cuda.get_device_name(0))\n",
        "\n",
        "else:\n",
        "    print('No GPU available, using the CPU instead.')\n",
        "    device = torch.device(\"cpu\")"
      ],
      "execution_count": null,
      "outputs": [
        {
          "output_type": "stream",
          "name": "stdout",
          "text": [
            "There are 1 GPU(s) available.\n",
            "We will use the GPU: Tesla T4\n"
          ]
        }
      ]
    },
    {
      "cell_type": "markdown",
      "metadata": {
        "id": "2ElsnSNUridI"
      },
      "source": [
        "## 1.2. Installing the Hugging Face Library\n"
      ]
    },
    {
      "cell_type": "markdown",
      "metadata": {
        "id": "G_N2UDLevYWn"
      },
      "source": [
        "현재 Hugging Face 라이브러리는 BERT 작업을 위한 가장 널리 사용되는 인터페이스입니다. 사전 훈련된 다양한 transformer 모델을 지원하는 것 외에도 라이브러리에는 특정 작업에 적합한 이러한 모델의 사전 구축된 수정 사항도 포함되어 있습니다. 예를 들어, 본 과제에서는 `BertForSequenceClassification`을 사용합니다.\n",
        "\n",
        "라이브러리에는 토큰 분류, 질문 답변, 다음 문장 예측 등을 위한 작업별 클래스도 포함되어 있습니다. 이러한 사전 구축된 클래스를 사용하면 목적에 맞게 BERT를 수정하는 프로세스가 단순화됩니다."
      ]
    },
    {
      "cell_type": "code",
      "metadata": {
        "id": "0NmMdkZO8R6q",
        "colab": {
          "base_uri": "https://localhost:8080/"
        },
        "outputId": "0a955e82-e88e-4655-e6d1-7de7a0c3cdb7"
      },
      "source": [
        "!pip install transformers"
      ],
      "execution_count": null,
      "outputs": [
        {
          "output_type": "stream",
          "name": "stdout",
          "text": [
            "Requirement already satisfied: transformers in /usr/local/lib/python3.11/dist-packages (4.48.2)\n",
            "Requirement already satisfied: filelock in /usr/local/lib/python3.11/dist-packages (from transformers) (3.17.0)\n",
            "Requirement already satisfied: huggingface-hub<1.0,>=0.24.0 in /usr/local/lib/python3.11/dist-packages (from transformers) (0.28.1)\n",
            "Requirement already satisfied: numpy>=1.17 in /usr/local/lib/python3.11/dist-packages (from transformers) (1.26.4)\n",
            "Requirement already satisfied: packaging>=20.0 in /usr/local/lib/python3.11/dist-packages (from transformers) (24.2)\n",
            "Requirement already satisfied: pyyaml>=5.1 in /usr/local/lib/python3.11/dist-packages (from transformers) (6.0.2)\n",
            "Requirement already satisfied: regex!=2019.12.17 in /usr/local/lib/python3.11/dist-packages (from transformers) (2024.11.6)\n",
            "Requirement already satisfied: requests in /usr/local/lib/python3.11/dist-packages (from transformers) (2.32.3)\n",
            "Requirement already satisfied: tokenizers<0.22,>=0.21 in /usr/local/lib/python3.11/dist-packages (from transformers) (0.21.0)\n",
            "Requirement already satisfied: safetensors>=0.4.1 in /usr/local/lib/python3.11/dist-packages (from transformers) (0.5.2)\n",
            "Requirement already satisfied: tqdm>=4.27 in /usr/local/lib/python3.11/dist-packages (from transformers) (4.67.1)\n",
            "Requirement already satisfied: fsspec>=2023.5.0 in /usr/local/lib/python3.11/dist-packages (from huggingface-hub<1.0,>=0.24.0->transformers) (2024.10.0)\n",
            "Requirement already satisfied: typing-extensions>=3.7.4.3 in /usr/local/lib/python3.11/dist-packages (from huggingface-hub<1.0,>=0.24.0->transformers) (4.12.2)\n",
            "Requirement already satisfied: charset-normalizer<4,>=2 in /usr/local/lib/python3.11/dist-packages (from requests->transformers) (3.4.1)\n",
            "Requirement already satisfied: idna<4,>=2.5 in /usr/local/lib/python3.11/dist-packages (from requests->transformers) (3.10)\n",
            "Requirement already satisfied: urllib3<3,>=1.21.1 in /usr/local/lib/python3.11/dist-packages (from requests->transformers) (2.3.0)\n",
            "Requirement already satisfied: certifi>=2017.4.17 in /usr/local/lib/python3.11/dist-packages (from requests->transformers) (2025.1.31)\n"
          ]
        }
      ]
    },
    {
      "cell_type": "markdown",
      "metadata": {
        "id": "guw6ZNtaswKc"
      },
      "source": [
        "# 2. Loading CoLA Dataset\n"
      ]
    },
    {
      "cell_type": "markdown",
      "metadata": {
        "id": "_9ZKxKc04Btk"
      },
      "source": [
        "단일 문장 분류에는 [CoLA(The Corpus of Linguistic Acceptability)](https://nyu-mll.github.io/CoLA/) 데이터세트를 사용하겠습니다. 문법적으로 정확하거나 틀린 것으로 표시된 문장 데이터셋입니다. 2018년 5월에 처음 공개되었으며 BERT와 같은 모델이 평가되는 \"GLUE 벤치마크\"에 포함된 테스트 중 하나입니다."
      ]
    },
    {
      "cell_type": "markdown",
      "metadata": {
        "id": "4JrUHXms16cn"
      },
      "source": [
        "## 2.1. Download & Extract"
      ]
    },
    {
      "cell_type": "markdown",
      "metadata": {
        "id": "3ZNVW6xd0T0X"
      },
      "source": [
        "`wget` 패키지로 데이터를 다운로드합니다."
      ]
    },
    {
      "cell_type": "code",
      "metadata": {
        "id": "5m6AnuFv0QXQ",
        "colab": {
          "base_uri": "https://localhost:8080/"
        },
        "outputId": "30ab8418-660e-43d5-eab3-44f1ce8e8293"
      },
      "source": [
        "!pip install wget"
      ],
      "execution_count": null,
      "outputs": [
        {
          "output_type": "stream",
          "name": "stdout",
          "text": [
            "Collecting wget\n",
            "  Downloading wget-3.2.zip (10 kB)\n",
            "  Preparing metadata (setup.py) ... \u001b[?25l\u001b[?25hdone\n",
            "Building wheels for collected packages: wget\n",
            "  Building wheel for wget (setup.py) ... \u001b[?25l\u001b[?25hdone\n",
            "  Created wheel for wget: filename=wget-3.2-py3-none-any.whl size=9656 sha256=f01370f6d369f4155e3520685d210df14b840ef78bf83d7674b8bc6ed1b1dbb8\n",
            "  Stored in directory: /root/.cache/pip/wheels/40/b3/0f/a40dbd1c6861731779f62cc4babcb234387e11d697df70ee97\n",
            "Successfully built wget\n",
            "Installing collected packages: wget\n",
            "Successfully installed wget-3.2\n"
          ]
        }
      ]
    },
    {
      "cell_type": "code",
      "metadata": {
        "id": "pMtmPMkBzrvs",
        "colab": {
          "base_uri": "https://localhost:8080/"
        },
        "outputId": "376e99d1-e286-4df8-9dbe-2422382b9cdc"
      },
      "source": [
        "import wget\n",
        "import os\n",
        "\n",
        "print('Downloading dataset...')\n",
        "\n",
        "url = 'https://nyu-mll.github.io/CoLA/cola_public_1.1.zip'\n",
        "\n",
        "if not os.path.exists('./cola_public_1.1.zip'):\n",
        "    wget.download(url, './cola_public_1.1.zip')"
      ],
      "execution_count": null,
      "outputs": [
        {
          "output_type": "stream",
          "name": "stdout",
          "text": [
            "Downloading dataset...\n"
          ]
        }
      ]
    },
    {
      "cell_type": "code",
      "metadata": {
        "id": "0Yv-tNv20dnH",
        "colab": {
          "base_uri": "https://localhost:8080/"
        },
        "outputId": "50d1e566-833e-4fab-e503-3eb7859e9971"
      },
      "source": [
        "# Unzip\n",
        "if not os.path.exists('./cola_public/'):\n",
        "    !unzip cola_public_1.1.zip"
      ],
      "execution_count": null,
      "outputs": [
        {
          "output_type": "stream",
          "name": "stdout",
          "text": [
            "Archive:  cola_public_1.1.zip\n",
            "   creating: cola_public/\n",
            "  inflating: cola_public/README      \n",
            "   creating: cola_public/tokenized/\n",
            "  inflating: cola_public/tokenized/in_domain_dev.tsv  \n",
            "  inflating: cola_public/tokenized/in_domain_train.tsv  \n",
            "  inflating: cola_public/tokenized/out_of_domain_dev.tsv  \n",
            "   creating: cola_public/raw/\n",
            "  inflating: cola_public/raw/in_domain_dev.tsv  \n",
            "  inflating: cola_public/raw/in_domain_train.tsv  \n",
            "  inflating: cola_public/raw/out_of_domain_dev.tsv  \n"
          ]
        }
      ]
    },
    {
      "cell_type": "markdown",
      "metadata": {
        "id": "oQUy9Tat2EF_"
      },
      "source": [
        "## 2.2. Parse"
      ]
    },
    {
      "cell_type": "code",
      "metadata": {
        "id": "_UkeC7SG2krJ",
        "colab": {
          "base_uri": "https://localhost:8080/",
          "height": 400
        },
        "outputId": "6a5e4b34-b35d-483c-b9ea-1d645b51551d"
      },
      "source": [
        "import pandas as pd\n",
        "\n",
        "# delimiter='\\t' : 구분자가 탭(\\t)임을 지정\n",
        "# header=None : 파일에 헤더(컬럼 이름)가 없음을 지정\n",
        "# names=['sentence_source', 'label', 'label_notes', 'sentence'] : 데이터프레임의 컬럼 이름을 지정 <- 해당 파일에는 4개의 컬럼 존재\n",
        "df = pd.read_csv(\"./cola_public/raw/in_domain_train.tsv\", delimiter='\\t', header=None, names=['sentence_source', 'label', 'label_notes', 'sentence'])\n",
        "\n",
        "print('Number of training sentences: {:,}\\n'.format(df.shape[0]))\n",
        "\n",
        "df.sample(10)"
      ],
      "execution_count": null,
      "outputs": [
        {
          "output_type": "stream",
          "name": "stdout",
          "text": [
            "Number of training sentences: 8,551\n",
            "\n"
          ]
        },
        {
          "output_type": "execute_result",
          "data": {
            "text/plain": [
              "     sentence_source  label label_notes  \\\n",
              "7983            ad03      0           *   \n",
              "602             bc01      1         NaN   \n",
              "6839            m_02      0           *   \n",
              "3828            ks08      1         NaN   \n",
              "7221           sks13      1         NaN   \n",
              "6098            c_13      0           *   \n",
              "3174            l-93      0           *   \n",
              "8164            ad03      1         NaN   \n",
              "7797            ad03      1         NaN   \n",
              "6959            m_02      0           *   \n",
              "\n",
              "                                             sentence  \n",
              "7983  What Medea wondered if was the potion was ready  \n",
              "602                    The tub leaked empty of water.  \n",
              "6839     The experts attributed Raphael this picture.  \n",
              "3828              John wiped the window with a towel.  \n",
              "7221  Henri wants the book which is on the top shelf.  \n",
              "6098                        I want Bradley that left.  \n",
              "3174                        The horse groomed itself.  \n",
              "8164                         Which goddess helped us?  \n",
              "7797        Gilgamesh may have quickly cast the spell  \n",
              "6959                   The volcano erupts on Tuesday.  "
            ],
            "text/html": [
              "\n",
              "  <div id=\"df-090b9b6b-5c74-4399-b1bc-e486f42cc7fa\" class=\"colab-df-container\">\n",
              "    <div>\n",
              "<style scoped>\n",
              "    .dataframe tbody tr th:only-of-type {\n",
              "        vertical-align: middle;\n",
              "    }\n",
              "\n",
              "    .dataframe tbody tr th {\n",
              "        vertical-align: top;\n",
              "    }\n",
              "\n",
              "    .dataframe thead th {\n",
              "        text-align: right;\n",
              "    }\n",
              "</style>\n",
              "<table border=\"1\" class=\"dataframe\">\n",
              "  <thead>\n",
              "    <tr style=\"text-align: right;\">\n",
              "      <th></th>\n",
              "      <th>sentence_source</th>\n",
              "      <th>label</th>\n",
              "      <th>label_notes</th>\n",
              "      <th>sentence</th>\n",
              "    </tr>\n",
              "  </thead>\n",
              "  <tbody>\n",
              "    <tr>\n",
              "      <th>7983</th>\n",
              "      <td>ad03</td>\n",
              "      <td>0</td>\n",
              "      <td>*</td>\n",
              "      <td>What Medea wondered if was the potion was ready</td>\n",
              "    </tr>\n",
              "    <tr>\n",
              "      <th>602</th>\n",
              "      <td>bc01</td>\n",
              "      <td>1</td>\n",
              "      <td>NaN</td>\n",
              "      <td>The tub leaked empty of water.</td>\n",
              "    </tr>\n",
              "    <tr>\n",
              "      <th>6839</th>\n",
              "      <td>m_02</td>\n",
              "      <td>0</td>\n",
              "      <td>*</td>\n",
              "      <td>The experts attributed Raphael this picture.</td>\n",
              "    </tr>\n",
              "    <tr>\n",
              "      <th>3828</th>\n",
              "      <td>ks08</td>\n",
              "      <td>1</td>\n",
              "      <td>NaN</td>\n",
              "      <td>John wiped the window with a towel.</td>\n",
              "    </tr>\n",
              "    <tr>\n",
              "      <th>7221</th>\n",
              "      <td>sks13</td>\n",
              "      <td>1</td>\n",
              "      <td>NaN</td>\n",
              "      <td>Henri wants the book which is on the top shelf.</td>\n",
              "    </tr>\n",
              "    <tr>\n",
              "      <th>6098</th>\n",
              "      <td>c_13</td>\n",
              "      <td>0</td>\n",
              "      <td>*</td>\n",
              "      <td>I want Bradley that left.</td>\n",
              "    </tr>\n",
              "    <tr>\n",
              "      <th>3174</th>\n",
              "      <td>l-93</td>\n",
              "      <td>0</td>\n",
              "      <td>*</td>\n",
              "      <td>The horse groomed itself.</td>\n",
              "    </tr>\n",
              "    <tr>\n",
              "      <th>8164</th>\n",
              "      <td>ad03</td>\n",
              "      <td>1</td>\n",
              "      <td>NaN</td>\n",
              "      <td>Which goddess helped us?</td>\n",
              "    </tr>\n",
              "    <tr>\n",
              "      <th>7797</th>\n",
              "      <td>ad03</td>\n",
              "      <td>1</td>\n",
              "      <td>NaN</td>\n",
              "      <td>Gilgamesh may have quickly cast the spell</td>\n",
              "    </tr>\n",
              "    <tr>\n",
              "      <th>6959</th>\n",
              "      <td>m_02</td>\n",
              "      <td>0</td>\n",
              "      <td>*</td>\n",
              "      <td>The volcano erupts on Tuesday.</td>\n",
              "    </tr>\n",
              "  </tbody>\n",
              "</table>\n",
              "</div>\n",
              "    <div class=\"colab-df-buttons\">\n",
              "\n",
              "  <div class=\"colab-df-container\">\n",
              "    <button class=\"colab-df-convert\" onclick=\"convertToInteractive('df-090b9b6b-5c74-4399-b1bc-e486f42cc7fa')\"\n",
              "            title=\"Convert this dataframe to an interactive table.\"\n",
              "            style=\"display:none;\">\n",
              "\n",
              "  <svg xmlns=\"http://www.w3.org/2000/svg\" height=\"24px\" viewBox=\"0 -960 960 960\">\n",
              "    <path d=\"M120-120v-720h720v720H120Zm60-500h600v-160H180v160Zm220 220h160v-160H400v160Zm0 220h160v-160H400v160ZM180-400h160v-160H180v160Zm440 0h160v-160H620v160ZM180-180h160v-160H180v160Zm440 0h160v-160H620v160Z\"/>\n",
              "  </svg>\n",
              "    </button>\n",
              "\n",
              "  <style>\n",
              "    .colab-df-container {\n",
              "      display:flex;\n",
              "      gap: 12px;\n",
              "    }\n",
              "\n",
              "    .colab-df-convert {\n",
              "      background-color: #E8F0FE;\n",
              "      border: none;\n",
              "      border-radius: 50%;\n",
              "      cursor: pointer;\n",
              "      display: none;\n",
              "      fill: #1967D2;\n",
              "      height: 32px;\n",
              "      padding: 0 0 0 0;\n",
              "      width: 32px;\n",
              "    }\n",
              "\n",
              "    .colab-df-convert:hover {\n",
              "      background-color: #E2EBFA;\n",
              "      box-shadow: 0px 1px 2px rgba(60, 64, 67, 0.3), 0px 1px 3px 1px rgba(60, 64, 67, 0.15);\n",
              "      fill: #174EA6;\n",
              "    }\n",
              "\n",
              "    .colab-df-buttons div {\n",
              "      margin-bottom: 4px;\n",
              "    }\n",
              "\n",
              "    [theme=dark] .colab-df-convert {\n",
              "      background-color: #3B4455;\n",
              "      fill: #D2E3FC;\n",
              "    }\n",
              "\n",
              "    [theme=dark] .colab-df-convert:hover {\n",
              "      background-color: #434B5C;\n",
              "      box-shadow: 0px 1px 3px 1px rgba(0, 0, 0, 0.15);\n",
              "      filter: drop-shadow(0px 1px 2px rgba(0, 0, 0, 0.3));\n",
              "      fill: #FFFFFF;\n",
              "    }\n",
              "  </style>\n",
              "\n",
              "    <script>\n",
              "      const buttonEl =\n",
              "        document.querySelector('#df-090b9b6b-5c74-4399-b1bc-e486f42cc7fa button.colab-df-convert');\n",
              "      buttonEl.style.display =\n",
              "        google.colab.kernel.accessAllowed ? 'block' : 'none';\n",
              "\n",
              "      async function convertToInteractive(key) {\n",
              "        const element = document.querySelector('#df-090b9b6b-5c74-4399-b1bc-e486f42cc7fa');\n",
              "        const dataTable =\n",
              "          await google.colab.kernel.invokeFunction('convertToInteractive',\n",
              "                                                    [key], {});\n",
              "        if (!dataTable) return;\n",
              "\n",
              "        const docLinkHtml = 'Like what you see? Visit the ' +\n",
              "          '<a target=\"_blank\" href=https://colab.research.google.com/notebooks/data_table.ipynb>data table notebook</a>'\n",
              "          + ' to learn more about interactive tables.';\n",
              "        element.innerHTML = '';\n",
              "        dataTable['output_type'] = 'display_data';\n",
              "        await google.colab.output.renderOutput(dataTable, element);\n",
              "        const docLink = document.createElement('div');\n",
              "        docLink.innerHTML = docLinkHtml;\n",
              "        element.appendChild(docLink);\n",
              "      }\n",
              "    </script>\n",
              "  </div>\n",
              "\n",
              "\n",
              "<div id=\"df-9debdd64-1549-4959-a71e-3b88f0688c29\">\n",
              "  <button class=\"colab-df-quickchart\" onclick=\"quickchart('df-9debdd64-1549-4959-a71e-3b88f0688c29')\"\n",
              "            title=\"Suggest charts\"\n",
              "            style=\"display:none;\">\n",
              "\n",
              "<svg xmlns=\"http://www.w3.org/2000/svg\" height=\"24px\"viewBox=\"0 0 24 24\"\n",
              "     width=\"24px\">\n",
              "    <g>\n",
              "        <path d=\"M19 3H5c-1.1 0-2 .9-2 2v14c0 1.1.9 2 2 2h14c1.1 0 2-.9 2-2V5c0-1.1-.9-2-2-2zM9 17H7v-7h2v7zm4 0h-2V7h2v10zm4 0h-2v-4h2v4z\"/>\n",
              "    </g>\n",
              "</svg>\n",
              "  </button>\n",
              "\n",
              "<style>\n",
              "  .colab-df-quickchart {\n",
              "      --bg-color: #E8F0FE;\n",
              "      --fill-color: #1967D2;\n",
              "      --hover-bg-color: #E2EBFA;\n",
              "      --hover-fill-color: #174EA6;\n",
              "      --disabled-fill-color: #AAA;\n",
              "      --disabled-bg-color: #DDD;\n",
              "  }\n",
              "\n",
              "  [theme=dark] .colab-df-quickchart {\n",
              "      --bg-color: #3B4455;\n",
              "      --fill-color: #D2E3FC;\n",
              "      --hover-bg-color: #434B5C;\n",
              "      --hover-fill-color: #FFFFFF;\n",
              "      --disabled-bg-color: #3B4455;\n",
              "      --disabled-fill-color: #666;\n",
              "  }\n",
              "\n",
              "  .colab-df-quickchart {\n",
              "    background-color: var(--bg-color);\n",
              "    border: none;\n",
              "    border-radius: 50%;\n",
              "    cursor: pointer;\n",
              "    display: none;\n",
              "    fill: var(--fill-color);\n",
              "    height: 32px;\n",
              "    padding: 0;\n",
              "    width: 32px;\n",
              "  }\n",
              "\n",
              "  .colab-df-quickchart:hover {\n",
              "    background-color: var(--hover-bg-color);\n",
              "    box-shadow: 0 1px 2px rgba(60, 64, 67, 0.3), 0 1px 3px 1px rgba(60, 64, 67, 0.15);\n",
              "    fill: var(--button-hover-fill-color);\n",
              "  }\n",
              "\n",
              "  .colab-df-quickchart-complete:disabled,\n",
              "  .colab-df-quickchart-complete:disabled:hover {\n",
              "    background-color: var(--disabled-bg-color);\n",
              "    fill: var(--disabled-fill-color);\n",
              "    box-shadow: none;\n",
              "  }\n",
              "\n",
              "  .colab-df-spinner {\n",
              "    border: 2px solid var(--fill-color);\n",
              "    border-color: transparent;\n",
              "    border-bottom-color: var(--fill-color);\n",
              "    animation:\n",
              "      spin 1s steps(1) infinite;\n",
              "  }\n",
              "\n",
              "  @keyframes spin {\n",
              "    0% {\n",
              "      border-color: transparent;\n",
              "      border-bottom-color: var(--fill-color);\n",
              "      border-left-color: var(--fill-color);\n",
              "    }\n",
              "    20% {\n",
              "      border-color: transparent;\n",
              "      border-left-color: var(--fill-color);\n",
              "      border-top-color: var(--fill-color);\n",
              "    }\n",
              "    30% {\n",
              "      border-color: transparent;\n",
              "      border-left-color: var(--fill-color);\n",
              "      border-top-color: var(--fill-color);\n",
              "      border-right-color: var(--fill-color);\n",
              "    }\n",
              "    40% {\n",
              "      border-color: transparent;\n",
              "      border-right-color: var(--fill-color);\n",
              "      border-top-color: var(--fill-color);\n",
              "    }\n",
              "    60% {\n",
              "      border-color: transparent;\n",
              "      border-right-color: var(--fill-color);\n",
              "    }\n",
              "    80% {\n",
              "      border-color: transparent;\n",
              "      border-right-color: var(--fill-color);\n",
              "      border-bottom-color: var(--fill-color);\n",
              "    }\n",
              "    90% {\n",
              "      border-color: transparent;\n",
              "      border-bottom-color: var(--fill-color);\n",
              "    }\n",
              "  }\n",
              "</style>\n",
              "\n",
              "  <script>\n",
              "    async function quickchart(key) {\n",
              "      const quickchartButtonEl =\n",
              "        document.querySelector('#' + key + ' button');\n",
              "      quickchartButtonEl.disabled = true;  // To prevent multiple clicks.\n",
              "      quickchartButtonEl.classList.add('colab-df-spinner');\n",
              "      try {\n",
              "        const charts = await google.colab.kernel.invokeFunction(\n",
              "            'suggestCharts', [key], {});\n",
              "      } catch (error) {\n",
              "        console.error('Error during call to suggestCharts:', error);\n",
              "      }\n",
              "      quickchartButtonEl.classList.remove('colab-df-spinner');\n",
              "      quickchartButtonEl.classList.add('colab-df-quickchart-complete');\n",
              "    }\n",
              "    (() => {\n",
              "      let quickchartButtonEl =\n",
              "        document.querySelector('#df-9debdd64-1549-4959-a71e-3b88f0688c29 button');\n",
              "      quickchartButtonEl.style.display =\n",
              "        google.colab.kernel.accessAllowed ? 'block' : 'none';\n",
              "    })();\n",
              "  </script>\n",
              "</div>\n",
              "\n",
              "    </div>\n",
              "  </div>\n"
            ],
            "application/vnd.google.colaboratory.intrinsic+json": {
              "type": "dataframe",
              "summary": "{\n  \"name\": \"df\",\n  \"rows\": 10,\n  \"fields\": [\n    {\n      \"column\": \"sentence_source\",\n      \"properties\": {\n        \"dtype\": \"string\",\n        \"num_unique_values\": 7,\n        \"samples\": [\n          \"ad03\",\n          \"bc01\",\n          \"c_13\"\n        ],\n        \"semantic_type\": \"\",\n        \"description\": \"\"\n      }\n    },\n    {\n      \"column\": \"label\",\n      \"properties\": {\n        \"dtype\": \"number\",\n        \"std\": 0,\n        \"min\": 0,\n        \"max\": 1,\n        \"num_unique_values\": 2,\n        \"samples\": [\n          1,\n          0\n        ],\n        \"semantic_type\": \"\",\n        \"description\": \"\"\n      }\n    },\n    {\n      \"column\": \"label_notes\",\n      \"properties\": {\n        \"dtype\": \"category\",\n        \"num_unique_values\": 1,\n        \"samples\": [\n          \"*\"\n        ],\n        \"semantic_type\": \"\",\n        \"description\": \"\"\n      }\n    },\n    {\n      \"column\": \"sentence\",\n      \"properties\": {\n        \"dtype\": \"string\",\n        \"num_unique_values\": 10,\n        \"samples\": [\n          \"Gilgamesh may have quickly cast the spell\"\n        ],\n        \"semantic_type\": \"\",\n        \"description\": \"\"\n      }\n    }\n  ]\n}"
            }
          },
          "metadata": {},
          "execution_count": 6
        }
      ]
    },
    {
      "cell_type": "markdown",
      "metadata": {
        "id": "kfWzpPi92UAH"
      },
      "source": [
        "`sentence` 와 `label`\b만 남기겠습니다."
      ]
    },
    {
      "cell_type": "code",
      "metadata": {
        "id": "blqIvQaQncdJ",
        "colab": {
          "base_uri": "https://localhost:8080/",
          "height": 206
        },
        "outputId": "abf9a63e-3c05-4f0f-e151-081cca018a3c"
      },
      "source": [
        "# df 데이터프레임에서 label 컬럼의 값이 0인 행들만 필터링 -> sentence와 label 두 개의 컬럼만 선택\n",
        "# 라벨이 0인 경우: 비문법적(grammatically incorrect)인 문장\n",
        "df.loc[df.label == 0].sample(5)[['sentence', 'label']]"
      ],
      "execution_count": null,
      "outputs": [
        {
          "output_type": "execute_result",
          "data": {
            "text/plain": [
              "                                      sentence  label\n",
              "8439         Readings Shakespeare satisfied me      0\n",
              "6932  What happened was they knew his parents.      0\n",
              "4011       John made Mary to cook Korean food.      0\n",
              "4722         Six inches were grown by the boy.      0\n",
              "525      The box gradually contained the ball.      0"
            ],
            "text/html": [
              "\n",
              "  <div id=\"df-8e7c6229-2d3d-4ddf-ba6b-62817c2780b4\" class=\"colab-df-container\">\n",
              "    <div>\n",
              "<style scoped>\n",
              "    .dataframe tbody tr th:only-of-type {\n",
              "        vertical-align: middle;\n",
              "    }\n",
              "\n",
              "    .dataframe tbody tr th {\n",
              "        vertical-align: top;\n",
              "    }\n",
              "\n",
              "    .dataframe thead th {\n",
              "        text-align: right;\n",
              "    }\n",
              "</style>\n",
              "<table border=\"1\" class=\"dataframe\">\n",
              "  <thead>\n",
              "    <tr style=\"text-align: right;\">\n",
              "      <th></th>\n",
              "      <th>sentence</th>\n",
              "      <th>label</th>\n",
              "    </tr>\n",
              "  </thead>\n",
              "  <tbody>\n",
              "    <tr>\n",
              "      <th>8439</th>\n",
              "      <td>Readings Shakespeare satisfied me</td>\n",
              "      <td>0</td>\n",
              "    </tr>\n",
              "    <tr>\n",
              "      <th>6932</th>\n",
              "      <td>What happened was they knew his parents.</td>\n",
              "      <td>0</td>\n",
              "    </tr>\n",
              "    <tr>\n",
              "      <th>4011</th>\n",
              "      <td>John made Mary to cook Korean food.</td>\n",
              "      <td>0</td>\n",
              "    </tr>\n",
              "    <tr>\n",
              "      <th>4722</th>\n",
              "      <td>Six inches were grown by the boy.</td>\n",
              "      <td>0</td>\n",
              "    </tr>\n",
              "    <tr>\n",
              "      <th>525</th>\n",
              "      <td>The box gradually contained the ball.</td>\n",
              "      <td>0</td>\n",
              "    </tr>\n",
              "  </tbody>\n",
              "</table>\n",
              "</div>\n",
              "    <div class=\"colab-df-buttons\">\n",
              "\n",
              "  <div class=\"colab-df-container\">\n",
              "    <button class=\"colab-df-convert\" onclick=\"convertToInteractive('df-8e7c6229-2d3d-4ddf-ba6b-62817c2780b4')\"\n",
              "            title=\"Convert this dataframe to an interactive table.\"\n",
              "            style=\"display:none;\">\n",
              "\n",
              "  <svg xmlns=\"http://www.w3.org/2000/svg\" height=\"24px\" viewBox=\"0 -960 960 960\">\n",
              "    <path d=\"M120-120v-720h720v720H120Zm60-500h600v-160H180v160Zm220 220h160v-160H400v160Zm0 220h160v-160H400v160ZM180-400h160v-160H180v160Zm440 0h160v-160H620v160ZM180-180h160v-160H180v160Zm440 0h160v-160H620v160Z\"/>\n",
              "  </svg>\n",
              "    </button>\n",
              "\n",
              "  <style>\n",
              "    .colab-df-container {\n",
              "      display:flex;\n",
              "      gap: 12px;\n",
              "    }\n",
              "\n",
              "    .colab-df-convert {\n",
              "      background-color: #E8F0FE;\n",
              "      border: none;\n",
              "      border-radius: 50%;\n",
              "      cursor: pointer;\n",
              "      display: none;\n",
              "      fill: #1967D2;\n",
              "      height: 32px;\n",
              "      padding: 0 0 0 0;\n",
              "      width: 32px;\n",
              "    }\n",
              "\n",
              "    .colab-df-convert:hover {\n",
              "      background-color: #E2EBFA;\n",
              "      box-shadow: 0px 1px 2px rgba(60, 64, 67, 0.3), 0px 1px 3px 1px rgba(60, 64, 67, 0.15);\n",
              "      fill: #174EA6;\n",
              "    }\n",
              "\n",
              "    .colab-df-buttons div {\n",
              "      margin-bottom: 4px;\n",
              "    }\n",
              "\n",
              "    [theme=dark] .colab-df-convert {\n",
              "      background-color: #3B4455;\n",
              "      fill: #D2E3FC;\n",
              "    }\n",
              "\n",
              "    [theme=dark] .colab-df-convert:hover {\n",
              "      background-color: #434B5C;\n",
              "      box-shadow: 0px 1px 3px 1px rgba(0, 0, 0, 0.15);\n",
              "      filter: drop-shadow(0px 1px 2px rgba(0, 0, 0, 0.3));\n",
              "      fill: #FFFFFF;\n",
              "    }\n",
              "  </style>\n",
              "\n",
              "    <script>\n",
              "      const buttonEl =\n",
              "        document.querySelector('#df-8e7c6229-2d3d-4ddf-ba6b-62817c2780b4 button.colab-df-convert');\n",
              "      buttonEl.style.display =\n",
              "        google.colab.kernel.accessAllowed ? 'block' : 'none';\n",
              "\n",
              "      async function convertToInteractive(key) {\n",
              "        const element = document.querySelector('#df-8e7c6229-2d3d-4ddf-ba6b-62817c2780b4');\n",
              "        const dataTable =\n",
              "          await google.colab.kernel.invokeFunction('convertToInteractive',\n",
              "                                                    [key], {});\n",
              "        if (!dataTable) return;\n",
              "\n",
              "        const docLinkHtml = 'Like what you see? Visit the ' +\n",
              "          '<a target=\"_blank\" href=https://colab.research.google.com/notebooks/data_table.ipynb>data table notebook</a>'\n",
              "          + ' to learn more about interactive tables.';\n",
              "        element.innerHTML = '';\n",
              "        dataTable['output_type'] = 'display_data';\n",
              "        await google.colab.output.renderOutput(dataTable, element);\n",
              "        const docLink = document.createElement('div');\n",
              "        docLink.innerHTML = docLinkHtml;\n",
              "        element.appendChild(docLink);\n",
              "      }\n",
              "    </script>\n",
              "  </div>\n",
              "\n",
              "\n",
              "<div id=\"df-a34dba1d-1887-44f1-b4d0-2ecce55ddaa2\">\n",
              "  <button class=\"colab-df-quickchart\" onclick=\"quickchart('df-a34dba1d-1887-44f1-b4d0-2ecce55ddaa2')\"\n",
              "            title=\"Suggest charts\"\n",
              "            style=\"display:none;\">\n",
              "\n",
              "<svg xmlns=\"http://www.w3.org/2000/svg\" height=\"24px\"viewBox=\"0 0 24 24\"\n",
              "     width=\"24px\">\n",
              "    <g>\n",
              "        <path d=\"M19 3H5c-1.1 0-2 .9-2 2v14c0 1.1.9 2 2 2h14c1.1 0 2-.9 2-2V5c0-1.1-.9-2-2-2zM9 17H7v-7h2v7zm4 0h-2V7h2v10zm4 0h-2v-4h2v4z\"/>\n",
              "    </g>\n",
              "</svg>\n",
              "  </button>\n",
              "\n",
              "<style>\n",
              "  .colab-df-quickchart {\n",
              "      --bg-color: #E8F0FE;\n",
              "      --fill-color: #1967D2;\n",
              "      --hover-bg-color: #E2EBFA;\n",
              "      --hover-fill-color: #174EA6;\n",
              "      --disabled-fill-color: #AAA;\n",
              "      --disabled-bg-color: #DDD;\n",
              "  }\n",
              "\n",
              "  [theme=dark] .colab-df-quickchart {\n",
              "      --bg-color: #3B4455;\n",
              "      --fill-color: #D2E3FC;\n",
              "      --hover-bg-color: #434B5C;\n",
              "      --hover-fill-color: #FFFFFF;\n",
              "      --disabled-bg-color: #3B4455;\n",
              "      --disabled-fill-color: #666;\n",
              "  }\n",
              "\n",
              "  .colab-df-quickchart {\n",
              "    background-color: var(--bg-color);\n",
              "    border: none;\n",
              "    border-radius: 50%;\n",
              "    cursor: pointer;\n",
              "    display: none;\n",
              "    fill: var(--fill-color);\n",
              "    height: 32px;\n",
              "    padding: 0;\n",
              "    width: 32px;\n",
              "  }\n",
              "\n",
              "  .colab-df-quickchart:hover {\n",
              "    background-color: var(--hover-bg-color);\n",
              "    box-shadow: 0 1px 2px rgba(60, 64, 67, 0.3), 0 1px 3px 1px rgba(60, 64, 67, 0.15);\n",
              "    fill: var(--button-hover-fill-color);\n",
              "  }\n",
              "\n",
              "  .colab-df-quickchart-complete:disabled,\n",
              "  .colab-df-quickchart-complete:disabled:hover {\n",
              "    background-color: var(--disabled-bg-color);\n",
              "    fill: var(--disabled-fill-color);\n",
              "    box-shadow: none;\n",
              "  }\n",
              "\n",
              "  .colab-df-spinner {\n",
              "    border: 2px solid var(--fill-color);\n",
              "    border-color: transparent;\n",
              "    border-bottom-color: var(--fill-color);\n",
              "    animation:\n",
              "      spin 1s steps(1) infinite;\n",
              "  }\n",
              "\n",
              "  @keyframes spin {\n",
              "    0% {\n",
              "      border-color: transparent;\n",
              "      border-bottom-color: var(--fill-color);\n",
              "      border-left-color: var(--fill-color);\n",
              "    }\n",
              "    20% {\n",
              "      border-color: transparent;\n",
              "      border-left-color: var(--fill-color);\n",
              "      border-top-color: var(--fill-color);\n",
              "    }\n",
              "    30% {\n",
              "      border-color: transparent;\n",
              "      border-left-color: var(--fill-color);\n",
              "      border-top-color: var(--fill-color);\n",
              "      border-right-color: var(--fill-color);\n",
              "    }\n",
              "    40% {\n",
              "      border-color: transparent;\n",
              "      border-right-color: var(--fill-color);\n",
              "      border-top-color: var(--fill-color);\n",
              "    }\n",
              "    60% {\n",
              "      border-color: transparent;\n",
              "      border-right-color: var(--fill-color);\n",
              "    }\n",
              "    80% {\n",
              "      border-color: transparent;\n",
              "      border-right-color: var(--fill-color);\n",
              "      border-bottom-color: var(--fill-color);\n",
              "    }\n",
              "    90% {\n",
              "      border-color: transparent;\n",
              "      border-bottom-color: var(--fill-color);\n",
              "    }\n",
              "  }\n",
              "</style>\n",
              "\n",
              "  <script>\n",
              "    async function quickchart(key) {\n",
              "      const quickchartButtonEl =\n",
              "        document.querySelector('#' + key + ' button');\n",
              "      quickchartButtonEl.disabled = true;  // To prevent multiple clicks.\n",
              "      quickchartButtonEl.classList.add('colab-df-spinner');\n",
              "      try {\n",
              "        const charts = await google.colab.kernel.invokeFunction(\n",
              "            'suggestCharts', [key], {});\n",
              "      } catch (error) {\n",
              "        console.error('Error during call to suggestCharts:', error);\n",
              "      }\n",
              "      quickchartButtonEl.classList.remove('colab-df-spinner');\n",
              "      quickchartButtonEl.classList.add('colab-df-quickchart-complete');\n",
              "    }\n",
              "    (() => {\n",
              "      let quickchartButtonEl =\n",
              "        document.querySelector('#df-a34dba1d-1887-44f1-b4d0-2ecce55ddaa2 button');\n",
              "      quickchartButtonEl.style.display =\n",
              "        google.colab.kernel.accessAllowed ? 'block' : 'none';\n",
              "    })();\n",
              "  </script>\n",
              "</div>\n",
              "\n",
              "    </div>\n",
              "  </div>\n"
            ],
            "application/vnd.google.colaboratory.intrinsic+json": {
              "type": "dataframe",
              "summary": "{\n  \"name\": \"df\",\n  \"rows\": 5,\n  \"fields\": [\n    {\n      \"column\": \"sentence\",\n      \"properties\": {\n        \"dtype\": \"string\",\n        \"num_unique_values\": 5,\n        \"samples\": [\n          \"What happened was they knew his parents.\",\n          \"The box gradually contained the ball.\",\n          \"John made Mary to cook Korean food.\"\n        ],\n        \"semantic_type\": \"\",\n        \"description\": \"\"\n      }\n    },\n    {\n      \"column\": \"label\",\n      \"properties\": {\n        \"dtype\": \"number\",\n        \"std\": 0,\n        \"min\": 0,\n        \"max\": 0,\n        \"num_unique_values\": 1,\n        \"samples\": [\n          0\n        ],\n        \"semantic_type\": \"\",\n        \"description\": \"\"\n      }\n    }\n  ]\n}"
            }
          },
          "metadata": {},
          "execution_count": 7
        }
      ]
    },
    {
      "cell_type": "code",
      "metadata": {
        "id": "GuE5BqICAne2"
      },
      "source": [
        "sentences = df.sentence.values\n",
        "labels = df.label.values"
      ],
      "execution_count": null,
      "outputs": []
    },
    {
      "cell_type": "markdown",
      "metadata": {
        "id": "ex5O1eV-Pfct"
      },
      "source": [
        "# 3. Tokenization & Input Formatting\n",
        "\n",
        "이 섹션에서는 데이터 세트를 BERT가 학습할 수 있는 형식으로 변환합니다."
      ]
    },
    {
      "cell_type": "markdown",
      "metadata": {
        "id": "-8kEDRvShcU5"
      },
      "source": [
        "## 3.1. BERT Tokenizer"
      ]
    },
    {
      "cell_type": "markdown",
      "metadata": {
        "id": "bWOPOyWghJp2"
      },
      "source": [
        "텍스트를 BERT에 공급하려면 텍스트를 토큰으로 분할한 다음 이러한 토큰을 토크나이저 어휘의 인덱스에 매핑해야 합니다.\n",
        "\n",
        "토큰화는 BERT에 포함된 토크나이저에 의해 수행되어야 합니다."
      ]
    },
    {
      "cell_type": "code",
      "metadata": {
        "id": "Z474sSC6oe7A",
        "colab": {
          "base_uri": "https://localhost:8080/",
          "height": 294,
          "referenced_widgets": [
            "e66dfe1a7cc840b6a916c3f4edac7a5a",
            "67fb10f882bc4fb1ab1f5e22bd58ebc6",
            "cb5280c6762a4a94a8d09178de1b1cbd",
            "ddc16631d6fe41bbb14a62e19bce3e16",
            "b227f69f31a24bcc97391a57c10404ab",
            "03abb3f760b341dc9105cceead28121e",
            "6c19a5753b2049259426a0c3ac7e525b",
            "7bb22ee211af4cc4a33b417d8947d33c",
            "ec252044a331404ca43d64027641c432",
            "2f313bf31bda48d1b835935e773d5f33",
            "a7e7d1a46124433f8849de4618edf22e",
            "8c65e246c2a94ef58f95d260a7e38126",
            "f135dfe99dd440e389a927b498301c6d",
            "15d8e9ef2f084350ba18693051347a23",
            "5c26c2a54eae46049254989da7cb24d8",
            "ca8b6e97e94e4e418aac18929fcc1f9b",
            "d2c6fec0e6d14256a6d13f2925a57fc7",
            "678509ca021344f394c4e0f282f7364e",
            "f7b42a7e99574643b5df1c980ddefcb2",
            "b22584ede2d34a78ae957d9120e0b876",
            "531bdd6b5d7e4117a6ebf34652a78dfc",
            "0bc74023582e481191bff77b22d37da3",
            "bbd195c1c2f94a5682875b95a7c8d48a",
            "ef7c3f5b0a874f64a4ae7a11d549b410",
            "9b04d310ada24da482ed0e315c28c78e",
            "2199e3a7590044b796f58d5f7ebc57bf",
            "a83df2fdc55d4be8a123a89597f7cb99",
            "fd1c2cb0abbc4c95814791138dbceee9",
            "e5f2df2881514300bd3a85deb156bba4",
            "70ce68d9a62e4cde8e96a2d62bfddd95",
            "dca456f0ffb14f05a68f3b6db232798c",
            "e7618dfcd20443898c8b1d310957b072",
            "5adec058dfc44d61b15b4e7a53d64e9a",
            "a5ebb85e3bb243edbbe1814254a7e849",
            "c3efc0d78a6b411c9b83a5d7a3329071",
            "49b768854550460d890aa975db45c1b1",
            "0f0cc348362a4395b1d906c12208ba0c",
            "81738654730444818ec2ecf3df8d29a6",
            "d09c2805d6484d5c90199a4b51df9be1",
            "3025369e2bae43a5a0ffb83bd750aa23",
            "ccf12bc1db8042bd89dd68bf6ff7aa81",
            "e9ecf425da3045d1a6f21795acb88ff3",
            "22814da86a7743f488aee17176ef9774",
            "6ac8def140f94f13a6c6e4c6e02c4524"
          ]
        },
        "outputId": "6c64decb-9b9f-4fc7-f97f-2f25214a4f71"
      },
      "source": [
        "from transformers import BertTokenizer\n",
        "\n",
        "print('Loading BERT tokenizer...')\n",
        "\n",
        "# 'bert-base-uncased'라는 미리 학습된 BERT 모델의 토크나이저를 로드. uncased는 대소문자를 구분하지 않도록 설정된 모델\n",
        "# do_lower_case=True : 입력 텍스트를 모두 소문자로 변환하도록 설정\n",
        "tokenizer = BertTokenizer.from_pretrained('bert-base-uncased', do_lower_case=True)"
      ],
      "execution_count": null,
      "outputs": [
        {
          "output_type": "stream",
          "name": "stdout",
          "text": [
            "Loading BERT tokenizer...\n"
          ]
        },
        {
          "output_type": "stream",
          "name": "stderr",
          "text": [
            "/usr/local/lib/python3.11/dist-packages/huggingface_hub/utils/_auth.py:94: UserWarning: \n",
            "The secret `HF_TOKEN` does not exist in your Colab secrets.\n",
            "To authenticate with the Hugging Face Hub, create a token in your settings tab (https://huggingface.co/settings/tokens), set it as secret in your Google Colab and restart your session.\n",
            "You will be able to reuse this secret in all of your notebooks.\n",
            "Please note that authentication is recommended but still optional to access public models or datasets.\n",
            "  warnings.warn(\n"
          ]
        },
        {
          "output_type": "display_data",
          "data": {
            "text/plain": [
              "tokenizer_config.json:   0%|          | 0.00/48.0 [00:00<?, ?B/s]"
            ],
            "application/vnd.jupyter.widget-view+json": {
              "version_major": 2,
              "version_minor": 0,
              "model_id": "e66dfe1a7cc840b6a916c3f4edac7a5a"
            }
          },
          "metadata": {}
        },
        {
          "output_type": "display_data",
          "data": {
            "text/plain": [
              "vocab.txt:   0%|          | 0.00/232k [00:00<?, ?B/s]"
            ],
            "application/vnd.jupyter.widget-view+json": {
              "version_major": 2,
              "version_minor": 0,
              "model_id": "8c65e246c2a94ef58f95d260a7e38126"
            }
          },
          "metadata": {}
        },
        {
          "output_type": "display_data",
          "data": {
            "text/plain": [
              "tokenizer.json:   0%|          | 0.00/466k [00:00<?, ?B/s]"
            ],
            "application/vnd.jupyter.widget-view+json": {
              "version_major": 2,
              "version_minor": 0,
              "model_id": "bbd195c1c2f94a5682875b95a7c8d48a"
            }
          },
          "metadata": {}
        },
        {
          "output_type": "display_data",
          "data": {
            "text/plain": [
              "config.json:   0%|          | 0.00/570 [00:00<?, ?B/s]"
            ],
            "application/vnd.jupyter.widget-view+json": {
              "version_major": 2,
              "version_minor": 0,
              "model_id": "a5ebb85e3bb243edbbe1814254a7e849"
            }
          },
          "metadata": {}
        }
      ]
    },
    {
      "cell_type": "code",
      "metadata": {
        "id": "dLIbudgfh6F0",
        "colab": {
          "base_uri": "https://localhost:8080/"
        },
        "outputId": "ad28281a-16a9-47f4-f1dc-6fd9c352d0c2"
      },
      "source": [
        "# Print the original sentence.\n",
        "print(' Original: ', sentences[0])\n",
        "\n",
        "# Print the sentence split into tokens. / BERT 토크나이저로 토큰화한 결과 출력\n",
        "print('Tokenized: ', tokenizer.tokenize(sentences[0]))\n",
        "\n",
        "# Print the sentence mapped to token ids. / 각 토큰을 BERT 모델이 이해할 수 있는 고유한 토큰 ID로 변환하여 출력. 이때, BERT 모델은 토큰을 ID로 매핑하여 처리\n",
        "print('Token IDs: ', tokenizer.convert_tokens_to_ids(tokenizer.tokenize(sentences[0])))"
      ],
      "execution_count": null,
      "outputs": [
        {
          "output_type": "stream",
          "name": "stdout",
          "text": [
            " Original:  Our friends won't buy this analysis, let alone the next one we propose.\n",
            "Tokenized:  ['our', 'friends', 'won', \"'\", 't', 'buy', 'this', 'analysis', ',', 'let', 'alone', 'the', 'next', 'one', 'we', 'propose', '.']\n",
            "Token IDs:  [2256, 2814, 2180, 1005, 1056, 4965, 2023, 4106, 1010, 2292, 2894, 1996, 2279, 2028, 2057, 16599, 1012]\n"
          ]
        }
      ]
    },
    {
      "cell_type": "markdown",
      "metadata": {
        "id": "WeNIc4auFUdF"
      },
      "source": [
        "실제로 모든 문장을 변환할 때 `tokenize`와 `convert_tokens_to_ids`를 별도로 호출하는 대신 `tokenize.encode` 함수를 사용하여 두 단계를 모두 처리합니다.\n",
        "\n",
        "하지만 그렇게 하기 전에 BERT의 형식 요구 사항 중 일부에 대해 살펴보겠습니다다."
      ]
    },
    {
      "cell_type": "markdown",
      "metadata": {
        "id": "viKGCCh8izww"
      },
      "source": [
        "## 3.2. Required Formatting"
      ]
    },
    {
      "cell_type": "markdown",
      "metadata": {
        "id": "yDcqNlvVhL5W"
      },
      "source": [
        "위의 코드에는 여기서 살펴볼 몇 가지 필수 형식 지정 단계가 생략되었습니다.\n",
        "\n",
        "\n",
        "우리는 다음을 수행해야 합니다.\n",
        "1. 각 문장의 시작과 끝 부분에 특수 토큰을 추가.\n",
        "2. 모든 문장을 하나의 일정한 길이로 채우고 자릅니다.\n",
        "3. \"attention mask\"를 사용하여 실제 토큰과 패딩 토큰을 명시적으로 구별합니다."
      ]
    },
    {
      "cell_type": "markdown",
      "metadata": {
        "id": "V6mceWWOjZnw"
      },
      "source": [
        "### Special Tokens\n"
      ]
    },
    {
      "cell_type": "markdown",
      "metadata": {
        "id": "Ykk0P9JiKtVe"
      },
      "source": [
        "**`[SEP]`**\n",
        "\n",
        "모든 문장 끝에 특수 `[SEP]` 토큰을 추가해야 합니다.\n",
        "\n",
        "이 토큰은 BERT에 두 개의 별도 문장이 제공됨을 알립니다."
      ]
    },
    {
      "cell_type": "markdown",
      "metadata": {
        "id": "86C9objaKu8f"
      },
      "source": [
        "**`[CLS]`**\n",
        "\n",
        "분류 작업을 위해서는 모든 문장의 시작 부분에 특수 `[CLS]` 토큰을 추가해야 합니다.\n",
        "\n",
        "이 토큰은 특별한 의미를 갖습니다. BERT는 12개의 Transformer 레이어로 구성됩니다. 각 transformer는 토큰 임베딩 목록을 가져와 출력에 동일한 수의 임베딩을 생성합니다.\n",
        "\n",
        "![Illustration of CLS token purpose](http://www.mccormickml.com/assets/BERT/CLS_token_500x606.png)\n",
        "\n",
        "최종(12번째) transformer의 출력에서 *classifier는 *첫 번째 임베딩([CLS] 토큰에 해당)만 사용합니다*.\n",
        "\n",
        "또한 BERT는 분류를 위해 이 [CLS] 토큰만 사용하도록 훈련되었기 때문에 모델이 분류 단계에 필요한 모든 것을 단일 768 값 임베딩 벡터로 인코딩하도록 되었습니다.\n",
        "\n"
      ]
    },
    {
      "cell_type": "markdown",
      "metadata": {
        "id": "u51v0kFxeteu"
      },
      "source": [
        "### Sentence Length & Attention Mask\n",
        "\n"
      ]
    },
    {
      "cell_type": "markdown",
      "metadata": {
        "id": "qPNuwqZVK3T6"
      },
      "source": [
        "BERT에는 두 가지 제약 조건이 있습니다.\n",
        "1. 모든 문장은 고정된 단일 길이로 채워지거나 잘려야 합니다.\n",
        "2. 최대 문장 길이는 512 토큰입니다.\n",
        "\n",
        "패딩은 BERT 어휘의 인덱스 0에 있는 특수 `[PAD]` 토큰을 사용하여 수행됩니다. 아래 그림은 8개 토큰의 \"MAX_LEN\"에 대한 패딩을 보여줍니다.\n",
        "\n",
        "<img src=\"http://www.mccormickml.com/assets/BERT/padding_and_mask.png\" width=\"600\">\n",
        "\n",
        "\"attention mask\"는 단순히 패딩되는 토큰과 패딩되지 않는 토큰을 나타내는 1과 0의 배열입니다.\n"
      ]
    },
    {
      "cell_type": "markdown",
      "source": [
        "![image.png](data:image/png;base64,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)"
      ],
      "metadata": {
        "id": "P7ZYqvE3Xd5m"
      }
    },
    {
      "cell_type": "markdown",
      "metadata": {
        "id": "l6w8elb-58GJ"
      },
      "source": [
        "## 3.2. Sentences to IDs"
      ]
    },
    {
      "cell_type": "markdown",
      "metadata": {
        "id": "1M296yz577fV"
      },
      "source": [
        "`tokenizer.encode` 함수는 여러 단계를 결합합니다:\n",
        "1. 문장을 토큰으로 나눕니다.\n",
        "2. 특수 `[CLS]` 및 `[SEP]` 토큰을 추가합니다.\n",
        "3. 토큰을 해당 ID에 매핑합니다.\n"
      ]
    },
    {
      "cell_type": "code",
      "metadata": {
        "id": "2bBdb3pt8LuQ",
        "colab": {
          "base_uri": "https://localhost:8080/"
        },
        "outputId": "f7e6f16a-0142-4095-d299-71d82f522cbf"
      },
      "source": [
        "# Tokenize all of the sentences and map the tokens to thier word IDs.\n",
        "input_ids = []\n",
        "\n",
        "# For every sentence...\n",
        "for sent in sentences:\n",
        "    # `encode` will:\n",
        "    #   (1) Tokenize the sentence.\n",
        "    #   (2) Prepend the `[CLS]` token to the start.\n",
        "    #   (3) Append the `[SEP]` token to the end.\n",
        "    #   (4) Map tokens to their IDs.\n",
        "    encoded_sent = tokenizer.encode(\n",
        "                        sent,                      # Sentence to encode.\n",
        "                        add_special_tokens = True, # Add '[CLS]' and '[SEP]'\n",
        "\n",
        "                        # This function also supports truncation and conversion\n",
        "                        # to pytorch tensors, but we need to do padding, so we\n",
        "                        # can't use these features :( .\n",
        "                        #max_length = 128,          # Truncate all sentences.\n",
        "                        #return_tensors = 'pt',     # Return pytorch tensors.\n",
        "                   )\n",
        "\n",
        "    # Add the encoded sentence to the list.\n",
        "    input_ids.append(encoded_sent)\n",
        "\n",
        "# Print sentence 0, now as a list of IDs.\n",
        "print('Original: ', sentences[0])\n",
        "print('Token IDs:', input_ids[0])"
      ],
      "execution_count": null,
      "outputs": [
        {
          "output_type": "stream",
          "name": "stdout",
          "text": [
            "Original:  Our friends won't buy this analysis, let alone the next one we propose.\n",
            "Token IDs: [101, 2256, 2814, 2180, 1005, 1056, 4965, 2023, 4106, 1010, 2292, 2894, 1996, 2279, 2028, 2057, 16599, 1012, 102]\n"
          ]
        }
      ]
    },
    {
      "cell_type": "markdown",
      "metadata": {
        "id": "WhwCKszh6ych"
      },
      "source": [
        "## 3.3. Padding & Truncating"
      ]
    },
    {
      "cell_type": "markdown",
      "metadata": {
        "id": "xytsw1oIfnX0"
      },
      "source": [
        "시퀀스를 모두 채우고 잘라서 길이가 모두 'MAX_LEN'이 되도록 합니다."
      ]
    },
    {
      "cell_type": "markdown",
      "metadata": {
        "id": "zqiWTDrn_nGB"
      },
      "source": [
        "First, what's the maximum sentence length in our dataset?"
      ]
    },
    {
      "cell_type": "code",
      "metadata": {
        "id": "JhUZO9vc_l6T",
        "colab": {
          "base_uri": "https://localhost:8080/"
        },
        "outputId": "d0101db0-e9c5-4c01-bc32-5f16e3a7ca8a"
      },
      "source": [
        "print('Max sentence length: ', max([len(sen) for sen in input_ids]))"
      ],
      "execution_count": null,
      "outputs": [
        {
          "output_type": "stream",
          "name": "stdout",
          "text": [
            "Max sentence length:  47\n"
          ]
        }
      ]
    },
    {
      "cell_type": "code",
      "metadata": {
        "id": "Cp9BPRd1tMIo",
        "colab": {
          "base_uri": "https://localhost:8080/"
        },
        "outputId": "52977e75-5d7d-4b0e-c1fe-e79c090062f1"
      },
      "source": [
        "# We'll borrow the `pad_sequences` utility function to do this.\n",
        "from keras.preprocessing.sequence import pad_sequences\n",
        "\n",
        "# Set the maximum sequence length.\n",
        "# I've chosen 64 somewhat arbitrarily. It's slightly larger than the\n",
        "# maximum training sentence length of 47...\n",
        "MAX_LEN = 64\n",
        "\n",
        "print('\\nPadding/truncating all sentences to %d values...' % MAX_LEN)\n",
        "\n",
        "print('\\nPadding token: \"{:}\", ID: {:}'.format(tokenizer.pad_token, tokenizer.pad_token_id))\n",
        "\n",
        "# Pad our input tokens with value 0.\n",
        "# \"post\" indicates that we want to pad and truncate at the end of the sequence,\n",
        "# as opposed to the beginning.\n",
        "input_ids = pad_sequences(input_ids, maxlen=MAX_LEN, dtype=\"long\",\n",
        "                          value=0, truncating=\"post\", padding=\"post\")\n",
        "\n",
        "print('\\nDone.')"
      ],
      "execution_count": null,
      "outputs": [
        {
          "output_type": "stream",
          "name": "stdout",
          "text": [
            "\n",
            "Padding/truncating all sentences to 64 values...\n",
            "\n",
            "Padding token: \"[PAD]\", ID: 0\n",
            "\n",
            "Done.\n"
          ]
        }
      ]
    },
    {
      "cell_type": "markdown",
      "metadata": {
        "id": "kDs-MYtYH8sL"
      },
      "source": [
        "## 3.4. Attention Masks"
      ]
    },
    {
      "cell_type": "markdown",
      "metadata": {
        "id": "KhGulL1pExCT"
      },
      "source": [
        "어텐션 마스크는 어떤 토큰이 실제 단어인지, 어떤 토큰이 패딩인지를 명확하게 보여줍니다.\n",
        "\n",
        "BERT 어휘는 ID 0을 사용하지 않으므로 토큰 ID가 0이면 패딩이고 그렇지 않으면 실제 토큰입니다."
      ]
    },
    {
      "cell_type": "code",
      "metadata": {
        "id": "cDoC24LeEv3N"
      },
      "source": [
        "# Create attention masks\n",
        "attention_masks = []\n",
        "\n",
        "# For each sentence...\n",
        "for sent in input_ids:\n",
        "\n",
        "    # Create the attention mask.\n",
        "    #   - If a token ID is 0, then it's padding, set the mask to 0.\n",
        "    #   - If a token ID is > 0, then it's a real token, set the mask to 1.\n",
        "    att_mask = [int(token_id > 0) for token_id in sent]\n",
        "\n",
        "    # Store the attention mask for this sentence.\n",
        "    attention_masks.append(att_mask)"
      ],
      "execution_count": null,
      "outputs": []
    },
    {
      "cell_type": "markdown",
      "metadata": {
        "id": "aRp4O7D295d_"
      },
      "source": [
        "## 3.5. Training & Validation Split\n"
      ]
    },
    {
      "cell_type": "markdown",
      "metadata": {
        "id": "qu0ao7p8rb06"
      },
      "source": [
        "train/test를 분리합니다."
      ]
    },
    {
      "cell_type": "code",
      "metadata": {
        "id": "aFbE-UHvsb7-"
      },
      "source": [
        "# Use train_test_split to split our data into train and validation sets for\n",
        "# training\n",
        "from sklearn.model_selection import train_test_split\n",
        "\n",
        "# Use 90% for training and 10% for validation.\n",
        "train_inputs, validation_inputs, train_labels, validation_labels = train_test_split(input_ids, labels,\n",
        "                                                            random_state=2018, test_size=0.1)\n",
        "# Do the same for the masks.\n",
        "train_masks, validation_masks, _, _ = train_test_split(attention_masks, labels,\n",
        "                                             random_state=2018, test_size=0.1)"
      ],
      "execution_count": null,
      "outputs": []
    },
    {
      "cell_type": "markdown",
      "metadata": {
        "id": "7LzSbTqW9_BR"
      },
      "source": [
        "## 3.6. Converting to PyTorch Data Types"
      ]
    },
    {
      "cell_type": "markdown",
      "metadata": {
        "id": "6p1uXczp-Je4"
      },
      "source": [
        "우리 모델은 numpy.ndarrays 대신 PyTorch 텐서를 사용합니다."
      ]
    },
    {
      "cell_type": "code",
      "metadata": {
        "id": "jw5K2A5Ko1RF"
      },
      "source": [
        "# Convert all inputs and labels into torch tensors, the required datatype\n",
        "# for our model.\n",
        "train_inputs = torch.tensor(train_inputs)\n",
        "validation_inputs = torch.tensor(validation_inputs)\n",
        "\n",
        "train_labels = torch.tensor(train_labels)\n",
        "validation_labels = torch.tensor(validation_labels)\n",
        "\n",
        "train_masks = torch.tensor(train_masks)\n",
        "validation_masks = torch.tensor(validation_masks)"
      ],
      "execution_count": null,
      "outputs": []
    },
    {
      "cell_type": "markdown",
      "metadata": {
        "id": "dD9i6Z2pG-sN"
      },
      "source": [
        "또한 토치 DataLoader 클래스를 사용하여 데이터세트에 대한 반복자를 생성합니다. 이는 for 루프와 달리 반복자를 사용하면 전체 데이터세트를 메모리에 로드할 필요가 없기 때문에 훈련 중에 메모리를 절약하는 데 도움이 됩니다."
      ]
    },
    {
      "cell_type": "code",
      "metadata": {
        "id": "GEgLpFVlo1Z-"
      },
      "source": [
        "from torch.utils.data import TensorDataset, DataLoader, RandomSampler, SequentialSampler\n",
        "\n",
        "# The DataLoader needs to know our batch size for training, so we specify it\n",
        "# here.\n",
        "# For fine-tuning BERT on a specific task, the authors recommend a batch size of\n",
        "# 16 or 32.\n",
        "\n",
        "batch_size = 32\n",
        "\n",
        "# Create the DataLoader for our training set.\n",
        "train_data = TensorDataset(train_inputs, train_masks, train_labels)\n",
        "train_sampler = RandomSampler(train_data)\n",
        "train_dataloader = DataLoader(train_data, sampler=train_sampler, batch_size=batch_size)\n",
        "\n",
        "# Create the DataLoader for our validation set.\n",
        "validation_data = TensorDataset(validation_inputs, validation_masks, validation_labels)\n",
        "validation_sampler = SequentialSampler(validation_data)\n",
        "validation_dataloader = DataLoader(validation_data, sampler=validation_sampler, batch_size=batch_size)\n"
      ],
      "execution_count": null,
      "outputs": []
    },
    {
      "cell_type": "markdown",
      "metadata": {
        "id": "8bwa6Rts-02-"
      },
      "source": [
        "# 4. Train Our Classification Model"
      ]
    },
    {
      "cell_type": "markdown",
      "metadata": {
        "id": "D6TKgyUzPIQc"
      },
      "source": [
        "## 4.1. BertForSequenceClassification"
      ]
    },
    {
      "cell_type": "markdown",
      "metadata": {
        "id": "1sjzRT1V0zwm"
      },
      "source": [
        "이 작업을 위해 먼저 사전 훈련된 BERT 모델을 수정하여 분류를 위한 출력을 제공한 다음 전체 모델이 엔드투엔드에 적합할 때까지 데이터 세트에서 모델을 계속 훈련하려고 합니다.\n",
        "\n",
        "현재 미세 조정을 위해 Huggingface에서 제공되는 클래스 목록은 다음과 같습니다.\n",
        "* BertModel\n",
        "* BertForPreTraining\n",
        "* BertForMaskedLM\n",
        "* BertForNextSentence예측\n",
        "* **BertForSequenceClassification** -> 우리가 사용할 것입니다.\n",
        "* BertForTokenClassification\n",
        "* BertForQuestionAnswering\n",
        "\n",
        "이에 대한 문서는 [여기](https://huggingface.co/transformers/v2.2.0/model_doc/bert.html)에서 찾을 수 있습니다."
      ]
    },
    {
      "cell_type": "markdown",
      "metadata": {
        "id": "BXYitPoE-cjH"
      },
      "source": [
        "우리는 [BertForSequenceClassification](https://huggingface.co/transformers/v2.2.0/model_doc/bert.html#bertforsequenceclassification)을 사용할 것입니다. 이것은 문장 분류기로 사용할 분류를 위해 상단에 단일 선형 레이어가 추가된 일반 BERT 모델입니다. 입력 데이터를 제공하면 사전 훈련된 전체 BERT 모델과 훈련되지 않은 추가 분류 계층이 특정 작업에 대해 훈련됩니다."
      ]
    },
    {
      "cell_type": "markdown",
      "metadata": {
        "id": "WnQW9E-bBCRt"
      },
      "source": [
        "`from_pretrained` 에 대한 문서는 [여기](https://huggingface.co/transformers/v2.2.0/main_classes/model.html#transformers.PreTrainedModel.from_pretrained)에 있습니다.\n",
        "추가적인 parameter는 [여기](https://huggingface.co/transformers/v2.2.0/main_classes/configuration.html#transformers.PretrainedConfig)에 있습니다."
      ]
    },
    {
      "cell_type": "code",
      "metadata": {
        "id": "gFsCTp_mporB",
        "colab": {
          "base_uri": "https://localhost:8080/",
          "height": 932,
          "referenced_widgets": [
            "c02d72f477c94ac8b30d8aaa0147fbee",
            "d31a7c7386db418bb5d2010f4b62dd03",
            "2443621ed8cf4943b6d575cbef26d0cf",
            "8fb525fd2bd947c38ed229ded940e019",
            "f3360efcda984ad09e013be79a3d61ea",
            "de352abf78f7492d9f2be037ee437a0b",
            "aa0a4c2f98bf44798b77ef8237653319",
            "611fab9dec4947f88572d27d5fecfd22",
            "30486322e6704ee1a98a7c639affe686",
            "138dd628cdb0459d87911a033110e54b",
            "e4e5fe80e5e14437ad47c7627305c038"
          ]
        },
        "outputId": "23889bfa-27f9-4ecc-bbf0-36f68bb628d6"
      },
      "source": [
        "from transformers import BertForSequenceClassification, AdamW, BertConfig\n",
        "\n",
        "# Load BertForSequenceClassification, the pretrained BERT model with a single\n",
        "# linear classification layer on top. -> BERT 모델의 마지막에 선형 분류 레이어 추가\n",
        "# BERT 모델의 마지막 층은 고차원 벡터(예: 768 차원)를 출력, 이 벡터는 선형 레이어를 통과하여 원하는 차원(이진 분류에서는 2개)으로 변환\n",
        "\n",
        "# BERT는 내부적으로 BertForSequenceClassification에서 CrossEntropyLoss를 사용해 예측된 클래스와 실제 레이블 간의 차이를 계산\n",
        "model = BertForSequenceClassification.from_pretrained(\n",
        "    \"bert-base-uncased\", # Use the 12-layer BERT model, with an uncased vocab.\n",
        "    num_labels = 2, # The number of output labels--2 for binary classification.\n",
        "                    # You can increase this for multi-class tasks.\n",
        "    output_attentions = False, # Whether the model returns attentions weights.\n",
        "    output_hidden_states = False, # Whether the model returns all hidden-states.\n",
        ")\n",
        "\n",
        "# Tell pytorch to run this model on the GPU.\n",
        "model.cuda()"
      ],
      "execution_count": null,
      "outputs": [
        {
          "output_type": "display_data",
          "data": {
            "text/plain": [
              "model.safetensors:   0%|          | 0.00/440M [00:00<?, ?B/s]"
            ],
            "application/vnd.jupyter.widget-view+json": {
              "version_major": 2,
              "version_minor": 0,
              "model_id": "c02d72f477c94ac8b30d8aaa0147fbee"
            }
          },
          "metadata": {}
        },
        {
          "output_type": "stream",
          "name": "stderr",
          "text": [
            "Some weights of BertForSequenceClassification were not initialized from the model checkpoint at bert-base-uncased and are newly initialized: ['classifier.bias', 'classifier.weight']\n",
            "You should probably TRAIN this model on a down-stream task to be able to use it for predictions and inference.\n"
          ]
        },
        {
          "output_type": "execute_result",
          "data": {
            "text/plain": [
              "BertForSequenceClassification(\n",
              "  (bert): BertModel(\n",
              "    (embeddings): BertEmbeddings(\n",
              "      (word_embeddings): Embedding(30522, 768, padding_idx=0)\n",
              "      (position_embeddings): Embedding(512, 768)\n",
              "      (token_type_embeddings): Embedding(2, 768)\n",
              "      (LayerNorm): LayerNorm((768,), eps=1e-12, elementwise_affine=True)\n",
              "      (dropout): Dropout(p=0.1, inplace=False)\n",
              "    )\n",
              "    (encoder): BertEncoder(\n",
              "      (layer): ModuleList(\n",
              "        (0-11): 12 x BertLayer(\n",
              "          (attention): BertAttention(\n",
              "            (self): BertSdpaSelfAttention(\n",
              "              (query): Linear(in_features=768, out_features=768, bias=True)\n",
              "              (key): Linear(in_features=768, out_features=768, bias=True)\n",
              "              (value): Linear(in_features=768, out_features=768, bias=True)\n",
              "              (dropout): Dropout(p=0.1, inplace=False)\n",
              "            )\n",
              "            (output): BertSelfOutput(\n",
              "              (dense): Linear(in_features=768, out_features=768, bias=True)\n",
              "              (LayerNorm): LayerNorm((768,), eps=1e-12, elementwise_affine=True)\n",
              "              (dropout): Dropout(p=0.1, inplace=False)\n",
              "            )\n",
              "          )\n",
              "          (intermediate): BertIntermediate(\n",
              "            (dense): Linear(in_features=768, out_features=3072, bias=True)\n",
              "            (intermediate_act_fn): GELUActivation()\n",
              "          )\n",
              "          (output): BertOutput(\n",
              "            (dense): Linear(in_features=3072, out_features=768, bias=True)\n",
              "            (LayerNorm): LayerNorm((768,), eps=1e-12, elementwise_affine=True)\n",
              "            (dropout): Dropout(p=0.1, inplace=False)\n",
              "          )\n",
              "        )\n",
              "      )\n",
              "    )\n",
              "    (pooler): BertPooler(\n",
              "      (dense): Linear(in_features=768, out_features=768, bias=True)\n",
              "      (activation): Tanh()\n",
              "    )\n",
              "  )\n",
              "  (dropout): Dropout(p=0.1, inplace=False)\n",
              "  (classifier): Linear(in_features=768, out_features=2, bias=True)\n",
              ")"
            ]
          },
          "metadata": {},
          "execution_count": 18
        }
      ]
    },
    {
      "cell_type": "code",
      "metadata": {
        "id": "8PIiVlDYCtSq",
        "colab": {
          "base_uri": "https://localhost:8080/"
        },
        "outputId": "364c8efd-0801-4f5e-9d96-b488e25b822c"
      },
      "source": [
        "# Get all of the model's parameters as a list of tuples.\n",
        "params = list(model.named_parameters())\n",
        "\n",
        "print('The BERT model has {:} different named parameters.\\n'.format(len(params)))\n",
        "\n",
        "print('==== Embedding Layer ====\\n')\n",
        "\n",
        "for p in params[0:5]:\n",
        "    print(\"{:<55} {:>12}\".format(p[0], str(tuple(p[1].size()))))\n",
        "\n",
        "print('\\n==== First Transformer ====\\n')\n",
        "\n",
        "for p in params[5:21]:\n",
        "    print(\"{:<55} {:>12}\".format(p[0], str(tuple(p[1].size()))))\n",
        "\n",
        "print('\\n==== Output Layer ====\\n')\n",
        "\n",
        "for p in params[-4:]:\n",
        "    print(\"{:<55} {:>12}\".format(p[0], str(tuple(p[1].size()))))"
      ],
      "execution_count": null,
      "outputs": [
        {
          "output_type": "stream",
          "name": "stdout",
          "text": [
            "The BERT model has 201 different named parameters.\n",
            "\n",
            "==== Embedding Layer ====\n",
            "\n",
            "bert.embeddings.word_embeddings.weight                  (30522, 768)\n",
            "bert.embeddings.position_embeddings.weight                (512, 768)\n",
            "bert.embeddings.token_type_embeddings.weight                (2, 768)\n",
            "bert.embeddings.LayerNorm.weight                              (768,)\n",
            "bert.embeddings.LayerNorm.bias                                (768,)\n",
            "\n",
            "==== First Transformer ====\n",
            "\n",
            "bert.encoder.layer.0.attention.self.query.weight          (768, 768)\n",
            "bert.encoder.layer.0.attention.self.query.bias                (768,)\n",
            "bert.encoder.layer.0.attention.self.key.weight            (768, 768)\n",
            "bert.encoder.layer.0.attention.self.key.bias                  (768,)\n",
            "bert.encoder.layer.0.attention.self.value.weight          (768, 768)\n",
            "bert.encoder.layer.0.attention.self.value.bias                (768,)\n",
            "bert.encoder.layer.0.attention.output.dense.weight        (768, 768)\n",
            "bert.encoder.layer.0.attention.output.dense.bias              (768,)\n",
            "bert.encoder.layer.0.attention.output.LayerNorm.weight        (768,)\n",
            "bert.encoder.layer.0.attention.output.LayerNorm.bias          (768,)\n",
            "bert.encoder.layer.0.intermediate.dense.weight           (3072, 768)\n",
            "bert.encoder.layer.0.intermediate.dense.bias                 (3072,)\n",
            "bert.encoder.layer.0.output.dense.weight                 (768, 3072)\n",
            "bert.encoder.layer.0.output.dense.bias                        (768,)\n",
            "bert.encoder.layer.0.output.LayerNorm.weight                  (768,)\n",
            "bert.encoder.layer.0.output.LayerNorm.bias                    (768,)\n",
            "\n",
            "==== Output Layer ====\n",
            "\n",
            "bert.pooler.dense.weight                                  (768, 768)\n",
            "bert.pooler.dense.bias                                        (768,)\n",
            "classifier.weight                                           (2, 768)\n",
            "classifier.bias                                                 (2,)\n"
          ]
        }
      ]
    },
    {
      "cell_type": "markdown",
      "metadata": {
        "id": "qRWT-D4U_Pvx"
      },
      "source": [
        "## 4.2. Optimizer & Learning Rate Scheduler"
      ]
    },
    {
      "cell_type": "markdown",
      "metadata": {
        "id": "8o-VEBobKwHk"
      },
      "source": [
        "이제 모델을 로드했으므로 저장된 모델 내에서 훈련 하이퍼파라미터를 가져와야 합니다.\n",
        "\n",
        "미세 조정을 위해 저자는 다음 값 중에서 선택할 것을 권장합니다.\n",
        "- batch size: 16, 32(DataLoader를 생성할 때 32를 선택했습니다).\n",
        "- learning rate(Adam): 5e-5, 3e-5, 2e-5(여기에서는 2e-5를 사용하겠습니다).\n",
        "- epochs: 2, 3, 4(여기에서는 4를 사용합니다).\n",
        "\n",
        "엡실론 매개변수 `eps = 1e-8`은 \"구현 시 0으로 나누는 것을 방지하기 위한 매우 작은 숫자\"입니다([여기](https://machinelearningmastery.com/adam-optimization-algorithm-for-deep-learning/)).\n",
        "\n",
        "'run_glue.py' [여기](https://github.com/huggingface/transformers/blob/5bfcd0485ece086ebcbed2d008813037968a9e58/examples/run_glue.py#L109)에서 AdamW 최적화 프로그램 생성을 찾을 수 있습니다."
      ]
    },
    {
      "cell_type": "code",
      "metadata": {
        "id": "GLs72DuMODJO",
        "colab": {
          "base_uri": "https://localhost:8080/"
        },
        "outputId": "b96b7538-0c0b-47ab-e49c-beedac72aec5"
      },
      "source": [
        "# Note: AdamW is a class from the huggingface library (as opposed to pytorch)\n",
        "# I believe the 'W' stands for 'Weight Decay fix\"\n",
        "optimizer = AdamW(model.parameters(),\n",
        "                  lr = 2e-5, # args.learning_rate - default is 5e-5, our notebook had 2e-5\n",
        "                  eps = 1e-8 # args.adam_epsilon  - default is 1e-8.\n",
        "                )\n"
      ],
      "execution_count": null,
      "outputs": [
        {
          "output_type": "stream",
          "name": "stderr",
          "text": [
            "/usr/local/lib/python3.11/dist-packages/transformers/optimization.py:591: FutureWarning: This implementation of AdamW is deprecated and will be removed in a future version. Use the PyTorch implementation torch.optim.AdamW instead, or set `no_deprecation_warning=True` to disable this warning\n",
            "  warnings.warn(\n"
          ]
        }
      ]
    },
    {
      "cell_type": "code",
      "metadata": {
        "id": "-p0upAhhRiIx"
      },
      "source": [
        "from transformers import get_linear_schedule_with_warmup\n",
        "\n",
        "# Number of training epochs (authors recommend between 2 and 4)\n",
        "epochs = 4\n",
        "\n",
        "# Total number of training steps is number of batches * number of epochs.\n",
        "# len(train_dataloader)는 배치의 수를 출력\n",
        "total_steps = len(train_dataloader) * epochs\n",
        "\n",
        "# Create the learning rate scheduler.\n",
        "# get_linear_schedule_with_warmup는 학습률을 점진적으로 증가시켰다가 감소시키는 방식으로 학습을 진행\n",
        "# num_warmup_steps: 학습률을 warm-up할 스텝 수. 즉, 처음에는 작은 학습률로 시작하여 서서히 증가시킴. 여기서는 0으로 설정 -> warm-up을 하지 않음\n",
        "scheduler = get_linear_schedule_with_warmup(optimizer,\n",
        "                                            num_warmup_steps = 0, # Default value in run_glue.py\n",
        "                                            num_training_steps = total_steps)"
      ],
      "execution_count": null,
      "outputs": []
    },
    {
      "cell_type": "markdown",
      "metadata": {
        "id": "RqfmWwUR_Sox"
      },
      "source": [
        "## 4.3. Training Loop"
      ]
    },
    {
      "cell_type": "markdown",
      "metadata": {
        "id": "_QXZhFb4LnV5"
      },
      "source": [
        "다음은 훈련 루프입니다. 많은 일이 진행되고 있지만 기본적으로 루프의 각 패스에는 트라이닝 단계와 검증 단계가 있습니다. 각 패스에서 우리는 다음을 수행해야 합니다.\n",
        "\n",
        "훈련 루프:\n",
        "- 데이터 입력 및 라벨 압축 풀기\n",
        "- 가속을 위해 GPU에 데이터 로드\n",
        "- 이전 단계에서 계산된 그래디언트를 지웁니다.\n",
        "     - pytorch에서는 명시적으로 지우지 않는 한 기본적으로 그래디언트가 누적됩니다(RNN과 같은 작업에 유용함).\n",
        "- 순방향 패스(네트워크를 통해 입력 데이터 공급)\n",
        "- 역방향 전달(역전파)\n",
        "- 네트워크에 Optimizer.step()을 사용하여 매개변수를 업데이트하도록 지시합니다.\n",
        "- 진행상황 모니터링을 위한 변수 추적\n",
        "\n",
        "평가 루프:\n",
        "- 데이터 입력 및 라벨 압축 풀기\n",
        "- 가속을 위해 GPU에 데이터 로드\n",
        "- 순방향 패스(네트워크를 통해 입력 데이터 공급)\n",
        "- 검증 데이터의 손실을 계산하고 진행 상황을 모니터링하기 위한 변수를 추적합니다.\n"
      ]
    },
    {
      "cell_type": "code",
      "metadata": {
        "id": "9cQNvaZ9bnyy"
      },
      "source": [
        "import numpy as np\n",
        "\n",
        "# Function to calculate the accuracy of our predictions vs labels\n",
        "def flat_accuracy(preds, labels):\n",
        "    pred_flat = np.argmax(preds, axis=1).flatten()\n",
        "    labels_flat = labels.flatten()\n",
        "    return np.sum(pred_flat == labels_flat) / len(labels_flat)"
      ],
      "execution_count": null,
      "outputs": []
    },
    {
      "cell_type": "code",
      "metadata": {
        "id": "gpt6tR83keZD"
      },
      "source": [
        "import time\n",
        "import datetime\n",
        "\n",
        "def format_time(elapsed):\n",
        "    '''\n",
        "    Takes a time in seconds and returns a string hh:mm:ss\n",
        "    '''\n",
        "    # Round to the nearest second.\n",
        "    elapsed_rounded = int(round((elapsed)))\n",
        "\n",
        "    # Format as hh:mm:ss\n",
        "    return str(datetime.timedelta(seconds=elapsed_rounded))\n"
      ],
      "execution_count": null,
      "outputs": []
    },
    {
      "cell_type": "code",
      "metadata": {
        "id": "6J-FYdx6nFE_",
        "colab": {
          "base_uri": "https://localhost:8080/"
        },
        "outputId": "5df5f694-9695-4453-d685-46e7dc20be16"
      },
      "source": [
        "import random\n",
        "\n",
        "# This training code is based on the `run_glue.py` script here:\n",
        "# https://github.com/huggingface/transformers/blob/5bfcd0485ece086ebcbed2d008813037968a9e58/examples/run_glue.py#L128\n",
        "\n",
        "\n",
        "# Set the seed value all over the place to make this reproducible.\n",
        "seed_val = 42\n",
        "\n",
        "random.seed(seed_val)\n",
        "np.random.seed(seed_val)\n",
        "torch.manual_seed(seed_val)\n",
        "torch.cuda.manual_seed_all(seed_val)\n",
        "\n",
        "# Store the average loss after each epoch so we can plot them.\n",
        "loss_values = []\n",
        "\n",
        "# For each epoch...\n",
        "for epoch_i in range(0, epochs):\n",
        "\n",
        "    # ========================================\n",
        "    #               Training\n",
        "    # ========================================\n",
        "\n",
        "    # Perform one full pass over the training set.\n",
        "\n",
        "    print(\"\")\n",
        "    print('======== Epoch {:} / {:} ========'.format(epoch_i + 1, epochs))\n",
        "    print('Training...')\n",
        "\n",
        "    # Measure how long the training epoch takes.\n",
        "    t0 = time.time()\n",
        "\n",
        "    # Reset the total loss for this epoch.\n",
        "    total_loss = 0\n",
        "\n",
        "    # Put the model into training mode. Don't be mislead--the call to\n",
        "    # `train` just changes the *mode*, it doesn't *perform* the training.\n",
        "    # `dropout` and `batchnorm` layers behave differently during training\n",
        "    # vs. test (source: https://stackoverflow.com/questions/51433378/what-does-model-train-do-in-pytorch)\n",
        "    model.train()\n",
        "\n",
        "    # For each batch of training data...\n",
        "    for step, batch in enumerate(train_dataloader):\n",
        "\n",
        "        # Progress update every 40 batches.\n",
        "        if step % 40 == 0 and not step == 0:\n",
        "            # Calculate elapsed time in minutes.\n",
        "            elapsed = format_time(time.time() - t0)\n",
        "\n",
        "            # Report progress.\n",
        "            print('  Batch {:>5,}  of  {:>5,}.    Elapsed: {:}.'.format(step, len(train_dataloader), elapsed))\n",
        "\n",
        "        # Unpack this training batch from our dataloader.\n",
        "        #\n",
        "        # As we unpack the batch, we'll also copy each tensor to the GPU using the\n",
        "        # `to` method.\n",
        "        #\n",
        "        # `batch` contains three pytorch tensors:\n",
        "        #   [0]: input ids\n",
        "        #   [1]: attention masks\n",
        "        #   [2]: labels\n",
        "        b_input_ids = batch[0].to(device)\n",
        "        b_input_mask = batch[1].to(device)\n",
        "        b_labels = batch[2].to(device)\n",
        "\n",
        "        # Always clear any previously calculated gradients before performing a\n",
        "        # backward pass. PyTorch doesn't do this automatically because\n",
        "        # accumulating the gradients is \"convenient while training RNNs\".\n",
        "        # (source: https://stackoverflow.com/questions/48001598/why-do-we-need-to-call-zero-grad-in-pytorch)\n",
        "        model.zero_grad()\n",
        "\n",
        "        # Perform a forward pass (evaluate the model on this training batch).\n",
        "        # This will return the loss (rather than the model output) because we\n",
        "        # have provided the `labels`.\n",
        "        # The documentation for this `model` function is here:\n",
        "        # https://huggingface.co/transformers/v2.2.0/model_doc/bert.html#transformers.BertForSequenceClassification\n",
        "        outputs = model(b_input_ids,\n",
        "                    token_type_ids=None,\n",
        "                    attention_mask=b_input_mask,\n",
        "                    labels=b_labels)\n",
        "\n",
        "        # The call to `model` always returns a tuple, so we need to pull the\n",
        "        # loss value out of the tuple.\n",
        "        loss = outputs[0]\n",
        "\n",
        "        # Accumulate the training loss over all of the batches so that we can\n",
        "        # calculate the average loss at the end. `loss` is a Tensor containing a\n",
        "        # single value; the `.item()` function just returns the Python value\n",
        "        # from the tensor.\n",
        "        total_loss += loss.item()\n",
        "\n",
        "        # Perform a backward pass to calculate the gradients.\n",
        "        loss.backward()\n",
        "\n",
        "        # Clip the norm of the gradients to 1.0.\n",
        "        # This is to help prevent the \"exploding gradients\" problem.\n",
        "        torch.nn.utils.clip_grad_norm_(model.parameters(), 1.0)\n",
        "\n",
        "        # Update parameters and take a step using the computed gradient.\n",
        "        # The optimizer dictates the \"update rule\"--how the parameters are\n",
        "        # modified based on their gradients, the learning rate, etc.\n",
        "        optimizer.step()\n",
        "\n",
        "        # Update the learning rate.\n",
        "        scheduler.step()\n",
        "\n",
        "    # Calculate the average loss over the training data.\n",
        "    avg_train_loss = total_loss / len(train_dataloader)\n",
        "\n",
        "    # Store the loss value for plotting the learning curve.\n",
        "    loss_values.append(avg_train_loss)\n",
        "\n",
        "    print(\"\")\n",
        "    print(\"  Average training loss: {0:.2f}\".format(avg_train_loss))\n",
        "    print(\"  Training epcoh took: {:}\".format(format_time(time.time() - t0)))\n",
        "\n",
        "    # ========================================\n",
        "    #               Validation\n",
        "    # ========================================\n",
        "    # After the completion of each training epoch, measure our performance on\n",
        "    # our validation set.\n",
        "\n",
        "    print(\"\")\n",
        "    print(\"Running Validation...\")\n",
        "\n",
        "    t0 = time.time()\n",
        "\n",
        "    # Put the model in evaluation mode--the dropout layers behave differently\n",
        "    # during evaluation.\n",
        "    model.eval()\n",
        "\n",
        "    # Tracking variables\n",
        "    eval_loss, eval_accuracy = 0, 0\n",
        "    nb_eval_steps, nb_eval_examples = 0, 0\n",
        "\n",
        "    # Evaluate data for one epoch\n",
        "    for batch in validation_dataloader:\n",
        "\n",
        "        # Add batch to GPU\n",
        "        batch = tuple(t.to(device) for t in batch)\n",
        "\n",
        "        # Unpack the inputs from our dataloader\n",
        "        b_input_ids, b_input_mask, b_labels = batch\n",
        "\n",
        "        # Telling the model not to compute or store gradients, saving memory and\n",
        "        # speeding up validation\n",
        "        with torch.no_grad():\n",
        "\n",
        "            # Forward pass, calculate logit predictions.\n",
        "            # This will return the logits rather than the loss because we have\n",
        "            # not provided labels.\n",
        "            # token_type_ids is the same as the \"segment ids\", which\n",
        "            # differentiates sentence 1 and 2 in 2-sentence tasks.\n",
        "            # The documentation for this `model` function is here:\n",
        "            # https://huggingface.co/transformers/v2.2.0/model_doc/bert.html#transformers.BertForSequenceClassification\n",
        "            outputs = model(b_input_ids,\n",
        "                            token_type_ids=None,\n",
        "                            attention_mask=b_input_mask)\n",
        "\n",
        "        # Get the \"logits\" output by the model. The \"logits\" are the output\n",
        "        # values prior to applying an activation function like the softmax.\n",
        "        logits = outputs[0]\n",
        "\n",
        "        # Move logits and labels to CPU\n",
        "        logits = logits.detach().cpu().numpy()\n",
        "        label_ids = b_labels.to('cpu').numpy()\n",
        "\n",
        "        # Calculate the accuracy for this batch of test sentences.\n",
        "        tmp_eval_accuracy = flat_accuracy(logits, label_ids)\n",
        "\n",
        "        # Accumulate the total accuracy.\n",
        "        eval_accuracy += tmp_eval_accuracy\n",
        "\n",
        "        # Track the number of batches\n",
        "        nb_eval_steps += 1\n",
        "\n",
        "    # Report the final accuracy for this validation run.\n",
        "    print(\"  Accuracy: {0:.2f}\".format(eval_accuracy/nb_eval_steps))\n",
        "    print(\"  Validation took: {:}\".format(format_time(time.time() - t0)))\n",
        "\n",
        "print(\"\")\n",
        "print(\"Training complete!\")"
      ],
      "execution_count": null,
      "outputs": [
        {
          "output_type": "stream",
          "name": "stdout",
          "text": [
            "\n",
            "======== Epoch 1 / 4 ========\n",
            "Training...\n",
            "  Batch    40  of    241.    Elapsed: 0:00:13.\n",
            "  Batch    80  of    241.    Elapsed: 0:00:25.\n",
            "  Batch   120  of    241.    Elapsed: 0:00:37.\n",
            "  Batch   160  of    241.    Elapsed: 0:00:50.\n",
            "  Batch   200  of    241.    Elapsed: 0:01:02.\n",
            "  Batch   240  of    241.    Elapsed: 0:01:15.\n",
            "\n",
            "  Average training loss: 0.53\n",
            "  Training epcoh took: 0:01:15\n",
            "\n",
            "Running Validation...\n",
            "  Accuracy: 0.79\n",
            "  Validation took: 0:00:03\n",
            "\n",
            "======== Epoch 2 / 4 ========\n",
            "Training...\n",
            "  Batch    40  of    241.    Elapsed: 0:00:13.\n",
            "  Batch    80  of    241.    Elapsed: 0:00:26.\n",
            "  Batch   120  of    241.    Elapsed: 0:00:40.\n",
            "  Batch   160  of    241.    Elapsed: 0:00:53.\n",
            "  Batch   200  of    241.    Elapsed: 0:01:06.\n",
            "  Batch   240  of    241.    Elapsed: 0:01:19.\n",
            "\n",
            "  Average training loss: 0.33\n",
            "  Training epcoh took: 0:01:19\n",
            "\n",
            "Running Validation...\n",
            "  Accuracy: 0.82\n",
            "  Validation took: 0:00:03\n",
            "\n",
            "======== Epoch 3 / 4 ========\n",
            "Training...\n",
            "  Batch    40  of    241.    Elapsed: 0:00:13.\n",
            "  Batch    80  of    241.    Elapsed: 0:00:26.\n",
            "  Batch   120  of    241.    Elapsed: 0:00:40.\n",
            "  Batch   160  of    241.    Elapsed: 0:00:53.\n",
            "  Batch   200  of    241.    Elapsed: 0:01:06.\n",
            "  Batch   240  of    241.    Elapsed: 0:01:19.\n",
            "\n",
            "  Average training loss: 0.20\n",
            "  Training epcoh took: 0:01:19\n",
            "\n",
            "Running Validation...\n",
            "  Accuracy: 0.83\n",
            "  Validation took: 0:00:03\n",
            "\n",
            "======== Epoch 4 / 4 ========\n",
            "Training...\n",
            "  Batch    40  of    241.    Elapsed: 0:00:13.\n",
            "  Batch    80  of    241.    Elapsed: 0:00:26.\n",
            "  Batch   120  of    241.    Elapsed: 0:00:39.\n",
            "  Batch   160  of    241.    Elapsed: 0:00:53.\n",
            "  Batch   200  of    241.    Elapsed: 0:01:06.\n",
            "  Batch   240  of    241.    Elapsed: 0:01:19.\n",
            "\n",
            "  Average training loss: 0.14\n",
            "  Training epcoh took: 0:01:19\n",
            "\n",
            "Running Validation...\n",
            "  Accuracy: 0.83\n",
            "  Validation took: 0:00:03\n",
            "\n",
            "Training complete!\n"
          ]
        }
      ]
    },
    {
      "cell_type": "code",
      "metadata": {
        "id": "68xreA9JAmG5",
        "colab": {
          "base_uri": "https://localhost:8080/",
          "height": 592
        },
        "outputId": "1856d1c2-cd7f-4f0d-c2d8-f6f7333826c1"
      },
      "source": [
        "import matplotlib.pyplot as plt\n",
        "%matplotlib inline\n",
        "\n",
        "import seaborn as sns\n",
        "\n",
        "# Use plot styling from seaborn.\n",
        "sns.set(style='darkgrid')\n",
        "\n",
        "# Increase the plot size and font size.\n",
        "sns.set(font_scale=1.5)\n",
        "plt.rcParams[\"figure.figsize\"] = (12,6)\n",
        "\n",
        "# Plot the learning curve.\n",
        "plt.plot(loss_values, 'b-o')\n",
        "\n",
        "# Label the plot.\n",
        "plt.title(\"Training loss\")\n",
        "plt.xlabel(\"Epoch\")\n",
        "plt.ylabel(\"Loss\")\n",
        "\n",
        "plt.show()"
      ],
      "execution_count": null,
      "outputs": [
        {
          "output_type": "display_data",
          "data": {
            "text/plain": [
              "<Figure size 1200x600 with 1 Axes>"
            ],
            "image/png": "[encoded data removed]"
          },
          "metadata": {}
        }
      ]
    },
    {
      "cell_type": "markdown",
      "metadata": {
        "id": "mkyubuJSOzg3"
      },
      "source": [
        "# 5. Performance On Test Set"
      ]
    },
    {
      "cell_type": "markdown",
      "metadata": {
        "id": "DosV94BYIYxg"
      },
      "source": [
        "test 용 데이터세트를 로드하고 [Matthew의 상관 계수](https://scikit-learn.org/stable/modules/generated/sklearn.metrics.matthews_corrcoef.html)를 사용하여 예측을 평가합니다.\n",
        "\n",
        "이 지표를 사용하면 +1이 최고 점수이고 -1이 최저 점수입니다. 이런 식으로 우리는 이 특정 작업에 대한 최신 모델에 비해 우리가 얼마나 잘 수행하는지 확인할 수 있습니다."
      ]
    },
    {
      "cell_type": "markdown",
      "source": [
        "![image.png](data:image/png;base64,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)"
      ],
      "metadata": {
        "id": "v_j5w_6EXEmy"
      }
    },
    {
      "cell_type": "markdown",
      "metadata": {
        "id": "Tg42jJqqM68F"
      },
      "source": [
        "### 5.1. Data Preparation\n"
      ]
    },
    {
      "cell_type": "code",
      "metadata": {
        "id": "mAN0LZBOOPVh",
        "colab": {
          "base_uri": "https://localhost:8080/"
        },
        "outputId": "78f82c68-bf42-4ed3-818d-f0a7fd4351d9"
      },
      "source": [
        "import pandas as pd\n",
        "\n",
        "# Load the dataset into a pandas dataframe.\n",
        "df = pd.read_csv(\"./cola_public/raw/out_of_domain_dev.tsv\", delimiter='\\t', header=None, names=['sentence_source', 'label', 'label_notes', 'sentence'])\n",
        "\n",
        "# Report the number of sentences.\n",
        "print('Number of test sentences: {:,}\\n'.format(df.shape[0]))\n",
        "\n",
        "# Create sentence and label lists\n",
        "sentences = df.sentence.values\n",
        "labels = df.label.values\n",
        "\n",
        "# Tokenize all of the sentences and map the tokens to thier word IDs.\n",
        "input_ids = []\n",
        "\n",
        "# For every sentence...\n",
        "for sent in sentences:\n",
        "    # `encode` will:\n",
        "    #   (1) Tokenize the sentence.\n",
        "    #   (2) Prepend the `[CLS]` token to the start.\n",
        "    #   (3) Append the `[SEP]` token to the end.\n",
        "    #   (4) Map tokens to their IDs.\n",
        "    encoded_sent = tokenizer.encode(\n",
        "                        sent,                      # Sentence to encode.\n",
        "                        add_special_tokens = True, # Add '[CLS]' and '[SEP]'\n",
        "                   )\n",
        "\n",
        "    input_ids.append(encoded_sent)\n",
        "\n",
        "# Pad our input tokens\n",
        "input_ids = pad_sequences(input_ids, maxlen=MAX_LEN,\n",
        "                          dtype=\"long\", truncating=\"post\", padding=\"post\")\n",
        "\n",
        "# Create attention masks\n",
        "attention_masks = []\n",
        "\n",
        "# Create a mask of 1s for each token followed by 0s for padding\n",
        "for seq in input_ids:\n",
        "  seq_mask = [float(i>0) for i in seq]\n",
        "  attention_masks.append(seq_mask)\n",
        "\n",
        "# Convert to tensors.\n",
        "prediction_inputs = torch.tensor(input_ids)\n",
        "prediction_masks = torch.tensor(attention_masks)\n",
        "prediction_labels = torch.tensor(labels)\n",
        "\n",
        "# Set the batch size.\n",
        "batch_size = 32\n",
        "\n",
        "# Create the DataLoader.\n",
        "prediction_data = TensorDataset(prediction_inputs, prediction_masks, prediction_labels)\n",
        "prediction_sampler = SequentialSampler(prediction_data)\n",
        "prediction_dataloader = DataLoader(prediction_data, sampler=prediction_sampler, batch_size=batch_size)"
      ],
      "execution_count": null,
      "outputs": [
        {
          "output_type": "stream",
          "name": "stdout",
          "text": [
            "Number of test sentences: 516\n",
            "\n"
          ]
        }
      ]
    },
    {
      "cell_type": "markdown",
      "metadata": {
        "id": "16lctEOyNFik"
      },
      "source": [
        "## 5.2. Evaluate on Test Set\n"
      ]
    },
    {
      "cell_type": "code",
      "metadata": {
        "id": "Hba10sXR7Xi6",
        "colab": {
          "base_uri": "https://localhost:8080/"
        },
        "outputId": "12bed7a3-3d6c-45ea-a8f9-bacd891e3159"
      },
      "source": [
        "# Prediction on test set\n",
        "\n",
        "print('Predicting labels for {:,} test sentences...'.format(len(prediction_inputs)))\n",
        "\n",
        "# Put model in evaluation mode\n",
        "model.eval()\n",
        "\n",
        "# Tracking variables\n",
        "predictions , true_labels = [], []\n",
        "\n",
        "# Predict\n",
        "for batch in prediction_dataloader:\n",
        "  # Add batch to GPU\n",
        "  batch = tuple(t.to(device) for t in batch)\n",
        "\n",
        "  # Unpack the inputs from our dataloader\n",
        "  b_input_ids, b_input_mask, b_labels = batch\n",
        "\n",
        "  # Telling the model not to compute or store gradients, saving memory and\n",
        "  # speeding up prediction\n",
        "  with torch.no_grad():\n",
        "      # Forward pass, calculate logit predictions\n",
        "      outputs = model(b_input_ids, token_type_ids=None,\n",
        "                      attention_mask=b_input_mask)\n",
        "\n",
        "  logits = outputs[0]\n",
        "\n",
        "  # Move logits and labels to CPU\n",
        "  logits = logits.detach().cpu().numpy()\n",
        "  label_ids = b_labels.to('cpu').numpy()\n",
        "\n",
        "  # Store predictions and true labels\n",
        "  predictions.append(logits)\n",
        "  true_labels.append(label_ids)\n",
        "\n",
        "print('    DONE.')"
      ],
      "execution_count": null,
      "outputs": [
        {
          "output_type": "stream",
          "name": "stdout",
          "text": [
            "Predicting labels for 516 test sentences...\n",
            "    DONE.\n"
          ]
        }
      ]
    },
    {
      "cell_type": "code",
      "metadata": {
        "id": "hWcy0X1hirdx",
        "colab": {
          "base_uri": "https://localhost:8080/"
        },
        "outputId": "b49ac008-abf2-419b-b75d-ca11fe3c4abd"
      },
      "source": [
        "print('Positive samples: %d of %d (%.2f%%)' % (df.label.sum(), len(df.label), (df.label.sum() / len(df.label) * 100.0)))"
      ],
      "execution_count": null,
      "outputs": [
        {
          "output_type": "stream",
          "name": "stdout",
          "text": [
            "Positive samples: 354 of 516 (68.60%)\n"
          ]
        }
      ]
    },
    {
      "cell_type": "code",
      "metadata": {
        "id": "cRaZQ4XC7kLs",
        "colab": {
          "base_uri": "https://localhost:8080/"
        },
        "outputId": "425c1b6e-8fec-402a-b4fd-c213585935c2"
      },
      "source": [
        "from sklearn.metrics import matthews_corrcoef\n",
        "\n",
        "matthews_set = []\n",
        "\n",
        "# Evaluate each test batch using Matthew's correlation coefficient\n",
        "print('Calculating Matthews Corr. Coef. for each batch...')\n",
        "\n",
        "# For each input batch...\n",
        "for i in range(len(true_labels)):\n",
        "\n",
        "  # The predictions for this batch are a 2-column ndarray (one column for \"0\"\n",
        "  # and one column for \"1\"). Pick the label with the highest value and turn this\n",
        "  # in to a list of 0s and 1s.\n",
        "  pred_labels_i = np.argmax(predictions[i], axis=1).flatten()\n",
        "\n",
        "  # Calculate and store the coef for this batch.\n",
        "  matthews = matthews_corrcoef(true_labels[i], pred_labels_i)\n",
        "  matthews_set.append(matthews)"
      ],
      "execution_count": null,
      "outputs": [
        {
          "output_type": "stream",
          "name": "stdout",
          "text": [
            "Calculating Matthews Corr. Coef. for each batch...\n"
          ]
        }
      ]
    },
    {
      "cell_type": "code",
      "metadata": {
        "id": "xytAr_C48wnu",
        "colab": {
          "base_uri": "https://localhost:8080/"
        },
        "outputId": "2a87fed1-5678-4095-c4ec-71223f8e7479"
      },
      "source": [
        "matthews_set"
      ],
      "execution_count": null,
      "outputs": [
        {
          "output_type": "execute_result",
          "data": {
            "text/plain": [
              "[-0.14856415213808927,\n",
              " -0.21684543705982773,\n",
              " 0.4732058754737091,\n",
              " 0.23372319715296222,\n",
              " 0.3567530340063379,\n",
              " 0.6777932975034471,\n",
              " 0.4152273992686999,\n",
              " 0.0,\n",
              " 0.8320502943378436,\n",
              " 0.7530836820370708,\n",
              " 0.7679476477883045,\n",
              " 0.647150228929434,\n",
              " 0.8749672939989046,\n",
              " 0.7141684885491869,\n",
              " 0.1794871794871795,\n",
              " 0.41281272698065485,\n",
              " 0.0]"
            ]
          },
          "metadata": {},
          "execution_count": 30
        }
      ]
    },
    {
      "cell_type": "code",
      "metadata": {
        "id": "oCYZa1lQ8Jn8",
        "colab": {
          "base_uri": "https://localhost:8080/"
        },
        "outputId": "0c0c3c6e-44d6-46c8-83da-675073eba541"
      },
      "source": [
        "# Combine the predictions for each batch into a single list of 0s and 1s.\n",
        "flat_predictions = [item for sublist in predictions for item in sublist]\n",
        "flat_predictions = np.argmax(flat_predictions, axis=1).flatten()\n",
        "\n",
        "# Combine the correct labels for each batch into a single list.\n",
        "flat_true_labels = [item for sublist in true_labels for item in sublist]\n",
        "\n",
        "# Calculate the MCC\n",
        "mcc = matthews_corrcoef(flat_true_labels, flat_predictions)\n",
        "\n",
        "print('MCC: %.3f' % mcc)"
      ],
      "execution_count": null,
      "outputs": [
        {
          "output_type": "stream",
          "name": "stdout",
          "text": [
            "MCC: 0.492\n"
          ]
        }
      ]
    },
    {
      "cell_type": "code",
      "source": [],
      "metadata": {
        "id": "ghi9sEpV_kd4"
      },
      "execution_count": null,
      "outputs": []
    }
  ]
}